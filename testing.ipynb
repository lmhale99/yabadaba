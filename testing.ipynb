{
 "cells": [
  {
   "cell_type": "code",
   "execution_count": 1,
   "id": "35300db3-d2de-4b30-935b-a89683cfabfd",
   "metadata": {},
   "outputs": [],
   "source": [
    "import yabadaba"
   ]
  },
  {
   "cell_type": "code",
   "execution_count": 2,
   "id": "7bd62d5c-c2b0-453f-b1e9-2bc246e62963",
   "metadata": {},
   "outputs": [],
   "source": [
    "from typing import Union, Optional\n",
    "import io\n",
    "\n",
    "from yabadaba.record import Record\n",
    "from yabadaba import load_query\n",
    "from yabadaba.parameter import StrParameter\n",
    "\n",
    "from DataModelDict import DataModelDict as DM\n",
    "\n",
    "class FAQ(Record):\n",
    "    \"\"\"\n",
    "    Class for representing FAQ (frequently asked question) records.\n",
    "    \"\"\"\n",
    "    def __init__(self,\n",
    "                 model: Union[str, io.IOBase, DM, None] = None,\n",
    "                 name: Optional[str] = None,\n",
    "                 database = None,\n",
    "                 **kwargs: any):\n",
    "        \"\"\"\n",
    "        Initializes a Record object for a given style.\n",
    "        \n",
    "        Parameters\n",
    "        ----------\n",
    "        model : str, file-like object, DataModelDict\n",
    "            The contents of the record.\n",
    "        name : str, optional\n",
    "            The unique name to assign to the record.  If model is a file\n",
    "            path, then the default record name is the file name without\n",
    "            extension.\n",
    "        database : yabadaba.Database, optional\n",
    "            A default Database to associate with the Record, typically the\n",
    "            Database that the Record was obtained from.  Can allow for Record\n",
    "            methods to perform Database operations without needing to specify\n",
    "            which Database to use.\n",
    "        kwargs : any\n",
    "            Any record-specific attributes to assign.\n",
    "        \"\"\"\n",
    "        # Define parameters and queries\n",
    "        self.__question = StrParameter('question', self, None)\n",
    "        self.__question.add_query('str_contains', description='Search the FAQ question field to see if it contains certain strings.')\n",
    "        self.__answer = StrParameter('answer', self, None)\n",
    "        self.__answer.add_query('str_contains', description='Search the FAQ answer field to see if it contains certain strings.')\n",
    "        parameters = (self.__question, self.__answer)\n",
    "\n",
    "        super().__init__(model=model, name=name, database=database,\n",
    "                         parameters=parameters, **kwargs)\n",
    "\n",
    "    @property\n",
    "    def style(self):\n",
    "        \"\"\"str: The record style\"\"\"\n",
    "        return 'FAQ'\n",
    "\n",
    "    @property\n",
    "    def modelroot(self):\n",
    "        \"\"\"str: The root element of the content\"\"\"\n",
    "        return 'faq'\n",
    "    \n",
    "    @property\n",
    "    def xsl_filename(self):\n",
    "        \"\"\"tuple: The module path and file name of the record's xsl html transformer\"\"\"\n",
    "        return ('yabadaba.demo', 'FAQ.xsl')\n",
    "\n",
    "    @property\n",
    "    def xsd_filename(self):\n",
    "        \"\"\"tuple: The module path and file name of the record's xsd schema\"\"\"\n",
    "        return ('yabadaba.demo', 'FAQ.xsd')\n",
    "\n",
    "    @property\n",
    "    def question(self):\n",
    "        \"\"\"str: The frequently asked question.\"\"\"\n",
    "        return self.__question.value\n",
    "\n",
    "    @question.setter\n",
    "    def question(self, val):\n",
    "        self.__question.value = val\n",
    "\n",
    "    @property\n",
    "    def answer(self):\n",
    "        \"\"\"str: The answer to the frequently asked question.\"\"\"\n",
    "        return self.__answer.value\n",
    "\n",
    "    @answer.setter\n",
    "    def answer(self, val):\n",
    "        self.__answer.value = val\n"
   ]
  },
  {
   "cell_type": "code",
   "execution_count": 3,
   "id": "746162e4-2a3f-4a45-b78d-3e8da6725152",
   "metadata": {},
   "outputs": [],
   "source": [
    "faq = FAQ(name='poo', question='do I need to?', answer=)"
   ]
  },
  {
   "cell_type": "code",
   "execution_count": 4,
   "id": "fc63184b-cc34-4f9d-a93e-d4e544e36109",
   "metadata": {},
   "outputs": [
    {
     "data": {
      "text/plain": [
       "{'name': 'poo', 'question': 'do I need to?', 'answer': 'not right now'}"
      ]
     },
     "execution_count": 4,
     "metadata": {},
     "output_type": "execute_result"
    }
   ],
   "source": [
    "faq.metadata()"
   ]
  },
  {
   "cell_type": "code",
   "execution_count": 5,
   "id": "7faf21e5-1a28-4fa9-80ae-bb7c534a9ac5",
   "metadata": {},
   "outputs": [
    {
     "data": {
      "text/plain": [
       "DataModelDict([('faq',\n",
       "                DataModelDict([('question', 'do I need to?'),\n",
       "                               ('answer', 'not right now')]))])"
      ]
     },
     "execution_count": 5,
     "metadata": {},
     "output_type": "execute_result"
    }
   ],
   "source": [
    "faq.build_model()"
   ]
  },
  {
   "cell_type": "code",
   "execution_count": 7,
   "id": "3a897032-a9da-4b7b-a3e9-cf0927ab02e1",
   "metadata": {},
   "outputs": [
    {
     "name": "stdout",
     "output_type": "stream",
     "text": [
      "{\n",
      "    \"faq\": {\n",
      "        \"question\": \"do I need to?\",\n",
      "        \"answer\": \"not right now\"\n",
      "    }\n",
      "}\n"
     ]
    }
   ],
   "source": [
    "print(faq.model.json(indent=4))"
   ]
  },
  {
   "cell_type": "code",
   "execution_count": 9,
   "id": "f522c69a-0fb2-415e-8def-8f3afa257270",
   "metadata": {},
   "outputs": [
    {
     "data": {
      "text/plain": [
       "<yabadaba.query.StrContainsQuery.StrContainsQuery at 0x7f663fe15150>"
      ]
     },
     "execution_count": 9,
     "metadata": {},
     "output_type": "execute_result"
    }
   ],
   "source": [
    "faq.queries['question']"
   ]
  },
  {
   "cell_type": "code",
   "execution_count": 11,
   "id": "089bf59f-f7a7-4f4e-9e49-0f75a0771c16",
   "metadata": {},
   "outputs": [
    {
     "name": "stdout",
     "output_type": "stream",
     "text": [
      "# FAQ Query Parameters\n",
      "\n",
      "- __question__ (*str or list, optional*): Search the FAQ question field to see if it contains certain strings.\n",
      "- __answer__ (*str or list, optional*): Search the FAQ answer field to see if it contains certain strings.\n",
      "\n"
     ]
    }
   ],
   "source": [
    "print(faq.querydoc)"
   ]
  },
  {
   "cell_type": "code",
   "execution_count": 12,
   "id": "5909a710-2dd3-4258-b7cf-9dc3f9f5664b",
   "metadata": {},
   "outputs": [],
   "source": [
    "faq.answer = 45"
   ]
  },
  {
   "cell_type": "code",
   "execution_count": 13,
   "id": "e249e6dc-2938-4b65-9a7b-62c39462cd41",
   "metadata": {},
   "outputs": [
    {
     "data": {
      "text/plain": [
       "'45'"
      ]
     },
     "execution_count": 13,
     "metadata": {},
     "output_type": "execute_result"
    }
   ],
   "source": [
    "faq.answer"
   ]
  },
  {
   "cell_type": "code",
   "execution_count": 14,
   "id": "25589976-2e84-470f-a789-879372feba49",
   "metadata": {},
   "outputs": [
    {
     "data": {
      "text/plain": [
       "{'name': 'poo', 'question': 'do I need to?', 'answer': '45'}"
      ]
     },
     "execution_count": 14,
     "metadata": {},
     "output_type": "execute_result"
    }
   ],
   "source": [
    "faq.metadata()"
   ]
  },
  {
   "cell_type": "code",
   "execution_count": null,
   "id": "2ee769d9-7ab3-492d-ab77-6562f3e336ca",
   "metadata": {},
   "outputs": [],
   "source": [
    "from DataModelDict import DataModelDict as DM\n",
    "\n",
    "xsd_model = DM()\n",
    "xsd_model['xsd:schema'] = DM()\n",
    "xsd_model['xsd:schema']['@xmlns:xsd']=\"http://www.w3.org/2001/XMLSchema\"\n",
    "xsd_model['xsd:schema']['@attributeFormDefault']=\"unqualified\"\n",
    "xsd_model['xsd:schema']['@elementFormDefault']=\"unqualified\"\n",
    "xsd_model['xsd:schema']['xsd:element'] = DM()\n",
    "xsd_model['xsd:schema']['xsd:element']['@name'] = 'faq'\n",
    "xsd_model['xsd:schema']['xsd:element']['xsd:complexType'] = DM()\n",
    "xsd_model['xsd:schema']['xsd:element']['xsd:complexType']['xsd:sequence'] = DM()\n",
    "\n",
    "el = DM()\n",
    "el['@name'] = 'question'\n",
    "el['@type'] = \"xsd:string\"\n",
    "xsd_model['xsd:schema']['xsd:element']['xsd:complexType']['xsd:sequence'].append('element', el)\n",
    "\n",
    "el = DM()\n",
    "el['@name'] = 'answer'\n",
    "el['@type'] = \"xsd:string\"\n",
    "xsd_model['xsd:schema']['xsd:element']['xsd:complexType']['xsd:sequence'].append('element', el)\n",
    "\n",
    "\n",
    "print(xsd_model.xml(indent=2))"
   ]
  }
 ],
 "metadata": {
  "kernelspec": {
   "display_name": "Python 311",
   "language": "python",
   "name": "py11"
  },
  "language_info": {
   "codemirror_mode": {
    "name": "ipython",
    "version": 3
   },
   "file_extension": ".py",
   "mimetype": "text/x-python",
   "name": "python",
   "nbconvert_exporter": "python",
   "pygments_lexer": "ipython3",
   "version": "3.11.5"
  }
 },
 "nbformat": 4,
 "nbformat_minor": 5
}
