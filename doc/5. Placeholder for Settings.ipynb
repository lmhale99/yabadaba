{
 "cells": [
  {
   "cell_type": "markdown",
   "id": "f24c2e30-a6cf-4c92-b3d3-e149bee8a1e9",
   "metadata": {},
   "source": [
    "Docs for Settings exists somewhere else, maybe in the potentials docs???"
   ]
  },
  {
   "cell_type": "code",
   "execution_count": null,
   "id": "97563b36-a4f5-43e8-b4bb-2aac183addae",
   "metadata": {},
   "outputs": [],
   "source": []
  }
 ],
 "metadata": {
  "kernelspec": {
   "display_name": "Python 311",
   "language": "python",
   "name": "py11"
  },
  "language_info": {
   "codemirror_mode": {
    "name": "ipython",
    "version": 3
   },
   "file_extension": ".py",
   "mimetype": "text/x-python",
   "name": "python",
   "nbconvert_exporter": "python",
   "pygments_lexer": "ipython3",
   "version": "3.11.5"
  }
 },
 "nbformat": 4,
 "nbformat_minor": 5
}
