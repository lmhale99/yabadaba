{
 "cells": [
  {
   "cell_type": "markdown",
   "id": "7f71c0d9",
   "metadata": {},
   "source": [
    "# Introduction to yabadaba: Interact with databases\n",
    "\n",
    "Once you have defined Record classes for your data, you can use yabadaba's Database objects to interact with databases to query and alter the contained records."
   ]
  },
  {
   "cell_type": "code",
   "execution_count": 1,
   "id": "723da2c5",
   "metadata": {},
   "outputs": [
    {
     "name": "stdout",
     "output_type": "stream",
     "text": [
      "yabadaba version = 0.3.0\n",
      "Notebook executed on 2024-12-18\n"
     ]
    }
   ],
   "source": [
    "# Standard Python libraries\n",
    "import datetime\n",
    "\n",
    "# Import the main yabadaba package\n",
    "import yabadaba\n",
    "\n",
    "# Import the yabadaba_demo package that defines the Records to use\n",
    "import yabadaba_demo\n",
    "\n",
    "# Show yabadaba version\n",
    "print('yabadaba version =', yabadaba.__version__)\n",
    "\n",
    "# Show date of Notebook execution\n",
    "print('Notebook executed on', datetime.date.today())"
   ]
  },
  {
   "cell_type": "markdown",
   "id": "cc423365",
   "metadata": {},
   "source": [
    "## 1. Check the modular components\n",
    "\n",
    "Once you have imported yabadaba (and any record-defining packages) you can check the status of the various modular components by calling yabadaba.check_modules() or the check_styles() method of the various module managers."
   ]
  },
  {
   "cell_type": "code",
   "execution_count": 2,
   "id": "ffc9862e-daeb-4041-9c56-fa8d90e453a7",
   "metadata": {},
   "outputs": [
    {
     "name": "stdout",
     "output_type": "stream",
     "text": [
      "Database styles that passed import:\n",
      "- local: <class 'yabadaba.database.LocalDatabase.LocalDatabase'>\n",
      "- mongo: <class 'yabadaba.database.MongoDatabase.MongoDatabase'>\n",
      "- cdcs: <class 'yabadaba.database.CDCSDatabase.CDCSDatabase'>\n",
      "Database styles that failed import:\n",
      "\n",
      "\n",
      "Record styles that passed import:\n",
      "- FAQ: <class 'yabadaba_demo.record.FAQ.FAQ'>\n",
      "- album: <class 'yabadaba_demo.record.album.Album.Album'>\n",
      "Record styles that failed import:\n",
      "- bad_record: <class 'ModuleNotFoundError'>: No module named 'package_that_does_not_exist'\n",
      "\n",
      "\n",
      "Query styles that passed import:\n",
      "- bool_match: <class 'yabadaba.query.BoolMatchQuery.BoolMatchQuery'>\n",
      "- str_contains: <class 'yabadaba.query.StrContainsQuery.StrContainsQuery'>\n",
      "- str_match: <class 'yabadaba.query.StrMatchQuery.StrMatchQuery'>\n",
      "- list_contains: <class 'yabadaba.query.ListContainsQuery.ListContainsQuery'>\n",
      "- int_match: <class 'yabadaba.query.IntMatchQuery.IntMatchQuery'>\n",
      "- float_match: <class 'yabadaba.query.FloatMatchQuery.FloatMatchQuery'>\n",
      "- date_match: <class 'yabadaba.query.DateMatchQuery.DateMatchQuery'>\n",
      "- month_match: <class 'yabadaba.query.MonthMatchQuery.MonthMatchQuery'>\n",
      "- dummy: <class 'yabadaba.query.DummyQuery.DummyQuery'>\n",
      "Query styles that failed import:\n",
      "\n",
      "\n",
      "Value styles that passed import:\n",
      "- base: <class 'yabadaba.value.Value.Value'>\n",
      "- str: <class 'yabadaba.value.StrValue.StrValue'>\n",
      "- strlist: <class 'yabadaba.value.StrListValue.StrListValue'>\n",
      "- longstr: <class 'yabadaba.value.LongStrValue.LongStrValue'>\n",
      "- float: <class 'yabadaba.value.FloatValue.FloatValue'>\n",
      "- int: <class 'yabadaba.value.IntValue.IntValue'>\n",
      "- bool: <class 'yabadaba.value.BoolValue.BoolValue'>\n",
      "- date: <class 'yabadaba.value.DateValue.DateValue'>\n",
      "- month: <class 'yabadaba.value.MonthValue.MonthValue'>\n",
      "- floatarray: <class 'yabadaba.value.FloatArrayValue.FloatArrayValue'>\n",
      "- record: <class 'yabadaba.record.RecordValue.RecordValue'>\n",
      "Value styles that failed import:\n",
      "\n",
      "\n"
     ]
    }
   ],
   "source": [
    "yabadaba.check_modules()"
   ]
  },
  {
   "cell_type": "markdown",
   "id": "7a5906df-d336-4466-a84f-de193916dcb3",
   "metadata": {},
   "source": [
    "We can see that currently there are three Database styles defined by yabadaba."
   ]
  },
  {
   "cell_type": "code",
   "execution_count": 3,
   "id": "f3a6959a-0338-4b13-b679-d200a808115a",
   "metadata": {},
   "outputs": [
    {
     "name": "stdout",
     "output_type": "stream",
     "text": [
      "Database styles that passed import:\n",
      "- local: <class 'yabadaba.database.LocalDatabase.LocalDatabase'>\n",
      "- mongo: <class 'yabadaba.database.MongoDatabase.MongoDatabase'>\n",
      "- cdcs: <class 'yabadaba.database.CDCSDatabase.CDCSDatabase'>\n",
      "Database styles that failed import:\n",
      "\n"
     ]
    }
   ],
   "source": [
    "yabadaba.databasemanager.check_styles()"
   ]
  },
  {
   "cell_type": "markdown",
   "id": "5348103c-799a-4959-b112-acda9d7603c9",
   "metadata": {},
   "source": [
    "Three Record styles were also found that were defined in yabadaba_demo.  These three styles are\n",
    "\n",
    "- The FAQ style defined in the previous Notebook.  The only difference is that the yabadaba_demo version has values specified for the xsl_filename and xsd_filename properties.\n",
    "- The demo style that is used in subsequent Notebooks to demonstrate how to define Records for more complex schemas.\n",
    "- The bad_record style that fails import because it tries to import a non-existent package."
   ]
  },
  {
   "cell_type": "code",
   "execution_count": 4,
   "id": "7a6b8bcf-e40c-44cd-9efb-61a1fbdb1195",
   "metadata": {},
   "outputs": [
    {
     "name": "stdout",
     "output_type": "stream",
     "text": [
      "Record styles that passed import:\n",
      "- FAQ: <class 'yabadaba_demo.record.FAQ.FAQ'>\n",
      "- album: <class 'yabadaba_demo.record.album.Album.Album'>\n",
      "Record styles that failed import:\n",
      "- bad_record: <class 'ModuleNotFoundError'>: No module named 'package_that_does_not_exist'\n",
      "\n"
     ]
    }
   ],
   "source": [
    "yabadaba.recordmanager.check_styles()"
   ]
  },
  {
   "cell_type": "markdown",
   "id": "1c8c2369",
   "metadata": {},
   "source": [
    "## 2. Interacting with databases\n",
    "\n",
    "Everything is now in place to interact with databases.  The Database classes are managed using the databasemanager in a fashion similar to how the recordmanager handles Records.  The main difference being that some Database styles are already defined meaning that you (hopefully) won't need to define your own Database classes.  \n",
    "\n",
    "__NOTE__: For this demo we will be interacting with the \"local\" style database of JSON files contained within the \"yabadaba_demo_database\" folder located in the same directory as this Notebook.  It contains the three FAQ records that were defined at the beginning of the previous Notebook. \n",
    "\n",
    "### 2.1. Initializing databases\n",
    "\n",
    "Database objects are initialized by providing all of the necessary access parameters for the specific database.  As these vary between the different styles of databases, the allowed parameters also vary.  \n",
    "\n",
    "#### 2.1.1. Local database \n",
    "\n",
    "A local style Database exists as a local directory containing individual JSON and XML files, as well as csv cache files containing the compiled metadata associated with the hosted records.  The cache files greatly increase the speed of queries as it allows for parsing the records without reading and loading all of the individual files.  A local-style database is initialized with the following parameters\n",
    "\n",
    "- __host__ (*str*) The host name (local directory path) for the database.\n",
    "- __format__ (*str, optional*) The format that the model records are saved as.  Can be either JSON or XML.  Default value is JSON.\n",
    "- __indent__ (*int or None, optional*) The indentation used when saving the records.  If None (default) then the saved records are compact.  Otherwise, the lines in the file will be indented by multiples of this value based on the model's element recursion.  Compact records are smaller, while indented records are easier to read."
   ]
  },
  {
   "cell_type": "code",
   "execution_count": 5,
   "id": "2e9d61d7",
   "metadata": {},
   "outputs": [
    {
     "name": "stdout",
     "output_type": "stream",
     "text": [
      "database style local at /home/lmh1/Python-packages/yabadaba/doc/yabadaba_demo_database\n"
     ]
    }
   ],
   "source": [
    "database = yabadaba.load_database(style='local', host='yabadaba_demo_database')\n",
    "print(database)"
   ]
  },
  {
   "cell_type": "markdown",
   "id": "2a7745fb",
   "metadata": {},
   "source": [
    "#### 2.1.2. Mongo database \n",
    "\n",
    "A mongo style Database interacts with a MongoDB instance. The initialization parameters relate to the corresponding parameters of the pymongo.Mongoclient class as it is utilized by the Database class.\n",
    "\n",
    "- __host__ (*str*) The mongo host to connect to.  Default value is 'localhost'.\n",
    "- __port__ (*int*) Then port to use in connecting to the mongo host.  Default value is 27017.\n",
    "- __database__ (*str*) The name of the database in the mongo host to interact with. Default value is 'iprPy'\n",
    "- __\\*\\*kwargs__ (*dict, optional*) Any extra keyword arguments needed to initialize a pymongo.MongoClient object.\n",
    "\n",
    "#### 2.1.3. CDCS database\n",
    "\n",
    "A cdcs Database style interacts with a CDCS (Configurable Data Curation System) instance.  CDCS databases provide REST APIs meaning that the initialization parameters correspond to web requests permissions.\n",
    "\n",
    "- __host__ (*str*) The host name (url) for the database.\n",
    "- __username__ (*str or tuple of two str*) The username to use for accessing the database.  Alternatively, a tuple of (username, password).\n",
    "- __password__ (*str, optional*) The password associated with username to use for accessing the database. This can either be the password as a str, or a str path to a file containing only the password. If not given, a prompt will ask for the password.\n",
    "- __cert__ (*str, optional*) if String, path to ssl client cert file (.pem). If Tuple, ('cert', 'key') pair.\n",
    "- __certification__ (*str, optional*) Alias for cert. Retained for compatibility.\n",
    "- __verify__ (*bool or str, optional*) Either a boolean, in which case it controls whether we verify the server's TLS certificate, or a string, in which case it must be a path to a CA bundle to use. Defaults to True.\n",
    "- __cdcsversion__ (*str, optional*) For CDCS versions 2.X.X, this allows for specifying the full CDCS version to ensure the class methods perform the correct REST calls.  This can be specified as \"#.#.#\", or if None is given will default to \"2.15.0\".  For CDCS versions 3.X.X, this is ignored as version info is obtained directly from the database."
   ]
  },
  {
   "cell_type": "markdown",
   "id": "0a23bb63-9130-4a19-ad25-4096910dc3a6",
   "metadata": {},
   "source": [
    "### 2.2. Querying records from a database\n",
    "\n",
    "There are a few different methods for querying data in a database.  These methods are for the most part universal across the different database styles although individual database styles can contain extra parameters specific to their infrastructure.\n",
    "\n",
    "- __get_records()__ returns a numpy.NDArray containing Record objects that match the query. Adding the parameter return_df=True will also return the pandas.DataFrame that get_records_df() returns.\n",
    "- __get_record()__ returns a single Record object if exactly one matching record is found.  Otherwise it will issue an error.\n",
    "- __get_records_df()__ returns a pandas.DataFrame of Record metadata for all records that match the query.\n",
    "- __count_records()__ returns an int count of the number of records that match the query.  This is usually much faster if you only want to know how many matching records there are.\n",
    "\n",
    "Parameters for the query methods are comparable\n",
    "        \n",
    "- __style__ (*str, optional*) The record style to search. If not given, a prompt will ask for it.\n",
    "- __\\*\\*kwargs__ (*any, optional*) Any extra options specific to the database style or metadata search parameters specific to the record style."
   ]
  },
  {
   "cell_type": "code",
   "execution_count": 6,
   "id": "8a166a51-f068-4347-8b6a-71196fd1ce23",
   "metadata": {},
   "outputs": [
    {
     "data": {
      "text/plain": [
       "3"
      ]
     },
     "execution_count": 6,
     "metadata": {},
     "output_type": "execute_result"
    }
   ],
   "source": [
    "# Count how many FAQ records are in the database\n",
    "database.count_records(style='FAQ')"
   ]
  },
  {
   "cell_type": "code",
   "execution_count": 7,
   "id": "9552ac89-ddc7-424e-99e8-42481a4a5974",
   "metadata": {},
   "outputs": [
    {
     "data": {
      "text/plain": [
       "array([<yabadaba_demo.record.FAQ.FAQ object at 0x7f9319315ed0>,\n",
       "       <yabadaba_demo.record.FAQ.FAQ object at 0x7f931c885550>,\n",
       "       <yabadaba_demo.record.FAQ.FAQ object at 0x7f9319320fd0>],\n",
       "      dtype=object)"
      ]
     },
     "execution_count": 7,
     "metadata": {},
     "output_type": "execute_result"
    }
   ],
   "source": [
    "# Get all records of FAQ as FAQ objects\n",
    "database.get_records(style='FAQ')"
   ]
  },
  {
   "cell_type": "code",
   "execution_count": 8,
   "id": "cdcf371d-8f49-4c26-8b39-69a00e2e990d",
   "metadata": {},
   "outputs": [
    {
     "data": {
      "text/html": [
       "<div>\n",
       "<style scoped>\n",
       "    .dataframe tbody tr th:only-of-type {\n",
       "        vertical-align: middle;\n",
       "    }\n",
       "\n",
       "    .dataframe tbody tr th {\n",
       "        vertical-align: top;\n",
       "    }\n",
       "\n",
       "    .dataframe thead th {\n",
       "        text-align: right;\n",
       "    }\n",
       "</style>\n",
       "<table border=\"1\" class=\"dataframe\">\n",
       "  <thead>\n",
       "    <tr style=\"text-align: right;\">\n",
       "      <th></th>\n",
       "      <th>name</th>\n",
       "      <th>question</th>\n",
       "      <th>answer</th>\n",
       "    </tr>\n",
       "  </thead>\n",
       "  <tbody>\n",
       "    <tr>\n",
       "      <th>0</th>\n",
       "      <td>faq</td>\n",
       "      <td>What does a FAQ Record represent?</td>\n",
       "      <td>A frequently asked question and the correspond...</td>\n",
       "    </tr>\n",
       "    <tr>\n",
       "      <th>1</th>\n",
       "      <td>fuzzy</td>\n",
       "      <td>Fuzzywuzzy was a bear. Fuzzywuzzy had no hair....</td>\n",
       "      <td>Nope.</td>\n",
       "    </tr>\n",
       "    <tr>\n",
       "      <th>2</th>\n",
       "      <td>woodchuck</td>\n",
       "      <td>How much wood would a woodchuck chuck if a woo...</td>\n",
       "      <td>A woodchuck would chuck as much wood as a wood...</td>\n",
       "    </tr>\n",
       "  </tbody>\n",
       "</table>\n",
       "</div>"
      ],
      "text/plain": [
       "        name                                           question  \\\n",
       "0        faq                  What does a FAQ Record represent?   \n",
       "1      fuzzy  Fuzzywuzzy was a bear. Fuzzywuzzy had no hair....   \n",
       "2  woodchuck  How much wood would a woodchuck chuck if a woo...   \n",
       "\n",
       "                                              answer  \n",
       "0  A frequently asked question and the correspond...  \n",
       "1                                              Nope.  \n",
       "2  A woodchuck would chuck as much wood as a wood...  "
      ]
     },
     "execution_count": 8,
     "metadata": {},
     "output_type": "execute_result"
    }
   ],
   "source": [
    "# Get pandas.DataFrame of all FAQ record simple metadata values \n",
    "database.get_records_df(style='FAQ')"
   ]
  },
  {
   "cell_type": "code",
   "execution_count": 9,
   "id": "6b6341c5-05d1-427a-82fd-6e0727e6ffd5",
   "metadata": {},
   "outputs": [
    {
     "name": "stdout",
     "output_type": "stream",
     "text": [
      "{\n",
      "    \"faq\": {\n",
      "        \"question\": \"Fuzzywuzzy was a bear. Fuzzywuzzy had no hair. So Fuzzywuzzy wasn't fuzzy, was he?\",\n",
      "        \"answer\": \"Nope.\"\n",
      "    }\n",
      "}\n"
     ]
    }
   ],
   "source": [
    "# Get the single FAQ record that has 'bear' in its question\n",
    "record = database.get_record(style='FAQ', question='bear')\n",
    "print(record.model.json(indent=4))"
   ]
  },
  {
   "cell_type": "markdown",
   "id": "6f8d69d1-b729-41ad-addf-4d8ddc58a454",
   "metadata": {},
   "source": [
    "For the most part, the list of queryable terms corresponds to the values that were defined for the Record class.  You can view a short description of the allowed query parameters by looking at the querydoc parameter of one record of the given style."
   ]
  },
  {
   "cell_type": "code",
   "execution_count": 10,
   "id": "e4498463-f95e-4205-9def-9ff025fe073e",
   "metadata": {},
   "outputs": [
    {
     "data": {
      "text/markdown": [
       "# FAQ Query Parameters\n",
       "\n",
       "- __question__ (*str or list, optional*): Return only the records where question contains the given values\n",
       "- __answer__ (*str or list, optional*): Return only the records where answer contains the given values\n"
      ],
      "text/plain": [
       "<IPython.core.display.Markdown object>"
      ]
     },
     "metadata": {},
     "output_type": "display_data"
    }
   ],
   "source": [
    "yabadaba.querydoc('FAQ', render=True)"
   ]
  },
  {
   "cell_type": "markdown",
   "id": "3d7a9897-c44e-4826-8bc2-cff2299a2595",
   "metadata": {},
   "source": [
    "Additionally, there is a convenience method retrieve_record() which gets a matching record from the database and saves it to a local file all at once.  This can be used to easily fetch and save a record so that external software can interact with it.\n",
    "    \n",
    "- __style__ (*str, optional*) The record style to search. If not given, a prompt will ask for it.\n",
    "- __dest__ (*path, optional*) The parent directory where the record will be saved to.  If not given, will use the current working directory.\n",
    "- __format__ (*str, optional*) The file format to save the record in: 'json' or 'xml'.  Default is 'json'.\n",
    "- __indent__ (*int, optional*) The number of space indentation spacings to use in the saved record for the different tiered levels.  Default is 4.  Giving None will create a compact record.\n",
    "- __verbose__ (*bool, optional*) If True, info messages will be printed during operations.  Default value is False.\n",
    "- __\\*\\*kwargs__ (*any, optional*) Any extra options specific to the database style or metadata search parameters specific to the record style."
   ]
  },
  {
   "cell_type": "markdown",
   "id": "fd7ec6aa",
   "metadata": {},
   "source": [
    "### 2.3. Adding/updating records\n",
    "\n",
    "Records can be added/updated to a database using the add_record() and update_record() Database methods.  Many of the database operations in yabadaba work on the principle that all records of a given style should have unique names.  The two methods adhere to that according to the following operations\n",
    "- __add_record()__ will add a new record to the database as long as no similarly named record exists.  If a record with the same style and name is already in the database, then the method will throw an error.\n",
    "- __update_record()__ will update the contents of an existing record in the database.  If no record in the database has the matching name and style, then the method will throw an error.\n",
    "\n",
    "A combined add/update can easily be done with code that does try: add, except: update.\n",
    "\n",
    "Both methods take similar parameters\n",
    "\n",
    "- __record__ (*Record, optional*) The new record to add to the database.  If not given, then name, style and content are required.\n",
    "- __style__ (*str, optional*) The record style for the new record.  Required if record is not given.\n",
    "- __name__ (*str, optional*) The name to assign to the new record.  Required if record is not given.\n",
    "- __model__ (*str or DataModelDict, optional*) The model contents of the new record.  Required if record is not given.\n",
    "- __build__ (*bool, optional*) If True, then the uploaded content will be (re)built based on the record's attributes.  If False (default), then record's existing content will be loaded if it exists, or built if it doesn't exist.\n",
    "- __verbose__ (*bool, optional*) If True, info messages will be printed during operations.  Default value is False."
   ]
  },
  {
   "cell_type": "code",
   "execution_count": 15,
   "id": "1e156db0-a8fb-4e16-97d5-510d1cb1b228",
   "metadata": {},
   "outputs": [],
   "source": [
    "# Create two new FAQ records like was done in the previous Notebook\n",
    "init_faq = yabadaba.load_record(style='FAQ', name='init', question='Can I assign values during init?', answer='Yes, you can!')\n",
    "\n",
    "build_faq = yabadaba.load_record(style='FAQ')\n",
    "build_faq.name = 'build'\n",
    "build_faq.question = 'Is it easy to build record contents by assigning to object attributes?'\n",
    "build_faq.answer = 'It seems that way to me.'"
   ]
  },
  {
   "cell_type": "code",
   "execution_count": 16,
   "id": "fbbff299",
   "metadata": {},
   "outputs": [
    {
     "name": "stdout",
     "output_type": "stream",
     "text": [
      "FAQ record named init added to /home/lmh1/Python-packages/yabadaba/doc/yabadaba_demo_database\n",
      "FAQ record named build added to /home/lmh1/Python-packages/yabadaba/doc/yabadaba_demo_database\n"
     ]
    },
    {
     "data": {
      "text/plain": [
       "<yabadaba_demo.record.FAQ.FAQ at 0x7f3912efa890>"
      ]
     },
     "execution_count": 16,
     "metadata": {},
     "output_type": "execute_result"
    }
   ],
   "source": [
    "# Add the new records to the database.  Note that we use build=True as we did not call build_model beforehand!!\n",
    "database.add_record(init_faq, build=True, verbose=True)\n",
    "database.add_record(build_faq, build=True, verbose=True)"
   ]
  },
  {
   "cell_type": "code",
   "execution_count": 17,
   "id": "d8850ab1-0e3f-415b-a18e-bd3030e70563",
   "metadata": {},
   "outputs": [
    {
     "data": {
      "text/html": [
       "<div>\n",
       "<style scoped>\n",
       "    .dataframe tbody tr th:only-of-type {\n",
       "        vertical-align: middle;\n",
       "    }\n",
       "\n",
       "    .dataframe tbody tr th {\n",
       "        vertical-align: top;\n",
       "    }\n",
       "\n",
       "    .dataframe thead th {\n",
       "        text-align: right;\n",
       "    }\n",
       "</style>\n",
       "<table border=\"1\" class=\"dataframe\">\n",
       "  <thead>\n",
       "    <tr style=\"text-align: right;\">\n",
       "      <th></th>\n",
       "      <th>name</th>\n",
       "      <th>question</th>\n",
       "      <th>answer</th>\n",
       "    </tr>\n",
       "  </thead>\n",
       "  <tbody>\n",
       "    <tr>\n",
       "      <th>0</th>\n",
       "      <td>build</td>\n",
       "      <td>Is it easy to build record contents by assigni...</td>\n",
       "      <td>It seems that way to me.</td>\n",
       "    </tr>\n",
       "    <tr>\n",
       "      <th>1</th>\n",
       "      <td>faq</td>\n",
       "      <td>What does a FAQ Record represent?</td>\n",
       "      <td>A frequently asked question and the correspond...</td>\n",
       "    </tr>\n",
       "    <tr>\n",
       "      <th>2</th>\n",
       "      <td>fuzzy</td>\n",
       "      <td>Fuzzywuzzy was a bear. Fuzzywuzzy had no hair....</td>\n",
       "      <td>Nope.</td>\n",
       "    </tr>\n",
       "    <tr>\n",
       "      <th>3</th>\n",
       "      <td>init</td>\n",
       "      <td>Can I assign values during init?</td>\n",
       "      <td>Yes, you can!</td>\n",
       "    </tr>\n",
       "    <tr>\n",
       "      <th>4</th>\n",
       "      <td>woodchuck</td>\n",
       "      <td>How much wood would a woodchuck chuck if a woo...</td>\n",
       "      <td>A woodchuck would chuck as much wood as a wood...</td>\n",
       "    </tr>\n",
       "  </tbody>\n",
       "</table>\n",
       "</div>"
      ],
      "text/plain": [
       "        name                                           question  \\\n",
       "0      build  Is it easy to build record contents by assigni...   \n",
       "1        faq                  What does a FAQ Record represent?   \n",
       "2      fuzzy  Fuzzywuzzy was a bear. Fuzzywuzzy had no hair....   \n",
       "3       init                   Can I assign values during init?   \n",
       "4  woodchuck  How much wood would a woodchuck chuck if a woo...   \n",
       "\n",
       "                                              answer  \n",
       "0                           It seems that way to me.  \n",
       "1  A frequently asked question and the correspond...  \n",
       "2                                              Nope.  \n",
       "3                                      Yes, you can!  \n",
       "4  A woodchuck would chuck as much wood as a wood...  "
      ]
     },
     "execution_count": 17,
     "metadata": {},
     "output_type": "execute_result"
    }
   ],
   "source": [
    "database.get_records_df('FAQ')"
   ]
  },
  {
   "cell_type": "markdown",
   "id": "c208f1e7-ff4d-4c37-bdaa-154de7753d8e",
   "metadata": {},
   "source": [
    "If we now modify a record, we can update the database's copy with update_record().\n",
    "\n",
    "__NOTE__: For local-style databases, if you change record contents you will need to include the refresh_cache=True option on the next get query.  This is because the cache is a csv file that by default only adds or deletes lines when the associated record files are added or deleted. Using refresh_cache=True will rebuild the csv file from the contents of the contained files."
   ]
  },
  {
   "cell_type": "code",
   "execution_count": 19,
   "id": "e2b9aaa1-22a9-4267-a026-1bc16452d22f",
   "metadata": {},
   "outputs": [
    {
     "data": {
      "text/html": [
       "<div>\n",
       "<style scoped>\n",
       "    .dataframe tbody tr th:only-of-type {\n",
       "        vertical-align: middle;\n",
       "    }\n",
       "\n",
       "    .dataframe tbody tr th {\n",
       "        vertical-align: top;\n",
       "    }\n",
       "\n",
       "    .dataframe thead th {\n",
       "        text-align: right;\n",
       "    }\n",
       "</style>\n",
       "<table border=\"1\" class=\"dataframe\">\n",
       "  <thead>\n",
       "    <tr style=\"text-align: right;\">\n",
       "      <th></th>\n",
       "      <th>name</th>\n",
       "      <th>question</th>\n",
       "      <th>answer</th>\n",
       "    </tr>\n",
       "  </thead>\n",
       "  <tbody>\n",
       "    <tr>\n",
       "      <th>0</th>\n",
       "      <td>build</td>\n",
       "      <td>Is it easy to build record contents by assigni...</td>\n",
       "      <td>Yes, and you can modify them later.</td>\n",
       "    </tr>\n",
       "    <tr>\n",
       "      <th>1</th>\n",
       "      <td>faq</td>\n",
       "      <td>What does a FAQ Record represent?</td>\n",
       "      <td>A frequently asked question and the correspond...</td>\n",
       "    </tr>\n",
       "    <tr>\n",
       "      <th>2</th>\n",
       "      <td>fuzzy</td>\n",
       "      <td>Fuzzywuzzy was a bear. Fuzzywuzzy had no hair....</td>\n",
       "      <td>Nope.</td>\n",
       "    </tr>\n",
       "    <tr>\n",
       "      <th>3</th>\n",
       "      <td>init</td>\n",
       "      <td>Can I assign values during init?</td>\n",
       "      <td>Yes, you can!</td>\n",
       "    </tr>\n",
       "    <tr>\n",
       "      <th>4</th>\n",
       "      <td>woodchuck</td>\n",
       "      <td>How much wood would a woodchuck chuck if a woo...</td>\n",
       "      <td>A woodchuck would chuck as much wood as a wood...</td>\n",
       "    </tr>\n",
       "  </tbody>\n",
       "</table>\n",
       "</div>"
      ],
      "text/plain": [
       "        name                                           question  \\\n",
       "0      build  Is it easy to build record contents by assigni...   \n",
       "1        faq                  What does a FAQ Record represent?   \n",
       "2      fuzzy  Fuzzywuzzy was a bear. Fuzzywuzzy had no hair....   \n",
       "3       init                   Can I assign values during init?   \n",
       "4  woodchuck  How much wood would a woodchuck chuck if a woo...   \n",
       "\n",
       "                                              answer  \n",
       "0                Yes, and you can modify them later.  \n",
       "1  A frequently asked question and the correspond...  \n",
       "2                                              Nope.  \n",
       "3                                      Yes, you can!  \n",
       "4  A woodchuck would chuck as much wood as a wood...  "
      ]
     },
     "execution_count": 19,
     "metadata": {},
     "output_type": "execute_result"
    }
   ],
   "source": [
    "build_faq.answer = 'Yes, and you can modify them later.'\n",
    "build_faq.build_model()\n",
    "\n",
    "database.update_record(build_faq)\n",
    "database.get_records_df('FAQ', refresh_cache=True)"
   ]
  },
  {
   "cell_type": "markdown",
   "id": "ca83bc6f",
   "metadata": {},
   "source": [
    "### 2.4. Deleting records\n",
    "\n",
    "The __delete_record()__ method will delete a single record.  The method's parameters make it possible to specify which record to delete.\n",
    "\n",
    "- __record__ (*Record, optional*) The record to delete from the database.  If not given, name and/or style are needed to uniquely define the record to delete.\n",
    "- __style__ (*str, optional*) The style of the record to delete.\n",
    "- __name__ (*str, optional*) The name of the record to delete."
   ]
  },
  {
   "cell_type": "code",
   "execution_count": 20,
   "id": "f46693ee",
   "metadata": {},
   "outputs": [
    {
     "data": {
      "text/html": [
       "<div>\n",
       "<style scoped>\n",
       "    .dataframe tbody tr th:only-of-type {\n",
       "        vertical-align: middle;\n",
       "    }\n",
       "\n",
       "    .dataframe tbody tr th {\n",
       "        vertical-align: top;\n",
       "    }\n",
       "\n",
       "    .dataframe thead th {\n",
       "        text-align: right;\n",
       "    }\n",
       "</style>\n",
       "<table border=\"1\" class=\"dataframe\">\n",
       "  <thead>\n",
       "    <tr style=\"text-align: right;\">\n",
       "      <th></th>\n",
       "      <th>name</th>\n",
       "      <th>question</th>\n",
       "      <th>answer</th>\n",
       "    </tr>\n",
       "  </thead>\n",
       "  <tbody>\n",
       "    <tr>\n",
       "      <th>0</th>\n",
       "      <td>faq</td>\n",
       "      <td>What does a FAQ Record represent?</td>\n",
       "      <td>A frequently asked question and the correspond...</td>\n",
       "    </tr>\n",
       "    <tr>\n",
       "      <th>1</th>\n",
       "      <td>fuzzy</td>\n",
       "      <td>Fuzzywuzzy was a bear. Fuzzywuzzy had no hair....</td>\n",
       "      <td>Nope.</td>\n",
       "    </tr>\n",
       "    <tr>\n",
       "      <th>2</th>\n",
       "      <td>woodchuck</td>\n",
       "      <td>How much wood would a woodchuck chuck if a woo...</td>\n",
       "      <td>A woodchuck would chuck as much wood as a wood...</td>\n",
       "    </tr>\n",
       "  </tbody>\n",
       "</table>\n",
       "</div>"
      ],
      "text/plain": [
       "        name                                           question  \\\n",
       "0        faq                  What does a FAQ Record represent?   \n",
       "1      fuzzy  Fuzzywuzzy was a bear. Fuzzywuzzy had no hair....   \n",
       "2  woodchuck  How much wood would a woodchuck chuck if a woo...   \n",
       "\n",
       "                                              answer  \n",
       "0  A frequently asked question and the correspond...  \n",
       "1                                              Nope.  \n",
       "2  A woodchuck would chuck as much wood as a wood...  "
      ]
     },
     "execution_count": 20,
     "metadata": {},
     "output_type": "execute_result"
    }
   ],
   "source": [
    "database.delete_record(style='FAQ', name='init')\n",
    "database.delete_record(style='FAQ', name='build')\n",
    "database.get_records_df('FAQ')"
   ]
  },
  {
   "cell_type": "markdown",
   "id": "196e8823",
   "metadata": {},
   "source": [
    "## 3. Interacting with non-record files\n",
    "\n",
    "The current yabadaba code contains features for interacting with non-record files contained within the same database according to the following scheme:\n",
    "\n",
    "- Each record entry in the database has a unique style + name combination.\n",
    "- Each record can have a .tar.gz assigned to it that collects all associated data files.  These tar.gz files are stored in the associated databases as blobs.\n",
    "- The tar data can then be uniquely accessed using the record's style and name.\n",
    "\n",
    "This is the design choice of the original code from which yabadaba grew out of. Additional methods are planned to be added at a later time to streamline the access of any generic blob from the database or from an external location.   \n",
    "\n",
    "### 3.1. Database operations\n",
    "\n",
    "The tar files are managed in a similar way as the records with get_tar(), add_tar(), update_tar(), and delete_tar() methods. All four methods allow for unique identification of the associated record by either passing in the record object or by providing the style and name separately. \n",
    "\n",
    "- get_tar() retrieves the tar file associated with a record from the database and returns it as a tarfile object (default) or as raw bytes data (if raw=True setting is used).\n",
    "- add_tar() adds a new tar file to the database for the associated record.  The contents to archive can either be specified as raw bytes data with the \"tar\" parameter or by specifying a \"root_dir\" as the basis for creating a new tar.gz file.\n",
    "- update_tar() updates the tar file associated with a record.  The contents to archive can be specified in the same way as add_tar().\n",
    "- delete_tar() deletes the tar file associated with a record from the database. \n",
    "\n",
    "### 3.2. Record operations\n",
    "\n",
    "Each record object has some additional attributes and methods that supports easily accessing the data stored in the record's associated tar file.\n",
    "\n",
    "- Record.database is an attribute that can be set to point to a yabadaba Database object.  When a record is retrieved using one of the get methods above, this value is automatically set for each record to the database that was queried.  Having each record aware of its hosting database makes it possible to design dynamic methods for the record classes that rely on other database contents.\n",
    "- Record.tar is the tarfile representation of the record's associated tar file.  This is dynamically built when Record.tar is first accessed by calling get_tar() using the Record's database value.\n",
    "- Record.get_file() will retrieve and extract a single file from the record's tar according to a given file name. Calling this will build Record.tar if necessary.\n",
    "- Record.display_image() extends get_file() to automatically display an image loaded from the tar file if working in an IPython environment like a Jupyter Notebook.\n",
    "- Record.clear_tar() will close the tarfile object and reset the Record.tar file. Using this can possibly help with memory issues if interacting with lots of record tars depending on how useful Python's garbage collectors feel like being."
   ]
  },
  {
   "cell_type": "markdown",
   "id": "953801a8",
   "metadata": {},
   "source": [
    "## 4. Other utility methods\n",
    "\n",
    "The Database class also defines additional methods that perform more complex convenience operations.\n",
    "\n",
    "### 4.1. copy_records()\n",
    "\n",
    "Copies records from the current database to another database.\n",
    "\n",
    "- __dest__ (*Database*) The destination database to copy records to.\n",
    "- __record_style__ (*str, optional*) The record style to copy.  If record_style and records not given, then the available record styles will be listed and the user prompted to pick one.  Cannot be given with records.\n",
    "- __records__ (*list, optional*) A list of Record objects from the current database to copy to dest.  Allows the user full control on which records to copy/update.  Cannot be given with record_style.\n",
    "- __includetar__ (*bool, optional*) If True, the tar archives will be copied along with the records. If False, only the records will be copied. (Default is True).\n",
    "- __overwrite__ (*bool, optional*) If False (default) only new records and tars will be copied. If True, all existing content will be updated.\n",
    "\n",
    "### 4.2. destroy_records()\n",
    "\n",
    "Permanently deletes multiple records and their associated tars all at once.\n",
    "        \n",
    "- __record_style__ (*str, optional*) The record style to delete.  If given, all records of that style will be deleted. If neither record_style nor records given, then the available record styles will be listed and the user prompted to pick one.\n",
    "- __records__ (*list, optional*) A list of pre-selected records to delete. "
   ]
  },
  {
   "cell_type": "markdown",
   "id": "31baa45c",
   "metadata": {},
   "source": [
    " "
   ]
  }
 ],
 "metadata": {
  "kernelspec": {
   "display_name": "ipr",
   "language": "python",
   "name": "ipr"
  },
  "language_info": {
   "codemirror_mode": {
    "name": "ipython",
    "version": 3
   },
   "file_extension": ".py",
   "mimetype": "text/x-python",
   "name": "python",
   "nbconvert_exporter": "python",
   "pygments_lexer": "ipython3",
   "version": "3.11.11"
  }
 },
 "nbformat": 4,
 "nbformat_minor": 5
}
