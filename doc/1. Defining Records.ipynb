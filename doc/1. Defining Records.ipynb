{
 "cells": [
  {
   "cell_type": "markdown",
   "id": "4133476c",
   "metadata": {},
   "source": [
    "# Introduction to yabadaba: Defining Records\n",
    "\n",
    "The main effort associated with using the yabadaba package is defining your own Record classes.  This Notebook provides a simple demonstration by defining a FAQ Record class for representing frequently asked questions."
   ]
  },
  {
   "cell_type": "code",
   "execution_count": 1,
   "id": "6a5d084f",
   "metadata": {},
   "outputs": [
    {
     "name": "stdout",
     "output_type": "stream",
     "text": [
      "yabadaba version = 0.2.0\n",
      "Notebook executed on 2023-04-03\n"
     ]
    }
   ],
   "source": [
    "# Standard Python libraries\n",
    "import datetime\n",
    "\n",
    "import yabadaba\n",
    "from yabadaba.record import Record\n",
    "from yabadaba import load_query, recordmanager\n",
    "\n",
    "# https://github.com/usnistgov/DataModelDict\n",
    "from DataModelDict import DataModelDict as DM\n",
    "\n",
    "import pandas as pd\n",
    "\n",
    "from IPython.display import display, Markdown\n",
    "\n",
    "# Show yabadaba version\n",
    "print('yabadaba version =', yabadaba.__version__)\n",
    "\n",
    "# Show date of Notebook execution\n",
    "print('Notebook executed on', datetime.date.today())"
   ]
  },
  {
   "cell_type": "markdown",
   "id": "7870f86e",
   "metadata": {},
   "source": [
    "## 1. FAQ records\n",
    "\n",
    "The FAQ records are incredibly simple data models that have a single root of 'faq' and two fields: the 'quesion' and the associated 'answer'."
   ]
  },
  {
   "cell_type": "code",
   "execution_count": 2,
   "id": "b634f0e2",
   "metadata": {},
   "outputs": [],
   "source": [
    "faqfaq = \"\"\"{\n",
    "    \"faq\": {\n",
    "        \"question\": \"What does a FAQ Record represent?\",\n",
    "        \"answer\": \"A frequently asked question and the corresponding answer.\"\n",
    "    }\n",
    "}\"\"\"\n",
    "\n",
    "woodchuckfaq = \"\"\"{\n",
    "    \"faq\": {\n",
    "        \"question\": \"How much wood would a woodchuck chuck if a woodchuck could chuck wood?\",\n",
    "        \"answer\": \"A woodchuck would chuck as much wood as a woodchuck could chuck if a woodchuck could chuck wood.\"\n",
    "    }\n",
    "}\"\"\"\n",
    "\n",
    "fuzzyfaq = \"\"\"{\n",
    "    \"faq\": {\n",
    "        \"question\": \"Fuzzywuzzy was a bear. Fuzzywuzzy had no hair. So Fuzzywuzzy wasn't fuzzy, was he?\",\n",
    "        \"answer\": \"Nope.\"\n",
    "    }\n",
    "}\"\"\""
   ]
  },
  {
   "cell_type": "markdown",
   "id": "f1241d6f",
   "metadata": {},
   "source": [
    "## 2. Record class definition\n",
    "\n",
    "Here is the full FAQ class definition.  Each part will be described in more detail in the following sections."
   ]
  },
  {
   "cell_type": "code",
   "execution_count": 3,
   "id": "ce4f4cf7",
   "metadata": {},
   "outputs": [],
   "source": [
    "class FAQ(Record):\n",
    "    \"\"\"\n",
    "    Class for representing FAQ (frequently asked question) records.\n",
    "    \"\"\"\n",
    "    def __init__(self, model=None, name=None, **kwargs):\n",
    "        \"\"\"\n",
    "        Initializes a Record object for a given style.\n",
    "        \n",
    "        Parameters\n",
    "        ----------\n",
    "        model : str, file-like object, DataModelDict\n",
    "            The contents of the record.\n",
    "        name : str, optional\n",
    "            The unique name to assign to the record.  If model is a file\n",
    "            path, then the default record name is the file name without\n",
    "            extension.\n",
    "        \"\"\"\n",
    "        self.__question = None\n",
    "        self.__answer = None\n",
    "        super().__init__(model=model, name=name, **kwargs)\n",
    "\n",
    "    @property\n",
    "    def style(self):\n",
    "        \"\"\"str: The record style\"\"\"\n",
    "        return 'FAQ'\n",
    "\n",
    "    @property\n",
    "    def modelroot(self):\n",
    "        \"\"\"str: The root element of the content\"\"\"\n",
    "        return 'faq'\n",
    "    \n",
    "    @property\n",
    "    def xsl_filename(self):\n",
    "        \"\"\"tuple: The module path and file name of the record's xsl html transformer\"\"\"\n",
    "        return ('yabadaba.demo', 'FAQ.xsl')\n",
    "\n",
    "    @property\n",
    "    def xsd_filename(self):\n",
    "        \"\"\"tuple: The module path and file name of the record's xsd schema\"\"\"\n",
    "        return ('yabadaba.demo', 'FAQ.xsd')\n",
    "\n",
    "    @property\n",
    "    def question(self):\n",
    "        \"\"\"str: The frequently asked question.\"\"\"\n",
    "        return self.__question\n",
    "\n",
    "    @question.setter\n",
    "    def question(self, value):\n",
    "        if value is None:\n",
    "            self.__question = None\n",
    "        else:\n",
    "            self.__question = str(value)\n",
    "\n",
    "    @property\n",
    "    def answer(self):\n",
    "        \"\"\"str: The answer to the frequently asked question.\"\"\"\n",
    "        return self.__answer\n",
    "\n",
    "    @answer.setter\n",
    "    def answer(self, value):\n",
    "        if value is None:\n",
    "            self.__answer = None\n",
    "        else:\n",
    "            self.__answer = str(value)\n",
    "\n",
    "    def load_model(self, model, name=None):\n",
    "        \"\"\"\n",
    "        Loads record contents from a given model.\n",
    "\n",
    "        Parameters\n",
    "        ----------\n",
    "        model : str or DataModelDict\n",
    "            The model contents of the record to load.\n",
    "        name : str, optional\n",
    "            The name to assign to the record.  Often inferred from other\n",
    "            attributes if not given.\n",
    "        \"\"\"\n",
    "        super().load_model(model, name=name)\n",
    "\n",
    "        faq = self.model[self.modelroot]\n",
    "        self.question = faq['question']\n",
    "        self.answer = faq['answer']\n",
    "\n",
    "    def set_values(self, name=None, question=None, answer=None):\n",
    "        \"\"\"\n",
    "        Set multiple object attributes at the same time.\n",
    "\n",
    "        Parameters\n",
    "        ----------\n",
    "        name : str, optional\n",
    "            The name to assign to the record.  Often inferred from other\n",
    "            attributes if not given.\n",
    "        question : str, optional\n",
    "            The frequently asked question.\n",
    "        answer : str, optional\n",
    "            The answer to the frequently asked question.\n",
    "        \"\"\"\n",
    "        if question is not None:\n",
    "            self.question = question\n",
    "        if answer is not None:\n",
    "            self.answer = answer\n",
    "        if name is not None:\n",
    "            self.name = name\n",
    "\n",
    "    def build_model(self):\n",
    "        \"\"\"\n",
    "        Generates and returns model content based on the values set to object.\n",
    "        \"\"\"\n",
    "        model = DM()\n",
    "        model['faq'] = DM()\n",
    "        model['faq']['question'] = self.question\n",
    "        model['faq']['answer'] = self.answer\n",
    "\n",
    "        self._set_model(model)\n",
    "        return model\n",
    "\n",
    "    def metadata(self):\n",
    "        \"\"\"\n",
    "        Generates a dict of simple metadata values associated with the record.\n",
    "        Useful for quickly comparing records and for building pandas.DataFrames\n",
    "        for multiple records of the same style.\n",
    "        \"\"\"\n",
    "        meta = {}\n",
    "        meta['name'] = self.name\n",
    "        meta['question'] = self.question\n",
    "        meta['answer'] = self.answer\n",
    "        return meta\n",
    "\n",
    "    @property\n",
    "    def queries(self):\n",
    "        \"\"\"dict: Query objects and their associated parameter names.\"\"\"\n",
    "        return {\n",
    "            'question': load_query('str_contains',\n",
    "                name='question', path=f'{self.modelroot}.question',\n",
    "                description='Search the FAQ question field to see if it contains certain strings.'),\n",
    "            'answer': load_query('str_contains',\n",
    "                name='answer', path=f'{self.modelroot}.answer',\n",
    "                description='Search the FAQ answer field to see if it contains certain strings.'),\n",
    "        }"
   ]
  },
  {
   "cell_type": "markdown",
   "id": "e5c68d3c",
   "metadata": {},
   "source": [
    "## 3. Class init\n",
    "\n",
    "Related to Record behaviors, the init should\n",
    "- Initialize values for any class attributes, and\n",
    "- Pass model, name, and kwargs to the super Record init.\n",
    "\n",
    "The super Record init initializes the name and model attributes, then calls load_model if model is given or set_values if not.\n",
    "\n",
    "```python\n",
    "    def __init__(self, model=None, name=None, **kwargs):\n",
    "        \"\"\"\n",
    "        Initializes a Record object for a given style.\n",
    "        \n",
    "        Parameters\n",
    "        ----------\n",
    "        model : str, file-like object, DataModelDict\n",
    "            The contents of the record.\n",
    "        name : str, optional\n",
    "            The unique name to assign to the record.  If model is a file\n",
    "            path, then the default record name is the file name without\n",
    "            extension.\n",
    "        \"\"\"\n",
    "        self.__question = None\n",
    "        self.__answer = None\n",
    "        super().__init__(model=model, name=name, **kwargs)\n",
    "```"
   ]
  },
  {
   "cell_type": "code",
   "execution_count": 4,
   "id": "649f5681",
   "metadata": {},
   "outputs": [],
   "source": [
    "records = [\n",
    "    FAQ(name='faq', model=faqfaq),\n",
    "    FAQ(name='woodchuck', model=woodchuckfaq),\n",
    "    FAQ(name='fuzzy', model=fuzzyfaq),\n",
    "    FAQ(name='define', question='Can I define a FAQ using parameters?', answer=\"Yes, you can.\")\n",
    "]"
   ]
  },
  {
   "cell_type": "markdown",
   "id": "bf062d82",
   "metadata": {},
   "source": [
    "__NOTE__: If model is not given when a Record is initialized, the associated model contents will _not_ be constructed until the build_model() method is called.  This makes it possible to create Record objects without needing to specify all values.  "
   ]
  },
  {
   "cell_type": "code",
   "execution_count": 5,
   "id": "aa601854",
   "metadata": {},
   "outputs": [
    {
     "name": "stdout",
     "output_type": "stream",
     "text": [
      "{\"faq\": {\"question\": \"What does a FAQ Record represent?\", \"answer\": \"A frequently asked question and the corresponding answer.\"}}\n",
      "\n",
      "{\"faq\": {\"question\": \"How much wood would a woodchuck chuck if a woodchuck could chuck wood?\", \"answer\": \"A woodchuck would chuck as much wood as a woodchuck could chuck if a woodchuck could chuck wood.\"}}\n",
      "\n",
      "{\"faq\": {\"question\": \"Fuzzywuzzy was a bear. Fuzzywuzzy had no hair. So Fuzzywuzzy wasn't fuzzy, was he?\", \"answer\": \"Nope.\"}}\n",
      "\n",
      "AttributeError: model content has not been loaded or built\n",
      "\n"
     ]
    }
   ],
   "source": [
    "for record in records:\n",
    "    try:\n",
    "        print(record.model.json())\n",
    "    except AttributeError as e:\n",
    "        print('AttributeError:', e)\n",
    "    print()"
   ]
  },
  {
   "cell_type": "markdown",
   "id": "35544daf",
   "metadata": {},
   "source": [
    "## 4. Class attributes\n",
    "\n",
    "### 4.1.  Common Record attributes\n",
    "\n",
    "These attributes are defined for all Record subclasses\n",
    "\n",
    "- __style__ is the style name associated with the class.  It should correspond to the style given to the recordmanager.\n",
    "\n",
    "- __modelroot__ is the name of the root element of the data model schema.\n",
    "\n",
    "```python\n",
    "    @property\n",
    "    def style(self):\n",
    "        \"\"\"str: The record style\"\"\"\n",
    "        return 'FAQ'\n",
    "\n",
    "    @property\n",
    "    def modelroot(self):\n",
    "        \"\"\"str: The root element of the content\"\"\"\n",
    "        return 'faq'\n",
    "```"
   ]
  },
  {
   "cell_type": "code",
   "execution_count": 6,
   "id": "489c3887",
   "metadata": {},
   "outputs": [
    {
     "name": "stdout",
     "output_type": "stream",
     "text": [
      "style = FAQ\n",
      "modelroot = faq\n"
     ]
    }
   ],
   "source": [
    "print('style =', records[0].style)\n",
    "print('modelroot =',records[0].modelroot)"
   ]
  },
  {
   "cell_type": "code",
   "execution_count": 7,
   "id": "a8adef6f",
   "metadata": {},
   "outputs": [
    {
     "name": "stdout",
     "output_type": "stream",
     "text": [
      "FAQ record named fuzzy\n"
     ]
    }
   ],
   "source": [
    "print(records[2])"
   ]
  },
  {
   "cell_type": "markdown",
   "id": "06677605",
   "metadata": {},
   "source": [
    "### 4.2. Optional XML supporting attributes\n",
    "\n",
    "These attributes are optional, but if given allow for methods related to the XML representation of the data to be used.\n",
    "\n",
    "- __xsl_filename__ is a tuple consisting of module path and file name where an XSL file that transforms the XML content to HTML can be found.  Specifying this allows for the record's content to be rendered as HTML using the html() method.\n",
    "\n",
    "- __xsd_filename__ is a tuple consisting of module path and file name where an XSD file that defines a schema for the record can be found.  Specifying this allows for record contents to be validated against the schema with the valid_xml() method.\n",
    "\n",
    "```python\n",
    "    @property\n",
    "    def xsl_filename(self):\n",
    "        \"\"\"tuple: The module path and file name of the record's xsl html transformer\"\"\"\n",
    "        return ('yabadaba.demo', 'FAQ.xsl')\n",
    "\n",
    "    @property\n",
    "    def xsd_filename(self):\n",
    "        \"\"\"tuple: The module path and file name of the record's xsd schema\"\"\"\n",
    "        return ('yabadaba.demo', 'FAQ.xsd')\n",
    "```"
   ]
  },
  {
   "cell_type": "markdown",
   "id": "3322ea24",
   "metadata": {},
   "source": [
    "__Note__: the XML-based methods require that the data model be loaded/built as they use the XML representation of the data. "
   ]
  },
  {
   "cell_type": "code",
   "execution_count": 8,
   "id": "590e9a50",
   "metadata": {},
   "outputs": [],
   "source": [
    "# Call build_model() on all records to ensure that the models exist \n",
    "for record in records:\n",
    "    record.build_model()"
   ]
  },
  {
   "cell_type": "code",
   "execution_count": 9,
   "id": "e2dfee25",
   "metadata": {},
   "outputs": [
    {
     "name": "stdout",
     "output_type": "stream",
     "text": [
      "True\n",
      "True\n",
      "True\n",
      "True\n"
     ]
    }
   ],
   "source": [
    "for record in records:\n",
    "    print(record.valid_xml())"
   ]
  },
  {
   "cell_type": "code",
   "execution_count": 10,
   "id": "38f8afca",
   "metadata": {},
   "outputs": [
    {
     "data": {
      "text/html": [
       "<div xmlns=\"http://www.w3.org/TR/xhtml1/strict\"><b>Question: What does a FAQ Record represent?</b><br/>Answer: A frequently asked question and the corresponding answer.</div>"
      ],
      "text/plain": [
       "<IPython.core.display.HTML object>"
      ]
     },
     "metadata": {},
     "output_type": "display_data"
    },
    {
     "data": {
      "text/html": [
       "<div xmlns=\"http://www.w3.org/TR/xhtml1/strict\"><b>Question: How much wood would a woodchuck chuck if a woodchuck could chuck wood?</b><br/>Answer: A woodchuck would chuck as much wood as a woodchuck could chuck if a woodchuck could chuck wood.</div>"
      ],
      "text/plain": [
       "<IPython.core.display.HTML object>"
      ]
     },
     "metadata": {},
     "output_type": "display_data"
    },
    {
     "data": {
      "text/html": [
       "<div xmlns=\"http://www.w3.org/TR/xhtml1/strict\"><b>Question: Fuzzywuzzy was a bear. Fuzzywuzzy had no hair. So Fuzzywuzzy wasn't fuzzy, was he?</b><br/>Answer: Nope.</div>"
      ],
      "text/plain": [
       "<IPython.core.display.HTML object>"
      ]
     },
     "metadata": {},
     "output_type": "display_data"
    },
    {
     "data": {
      "text/html": [
       "<div xmlns=\"http://www.w3.org/TR/xhtml1/strict\"><b>Question: Can I define a FAQ using parameters?</b><br/>Answer: Yes, you can.</div>"
      ],
      "text/plain": [
       "<IPython.core.display.HTML object>"
      ]
     },
     "metadata": {},
     "output_type": "display_data"
    }
   ],
   "source": [
    "for record in records:\n",
    "    record.html(render=True)"
   ]
  },
  {
   "cell_type": "markdown",
   "id": "eb7a96cf",
   "metadata": {},
   "source": [
    "### 4.3. Class-specific attributes\n",
    "\n",
    "It is highly encouraged that each Record subclass also defines attributes and methods that are specifically associated with the underlying data.  In this way, the Record objects serve both as a means of interacting with the raw content and interacting with the data in Pythonic ways.  Here, the FAQ class defines attributes for question and answer and allows for the values to be directly set.\n",
    "\n",
    "```python\n",
    "    @property\n",
    "    def question(self):\n",
    "        \"\"\"str: The frequently asked question.\"\"\"\n",
    "        return self.__question\n",
    "\n",
    "    @question.setter\n",
    "    def question(self, value):\n",
    "        if value is None:\n",
    "            self.__question = None\n",
    "        else:\n",
    "            self.__question = str(value)\n",
    "\n",
    "    @property\n",
    "    def answer(self):\n",
    "        \"\"\"str: The answer to the frequently asked question.\"\"\"\n",
    "        return self.__answer\n",
    "\n",
    "    @answer.setter\n",
    "    def answer(self, value):\n",
    "        if value is None:\n",
    "            self.__answer = None\n",
    "        else:\n",
    "            self.__answer = str(value)\n",
    "```"
   ]
  },
  {
   "cell_type": "code",
   "execution_count": 11,
   "id": "2ea79355",
   "metadata": {},
   "outputs": [
    {
     "data": {
      "text/plain": [
       "'What does a FAQ Record represent?'"
      ]
     },
     "execution_count": 11,
     "metadata": {},
     "output_type": "execute_result"
    }
   ],
   "source": [
    "records[0].question"
   ]
  },
  {
   "cell_type": "code",
   "execution_count": 12,
   "id": "5321769e",
   "metadata": {},
   "outputs": [
    {
     "data": {
      "text/plain": [
       "'A frequently asked question and the corresponding answer.'"
      ]
     },
     "execution_count": 12,
     "metadata": {},
     "output_type": "execute_result"
    }
   ],
   "source": [
    "records[0].answer"
   ]
  },
  {
   "cell_type": "markdown",
   "id": "b0643ba0",
   "metadata": {},
   "source": [
    "## 5. Data interpretation methods\n",
    "\n",
    "These are the methods that are defined on a per-schema basis to interpret and convert the data into different representations."
   ]
  },
  {
   "cell_type": "markdown",
   "id": "626f4169",
   "metadata": {},
   "source": [
    "### 5.1. load_model\n",
    "\n",
    "The load_model method reads the given model contents as a DataModelDict, sets the object's model attribute, and sets the values of any class-specific attributes according to the model contents.  This method is called during init if the model parameter is given.\n",
    "\n",
    "```python\n",
    "    def load_model(self, model, name=None):\n",
    "        \"\"\"\n",
    "        Loads record contents from a given model.\n",
    "\n",
    "        Parameters\n",
    "        ----------\n",
    "        model : str or DataModelDict\n",
    "            The model contents of the record to load.\n",
    "        name : str, optional\n",
    "            The name to assign to the record.  Often inferred from other\n",
    "            attributes if not given.\n",
    "        \"\"\"\n",
    "        super().load_model(model, name=name)\n",
    "\n",
    "        faq = self.model[self.modelroot]\n",
    "        self.question = faq['question']\n",
    "        self.answer = faq['answer']\n",
    "```\n",
    "\n",
    "The base Record class also defines a reload_model() method. reload_model() calls load_model() using the current Record model contents.  This allows for the class parameters to be updated after making direct changes to the model contents.\n",
    "\n",
    "\n",
    "### 5.2. set_values\n",
    "\n",
    "The set_values method provides a single function that can set most of the class's attribute values. Note that calling set_values does _not_ set or change the value of the model attribute.  This method is called during init if the model parameter is not given.\n",
    "\n",
    "Here are some different suggested variations of using set_values\n",
    "- Define setters for all class attributes and have set_values assign all given values using them (seen here).\n",
    "- Use set_values as the primary means of setting class attributes.  Useful if class attribute values are not independent of each other.\n",
    "- Don't define a set_values function and don't define setters for the class attributes.  This makes the Record's attributes read-only from the model.  Note that the Record will not be completely read-only as changes can still be made to the Record's model.\n",
    "\n",
    "\n",
    "```python\n",
    "    def set_values(self, name=None, question=None, answer=None):\n",
    "        \"\"\"\n",
    "        Set multiple object attributes at the same time.\n",
    "\n",
    "        Parameters\n",
    "        ----------\n",
    "        name : str, optional\n",
    "            The name to assign to the record.  Often inferred from other\n",
    "            attributes if not given.\n",
    "        question : str, optional\n",
    "            The frequently asked question.\n",
    "        answer : str, optional\n",
    "            The answer to the frequently asked question.\n",
    "        \"\"\"\n",
    "        if question is not None:\n",
    "            self.question = question\n",
    "        if answer is not None:\n",
    "            self.answer = answer\n",
    "        if name is not None:\n",
    "            self.name = name\n",
    "```\n",
    "\n",
    "### 5.3. build_model\n",
    "\n",
    "The build_model method takes the current values of the class attributes and builds the data model contents based on them.  It then updates the Record's model attribute and returns the new model.  The actions of this method should be consistent with the Record's schema.  \n",
    "\n",
    "```python\n",
    "    def build_model(self):\n",
    "        \"\"\"\n",
    "        Generates and returns model content based on the values set to object.\n",
    "        \"\"\"\n",
    "        model = DM()\n",
    "        model['faq'] = DM()\n",
    "        model['faq']['question'] = self.question\n",
    "        model['faq']['answer'] = self.answer\n",
    "\n",
    "        self._set_model(model)\n",
    "        return model\n",
    "```\n",
    "\n",
    "### 5.4. metadata\n",
    "\n",
    "The metadata method returns a dictionary containing class attributes.  Ideally, the included fields should only be simple values, such as str, int, float, list and dict, and embedded lists and dicts should be avoided whenever possible to keep the overall structure flat.  This dictionary is used to construct pandas.DataFrames based on sets of records to allow for easy comparison and parsing of the records, so it should contain all meaningful fields for such operations.\n",
    "\n",
    "```python\n",
    "    def metadata(self):\n",
    "        \"\"\"\n",
    "        Generates a dict of simple metadata values associated with the record.\n",
    "        Useful for quickly comparing records and for building pandas.DataFrames\n",
    "        for multiple records of the same style.\n",
    "        \"\"\"\n",
    "        meta = {}\n",
    "        meta['name'] = self.name\n",
    "        meta['question'] = self.question\n",
    "        meta['answer'] = self.answer\n",
    "        return meta\n",
    "```"
   ]
  },
  {
   "cell_type": "code",
   "execution_count": 13,
   "id": "f1d22222",
   "metadata": {},
   "outputs": [
    {
     "data": {
      "text/html": [
       "<div>\n",
       "<style scoped>\n",
       "    .dataframe tbody tr th:only-of-type {\n",
       "        vertical-align: middle;\n",
       "    }\n",
       "\n",
       "    .dataframe tbody tr th {\n",
       "        vertical-align: top;\n",
       "    }\n",
       "\n",
       "    .dataframe thead th {\n",
       "        text-align: right;\n",
       "    }\n",
       "</style>\n",
       "<table border=\"1\" class=\"dataframe\">\n",
       "  <thead>\n",
       "    <tr style=\"text-align: right;\">\n",
       "      <th></th>\n",
       "      <th>name</th>\n",
       "      <th>question</th>\n",
       "      <th>answer</th>\n",
       "    </tr>\n",
       "  </thead>\n",
       "  <tbody>\n",
       "    <tr>\n",
       "      <th>0</th>\n",
       "      <td>faq</td>\n",
       "      <td>What does a FAQ Record represent?</td>\n",
       "      <td>A frequently asked question and the correspond...</td>\n",
       "    </tr>\n",
       "    <tr>\n",
       "      <th>1</th>\n",
       "      <td>woodchuck</td>\n",
       "      <td>How much wood would a woodchuck chuck if a woo...</td>\n",
       "      <td>A woodchuck would chuck as much wood as a wood...</td>\n",
       "    </tr>\n",
       "    <tr>\n",
       "      <th>2</th>\n",
       "      <td>fuzzy</td>\n",
       "      <td>Fuzzywuzzy was a bear. Fuzzywuzzy had no hair....</td>\n",
       "      <td>Nope.</td>\n",
       "    </tr>\n",
       "    <tr>\n",
       "      <th>3</th>\n",
       "      <td>define</td>\n",
       "      <td>Can I define a FAQ using parameters?</td>\n",
       "      <td>Yes, you can.</td>\n",
       "    </tr>\n",
       "  </tbody>\n",
       "</table>\n",
       "</div>"
      ],
      "text/plain": [
       "        name                                           question  \\\n",
       "0        faq                  What does a FAQ Record represent?   \n",
       "1  woodchuck  How much wood would a woodchuck chuck if a woo...   \n",
       "2      fuzzy  Fuzzywuzzy was a bear. Fuzzywuzzy had no hair....   \n",
       "3     define               Can I define a FAQ using parameters?   \n",
       "\n",
       "                                              answer  \n",
       "0  A frequently asked question and the correspond...  \n",
       "1  A woodchuck would chuck as much wood as a wood...  \n",
       "2                                              Nope.  \n",
       "3                                      Yes, you can.  "
      ]
     },
     "execution_count": 13,
     "metadata": {},
     "output_type": "execute_result"
    }
   ],
   "source": [
    "# Quick demo of building a metadata DataFrame\n",
    "df = []\n",
    "for record in records:\n",
    "    df.append(record.metadata())\n",
    "df = pd.DataFrame(df)\n",
    "df"
   ]
  },
  {
   "cell_type": "markdown",
   "id": "827917b3",
   "metadata": {},
   "source": [
    "## 6. Queries\n",
    "\n",
    "The Record classes also contain methods that translate input parameters into delimiting database query operations.  Doing so makes it possible for the Database classes to perform efficient queries that return consistent responses across all of the database styles.\n",
    "\n",
    "### 6.1. Query object definitions\n",
    "\n",
    "A queries attribute can be defined which consists of a dict of Query objects.  Specifying the Query objects in this dict makes it possible to automate the creation of the query methods below.\n",
    "\n",
    "For the queries dict\n",
    "\n",
    "- The dict's keys correspond to the keyword parameter names that will be recognized by the Record's query methods.  \n",
    "- The dict's values are Query objects that classify the type of query and what data fields are associated with it.  These can be initialized using load_query() and the following parameters\n",
    "    - __style__ (*str*) indicates the type of query operation to be performed.\n",
    "    - __path__ (*str*) provides the period-delimited data model path from model root to the field that the query operates on.\n",
    "    - __name__ (*str*) indicates the field in the metadata representation that the query operates on.\n",
    "    - __parent__(*str or None*) is an optional parameter that allows for queries on the metadata to be inside an embedded dict, i.e. the value being queried is at metadata()\\[parent\\]\\[name\\]. Note that this only allows one level of embedding in the metadata to be explored, so metadata should be as flat as possible.\n",
    "    - __description__ (*str, optional*) Description of the query operation, i.e. what it is searching.\n",
    "\n",
    "The current list of Query styles\n",
    "- __str_match__ performs a query on a string data field and identifies matches when one of the given values exactly matches the data field's value.\n",
    "- __int_match__ performs a query on a integer data field and identifies matches when one of the given values exactly matches the data field's value.\n",
    "- __float_match__ performs a query on a float data field and identifies matches when one of the given values matches with the data field's value within a set absolute tolerance.  This style takes two additional optional parameters\n",
    "    - __atol__ (*float, optional*) is the absolute tolerance for the match.  The default value is 1e-5.\n",
    "    - __unit__ (*str or None, optional*) Unit to use for the given query value.  This should be the unit used in the JSON/XML records for the value in question.  A value of None indicates no unit or conversion needed.\n",
    "- __date_match__ performs a query on a date data field and identifies matches when one of the given values exactly matches the data field's value.\n",
    "- __str_contains__ performs a query on a string data field and identifies matches when all of the given values are contained in the data field's value.\n",
    "- __list_contains__ performs a query on a list data field and identifies matches when all of the given values are contained in the data field's value.\n",
    "\n",
    "```python\n",
    "    @property\n",
    "    def queries(self):\n",
    "        \"\"\"dict: Query objects and their associated parameter names.\"\"\"\n",
    "        return {\n",
    "            'question': load_query('str_contains',\n",
    "                name='question', path=f'{self.modelroot}.question',\n",
    "                description='Search the FAQ question field to see if it contains certain strings.'),\n",
    "            'answer': load_query('str_contains',\n",
    "                name='answer', path=f'{self.modelroot}.answer',\n",
    "                description='Search the FAQ answer field to see if it contains certain strings.'),\n",
    "        }\n",
    "```"
   ]
  },
  {
   "cell_type": "code",
   "execution_count": 14,
   "id": "137b7909",
   "metadata": {},
   "outputs": [
    {
     "name": "stdout",
     "output_type": "stream",
     "text": [
      "question : query style str_contains\n",
      "answer : query style str_contains\n"
     ]
    }
   ],
   "source": [
    "for key, value in records[0].queries.items():\n",
    "    print(key, ':', value)"
   ]
  },
  {
   "cell_type": "markdown",
   "id": "4766e045",
   "metadata": {},
   "source": [
    "### 6.2. View all query discriptions for the record with querydoc\n",
    "\n",
    "As each Record class will have different query terms based on the content that they contain, it is important for end users to know what terms that they can search on.  The querydoc attribute of the Record class will return string documentation for the queries based on their descriptions. The querydoc content is formatted as Markdown code, so you can alternately render it as such in a Jupyter Notebook."
   ]
  },
  {
   "cell_type": "code",
   "execution_count": 15,
   "id": "7f073689",
   "metadata": {},
   "outputs": [
    {
     "name": "stdout",
     "output_type": "stream",
     "text": [
      "# FAQ Query Parameters\n",
      "\n",
      "- __question__ (str_contains): Search the FAQ question field to see if it contains certain strings.\n",
      "- __answer__ (str_contains): Search the FAQ answer field to see if it contains certain strings.\n",
      "\n"
     ]
    }
   ],
   "source": [
    "print(records[0].querydoc)"
   ]
  },
  {
   "cell_type": "code",
   "execution_count": 16,
   "id": "8d9260a9",
   "metadata": {},
   "outputs": [
    {
     "data": {
      "text/markdown": [
       "### FAQ Query Parameters\n",
       "\n",
       "- __question__ (str_contains): Search the FAQ question field to see if it contains certain strings.\n",
       "- __answer__ (str_contains): Search the FAQ answer field to see if it contains certain strings.\n"
      ],
      "text/plain": [
       "<IPython.core.display.Markdown object>"
      ]
     },
     "metadata": {},
     "output_type": "display_data"
    }
   ],
   "source": [
    "# Use Ipython display. Extra '##' is optional and just reduces the header size of the title here\n",
    "display(Markdown('##' + records[0].querydoc))"
   ]
  },
  {
   "cell_type": "markdown",
   "id": "bcea18b3",
   "metadata": {},
   "source": [
    "### 6.3. Querying and parsing metadata using pandasfilter\n",
    "\n",
    "The pandasfilter() method takes a pandas.DataFrame containing the Record's metadata fields and returns a filtering mask based on the given keyword arguments.  This parses the DataFrame and only returns the entries that correspond to the data query operations.  Note that while this is used by some of the Database querying operations, the pandasfilter() can be used to directly operate on a DataFrame object either generated manually or obtained from a less rigorous query.\n",
    "\n",
    "The base Record class defines pandasfilter() in such a way that it will automatically build and apply filters for all Queries in queries.  Defining pandasfilter() in the child class is entirely optional, but makes it possible to manually adjust, replace or add query operations beyond what the Query objects can handle.  If pandasfilter() is defined in the subclass, it should always call the super() version to handle the \"name\" query.\n",
    "\n",
    "Below is a template pandasfilter() method for use in a child record class if needed. \n",
    "\n",
    "```python\n",
    "    def pandasfilter(self, dataframe, name=None, **kwargs):\n",
    "        \"\"\"\n",
    "        Filters a pandas.DataFrame based on kwargs values for the record style.\n",
    "        \n",
    "        Parameters\n",
    "        ----------\n",
    "        dataframe : pandas.DataFrame\n",
    "            A table of metadata for multiple records of the record style.\n",
    "        name : str or list\n",
    "            The record name(s) to parse by.\n",
    "        **kwargs : any\n",
    "            Any of the record style-specific search parameters.\n",
    "        \n",
    "        Returns\n",
    "        -------\n",
    "        pandas.Series\n",
    "            Boolean map of matching values\n",
    "        \"\"\"\n",
    "        matches = super().pandasfilter(dataframe, name=name, **kwargs)\n",
    "        \n",
    "        # Apply additional filters as follows:\n",
    "        newtest = dataframe[CONDITION]             # Test for a condition on the dataframe\n",
    "        matches = (matches & newtest)              # Update the matches mask \n",
    "        \n",
    "        return matches\n",
    "```"
   ]
  },
  {
   "cell_type": "code",
   "execution_count": 17,
   "id": "ad8bfd98",
   "metadata": {},
   "outputs": [
    {
     "data": {
      "text/html": [
       "<div>\n",
       "<style scoped>\n",
       "    .dataframe tbody tr th:only-of-type {\n",
       "        vertical-align: middle;\n",
       "    }\n",
       "\n",
       "    .dataframe tbody tr th {\n",
       "        vertical-align: top;\n",
       "    }\n",
       "\n",
       "    .dataframe thead th {\n",
       "        text-align: right;\n",
       "    }\n",
       "</style>\n",
       "<table border=\"1\" class=\"dataframe\">\n",
       "  <thead>\n",
       "    <tr style=\"text-align: right;\">\n",
       "      <th></th>\n",
       "      <th>name</th>\n",
       "      <th>question</th>\n",
       "      <th>answer</th>\n",
       "    </tr>\n",
       "  </thead>\n",
       "  <tbody>\n",
       "    <tr>\n",
       "      <th>0</th>\n",
       "      <td>faq</td>\n",
       "      <td>What does a FAQ Record represent?</td>\n",
       "      <td>A frequently asked question and the correspond...</td>\n",
       "    </tr>\n",
       "    <tr>\n",
       "      <th>1</th>\n",
       "      <td>woodchuck</td>\n",
       "      <td>How much wood would a woodchuck chuck if a woo...</td>\n",
       "      <td>A woodchuck would chuck as much wood as a wood...</td>\n",
       "    </tr>\n",
       "    <tr>\n",
       "      <th>2</th>\n",
       "      <td>fuzzy</td>\n",
       "      <td>Fuzzywuzzy was a bear. Fuzzywuzzy had no hair....</td>\n",
       "      <td>Nope.</td>\n",
       "    </tr>\n",
       "    <tr>\n",
       "      <th>3</th>\n",
       "      <td>define</td>\n",
       "      <td>Can I define a FAQ using parameters?</td>\n",
       "      <td>Yes, you can.</td>\n",
       "    </tr>\n",
       "  </tbody>\n",
       "</table>\n",
       "</div>"
      ],
      "text/plain": [
       "        name                                           question  \\\n",
       "0        faq                  What does a FAQ Record represent?   \n",
       "1  woodchuck  How much wood would a woodchuck chuck if a woo...   \n",
       "2      fuzzy  Fuzzywuzzy was a bear. Fuzzywuzzy had no hair....   \n",
       "3     define               Can I define a FAQ using parameters?   \n",
       "\n",
       "                                              answer  \n",
       "0  A frequently asked question and the correspond...  \n",
       "1  A woodchuck would chuck as much wood as a wood...  \n",
       "2                                              Nope.  \n",
       "3                                      Yes, you can.  "
      ]
     },
     "execution_count": 17,
     "metadata": {},
     "output_type": "execute_result"
    }
   ],
   "source": [
    "df"
   ]
  },
  {
   "cell_type": "code",
   "execution_count": 18,
   "id": "6be6bf33",
   "metadata": {},
   "outputs": [
    {
     "data": {
      "text/plain": [
       "0     True\n",
       "1    False\n",
       "2    False\n",
       "3     True\n",
       "dtype: bool"
      ]
     },
     "execution_count": 18,
     "metadata": {},
     "output_type": "execute_result"
    }
   ],
   "source": [
    "# Find which records have question that contains \"FAQ\"\n",
    "records[0].pandasfilter(df, question='FAQ')"
   ]
  },
  {
   "cell_type": "markdown",
   "id": "02a36493",
   "metadata": {},
   "source": [
    "### 6.3. Build database queries using mongoquery and cdcsquery\n",
    "\n",
    "The mongoquery() and cdcsquery() methods construct Mongo-style queries according to the given kwargs.  Each method returns the generated query operations as a dict.  The associated Database query operations transmit the query dict to the database, which in turn only returns records that adhere to the query.\n",
    "\n",
    "The base Record class defines mongoquery() and cdcsquery() methods in such a way that it will automatically generate all query operations associated with the defined Query objects in the queries attribute.  Defining these methods in the child class is entirely optional, but makes it possible to manually adjust, replace or add query operations beyond what the Query objects can handle.  If the mongoquery() class is defined, it should always call the super() version as the base Record handles the \"name\" query.  The cdcsquery() method does not include the \"name\" parameter as the related operation is handled elsewhere.\n",
    "\n",
    "\n",
    "Below are template mongoquery() and cdcsquery() methods for use in a child record class if needed. Note that operations between the two methods are typically identical except that\n",
    "\n",
    "- cdcs query operations only operate on record contents and paths start with the record's root.\n",
    "- mongo query operations can operate on record metadata as well, so queries to record contents need to start with 'content.' prior to the record's root.  Defining operations around non-content queries is not recommended as they would be unique to mongo.\n",
    "\n",
    "```python\n",
    "    def mongoquery(self, name=None, **kwargs):\n",
    "        \"\"\"\n",
    "        Builds a Mongo-style query based on kwargs values for the record style.\n",
    "        \n",
    "        Parameters\n",
    "        ----------\n",
    "        name : str or list\n",
    "            The record name(s) to parse by.\n",
    "        **kwargs : any\n",
    "            Any of the record style-specific search parameters.\n",
    "        \n",
    "        Returns\n",
    "        -------\n",
    "        dict\n",
    "            The Mongo-style query\n",
    "        \"\"\"     \n",
    "        mquery = super().mongoquery(name=name, **kwargs)\n",
    "        \n",
    "        # Apply additional filters as follows:\n",
    "        newquery = {'content.root.path': CONDITION}    # Define the query operation\n",
    "        mquery['$and'].append(newquery)                # Add the query to the top level $and \n",
    "        \n",
    "        return mquery\n",
    "\n",
    "    def cdcsquery(self, **kwargs):\n",
    "        \"\"\"\n",
    "        Builds a CDCS-style query based on kwargs values for the record style.\n",
    "        \n",
    "        Parameters\n",
    "        ----------\n",
    "        **kwargs : any\n",
    "            Any of the record style-specific search parameters.\n",
    "        \n",
    "        Returns\n",
    "        -------\n",
    "        dict\n",
    "            The CDCS-style query\n",
    "        \"\"\"\n",
    "        mquery = super().cdcsquery(**kwargs)\n",
    "               \n",
    "        # Apply additional filters as follows:\n",
    "        newquery = {'root.path': CONDITION}            # Define the query operation\n",
    "        mquery['$and'].append(newquery)                # Add the query to the top level $and \n",
    "               \n",
    "        return mquery\n",
    "```"
   ]
  },
  {
   "cell_type": "code",
   "execution_count": 19,
   "id": "06b15dcb",
   "metadata": {},
   "outputs": [
    {
     "data": {
      "text/plain": [
       "{'$and': [{}, {'$and': [{'content.faq.question': {'$regex': 'Record'}}]}]}"
      ]
     },
     "execution_count": 19,
     "metadata": {},
     "output_type": "execute_result"
    }
   ],
   "source": [
    "records[0].mongoquery(question='Record')"
   ]
  },
  {
   "cell_type": "code",
   "execution_count": 20,
   "id": "bfc91e1d",
   "metadata": {},
   "outputs": [
    {
     "data": {
      "text/plain": [
       "{'$and': [{}, {'$and': [{'faq.question': {'$regex': 'Record'}}]}]}"
      ]
     },
     "execution_count": 20,
     "metadata": {},
     "output_type": "execute_result"
    }
   ],
   "source": [
    "records[0].cdcsquery(question='Record')"
   ]
  },
  {
   "cell_type": "markdown",
   "id": "ca60fab4",
   "metadata": {},
   "source": [
    "## 7. Next steps\n",
    "\n",
    "Once a Record subclass has been defined it can be integrated into the yabadaba database tools by adding it to the recordmanager.  This can be done by adding the class to the recordmanager's loaded_styles as shown below, but it is highly recommended to follow the procedure described in the next Notebook."
   ]
  },
  {
   "cell_type": "code",
   "execution_count": 21,
   "id": "bb9ee9ab",
   "metadata": {},
   "outputs": [],
   "source": [
    "recordmanager.loaded_styles['FAQ'] = FAQ"
   ]
  },
  {
   "cell_type": "code",
   "execution_count": 22,
   "id": "0a7e0e11",
   "metadata": {},
   "outputs": [
    {
     "name": "stdout",
     "output_type": "stream",
     "text": [
      "Record styles that passed import:\n",
      "- FAQ: <class '__main__.FAQ'>\n",
      "Record styles that failed import:\n",
      "\n"
     ]
    }
   ],
   "source": [
    "recordmanager.check_styles()"
   ]
  }
 ],
 "metadata": {
  "kernelspec": {
   "display_name": "Python 3 (ipykernel)",
   "language": "python",
   "name": "python3"
  },
  "language_info": {
   "codemirror_mode": {
    "name": "ipython",
    "version": 3
   },
   "file_extension": ".py",
   "mimetype": "text/x-python",
   "name": "python",
   "nbconvert_exporter": "python",
   "pygments_lexer": "ipython3",
   "version": "3.7.13"
  }
 },
 "nbformat": 4,
 "nbformat_minor": 5
}
