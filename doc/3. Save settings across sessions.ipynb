{
 "cells": [
  {
   "cell_type": "markdown",
   "id": "f24c2e30-a6cf-4c92-b3d3-e149bee8a1e9",
   "metadata": {},
   "source": [
    "# Introduction to yabadaba: Save settings across sessions\n",
    "\n",
    "The yabadaba package also provides a means for users to save certain settings and options that can be loaded again later in a separate Python session.  This Notebook describes how to change those settings for basic users, and how more advanced users can extend the capability to include additional project-specific settings.\n",
    "\n",
    "Outline of this Notebook:\n",
    "\n",
    "1. Saving and loading database host and authentication information.\n",
    "2. Basics on yabadaba.settings.\n",
    "3. How to implement more advanced settings modifications."
   ]
  },
  {
   "cell_type": "code",
   "execution_count": 1,
   "id": "97563b36-a4f5-43e8-b4bb-2aac183addae",
   "metadata": {},
   "outputs": [
    {
     "name": "stdout",
     "output_type": "stream",
     "text": [
      "yabadaba version = 0.3.0\n",
      "Notebook executed on 2025-02-13\n"
     ]
    }
   ],
   "source": [
    "# Standard Python libraries\n",
    "import datetime\n",
    "\n",
    "# Import the main yabadaba package\n",
    "import yabadaba\n",
    "\n",
    "# Show yabadaba version\n",
    "print('yabadaba version =', yabadaba.__version__)\n",
    "\n",
    "# Show date of Notebook execution\n",
    "print('Notebook executed on', datetime.date.today())"
   ]
  },
  {
   "cell_type": "markdown",
   "id": "df735a2f-da92-4c19-ae0c-584bf0a0bb56",
   "metadata": {},
   "source": [
    "## 1. Saving and loading database access and authentication information\n",
    "\n",
    "There are two things common to database interactions:\n",
    "\n",
    "1. Data of a given type tends to be hosted in a single location or a small number of user-accessible duplicates.\n",
    "2. Correctly specifying the access and authentication information for a given database can often be tricky.\n",
    "\n",
    "Because of these points, yabadaba offers the ability to save the access and authentication details for different databases that can later be easily retrieved using simple names."
   ]
  },
  {
   "cell_type": "markdown",
   "id": "377a9084-6138-4325-985b-5bd90a018fb5",
   "metadata": {},
   "source": [
    "### 1.1. View and load a database from the settings\n",
    "\n",
    "__yabadaba.settings.list_databases__ lists the names for all currently set databases."
   ]
  },
  {
   "cell_type": "code",
   "execution_count": 2,
   "id": "b2250cdc-599b-4bc7-a464-8034b003b11b",
   "metadata": {},
   "outputs": [
    {
     "data": {
      "text/plain": [
       "['dbliquid', 'potentials', 'mongo']"
      ]
     },
     "execution_count": 2,
     "metadata": {},
     "output_type": "execute_result"
    }
   ],
   "source": [
    "yabadaba.settings.list_databases"
   ]
  },
  {
   "cell_type": "markdown",
   "id": "1a218a33-5aa6-4c23-a855-6279f075f90e",
   "metadata": {},
   "source": [
    "The __yabadaba.load_database()__ method has access to the settings and can load database settings according to a database name. Since 'name' is the first keyword parameter for the method, the database name is all that is needed to load a pre-defined database from settings."
   ]
  },
  {
   "cell_type": "code",
   "execution_count": 3,
   "id": "1ca974a8-9320-48dd-b70c-cc4acc8c1005",
   "metadata": {},
   "outputs": [
    {
     "name": "stdout",
     "output_type": "stream",
     "text": [
      "database style local at /home/lmh1/dbliquid_data\n"
     ]
    }
   ],
   "source": [
    "database = yabadaba.load_database('dbliquid')\n",
    "print(database)"
   ]
  },
  {
   "cell_type": "markdown",
   "id": "e5b42abe-c4d3-4e32-a236-821550dda9a3",
   "metadata": {},
   "source": [
    "### 1.2. Saving new database settings\n",
    "\n",
    "The access and authentication settings for a database can be saved using __yabadaba.settings.set_database()__.\n",
    "\n",
    "__Caution!!__ All specified settings will be saved to an unencrypted settings file (see below). As such, be careful with what settings you save if others have access to your home directory.\n",
    "\n",
    "Basic parameters:\n",
    "\n",
    "- __name__ (*str*) is the name to assign the settings to.\n",
    "- __style__ (*str*) is the style/type of database that is being accessed.\n",
    "- __host__ (*str*) is the host location for the database.  This is usually a URL or a file path.\n",
    "- __\\*\\*kwargs__ (*any, optional*) are any other database-style-specific parameters needed to properly access the database.  If no kwargs are specified, there will be prompts asking for them by giving a key then a value. until done.\n",
    "\n",
    "Parameters specific to the 'local' database style:\n",
    "\n",
    "- __format__ (*str, optional*) The file format that is used: \"json\" or \"xml\".  Default value is \"json\".\n",
    "- __indent__ (*int or None, optional*) The number of indentation spacings to use in the files.  If None, then the files will be compact.  Default value is 4.\n",
    "\n",
    "Parameters specific to the 'cdcs' database style:\n",
    "\n",
    "- __username__ (*str, optional*) The username to use for accessing the database. An empty str \"\" indicates that the access is anonymous (no login required).\n",
    "- __password__ (*str, optional*) The password associated with username to use for accessing the database. If a password is needed and not saved, then a prompt will ask for it whenever a database class is initialized.\n",
    "- __cert__ (*str, optional*) The path to a certification file if needed for accessing the database.\n",
    "- __certification__ (*str, optional*) Alias for cert. Retained for compatibility.\n",
    "- __verify__ (*bool or str, optional*) Either a boolean, in which case it controls whether the server's TLS certificate is verified, or a string, in which case it must be a path to a CA bundle to use. Defaults to True.\n",
    "- __cdcsversion__ (*str, optional*) For CDCS versions 2.X.X, this allows for specifying the full CDCS version to ensure the correct REST calls are used.  This can be specified as \"#.#.#\", or if None is given will default to \"2.15.0\".  For CDCS versions 3.X.X, this is ignored as version info is obtained directly from the database.\n",
    "\n",
    "Parameters specific to the 'mongo' database style:\n",
    "\n",
    "- __port__ (*int*) The port to use in connecting to the mongo host.\n",
    "- __database__ (*str*) The name of the database in the mongo host to interact with.\n",
    "- __**kwargs__ (*dict, optional*) Any extra keyword arguments needed to initialize a pymongo.MongoClient object."
   ]
  },
  {
   "cell_type": "code",
   "execution_count": 4,
   "id": "7fcfd050-fc8f-4959-8aa2-47c59a6b5dad",
   "metadata": {},
   "outputs": [
    {
     "name": "stdout",
     "output_type": "stream",
     "text": [
      "Enter any other database parameters as key, value\n",
      "Exit by leaving key blank\n",
      "key: "
     ]
    },
    {
     "name": "stdin",
     "output_type": "stream",
     "text": [
      " \n"
     ]
    }
   ],
   "source": [
    "# Set a local database. Note that a prompt appears as no additional kwargs are given\n",
    "yabadaba.settings.set_database(name='test', style='local', host='home/lmh1/ipr/test')"
   ]
  },
  {
   "cell_type": "code",
   "execution_count": 5,
   "id": "0de3dec1-8a36-4d3b-80fa-43703f22ef64",
   "metadata": {},
   "outputs": [
    {
     "name": "stdout",
     "output_type": "stream",
     "text": [
      "Database potentials already defined.\n",
      "Overwrite? (yes or no): "
     ]
    },
    {
     "name": "stdin",
     "output_type": "stream",
     "text": [
      " no\n"
     ]
    }
   ],
   "source": [
    "# Set a CDCS database with anonymous access\n",
    "yabadaba.settings.set_database(name='potentials', style='cdcs', host='https://potentials.nist.gov/', username='')"
   ]
  },
  {
   "cell_type": "code",
   "execution_count": 6,
   "id": "b3b4d8d7-ceaa-44ee-a8d2-02890bbcc68e",
   "metadata": {},
   "outputs": [
    {
     "name": "stdout",
     "output_type": "stream",
     "text": [
      "Database mongo already defined.\n",
      "Overwrite? (yes or no): "
     ]
    },
    {
     "name": "stdin",
     "output_type": "stream",
     "text": [
      " no\n"
     ]
    }
   ],
   "source": [
    "# Set a local-hosted MongoDB\n",
    "yabadaba.settings.set_database(name='mongo', style='mongo', host='localhost', port=27017, database='iprPy')"
   ]
  },
  {
   "cell_type": "markdown",
   "id": "e19a755d-42da-4d24-91f8-5d581e147659",
   "metadata": {},
   "source": [
    "### 1.3. Unsetting database settings\n",
    "\n",
    "Any saved database settings can be deleted using the unset_database() method and giving the name of the database settings to delete."
   ]
  },
  {
   "cell_type": "code",
   "execution_count": 8,
   "id": "34ac18db-72a5-4f9a-bbaf-039d69e6371f",
   "metadata": {},
   "outputs": [
    {
     "name": "stdout",
     "output_type": "stream",
     "text": [
      "Database test found\n",
      "Delete settings? (must type yes): "
     ]
    },
    {
     "name": "stdin",
     "output_type": "stream",
     "text": [
      " yes\n"
     ]
    }
   ],
   "source": [
    "yabadaba.settings.unset_database(name='test')"
   ]
  },
  {
   "cell_type": "markdown",
   "id": "70c09fac-78d7-4d2c-bd73-5ce52c6c42ca",
   "metadata": {},
   "source": [
    "## 2. Basics on yabadaba settings\n",
    "\n",
    "Settings are managed in yabadaba in the following way:\n",
    "\n",
    "- The yabadaba.Settings.Settings (uppercase s's) class defines the methods that allow for saving and loading settings.\n",
    "- yabadaba.settings (lowercase s) is an object of the above class that is created when yabadaba is imported.\n",
    "- When settings are changed, the updates are made in a settings.json file that can be later loaded and used. The default location for this file is in a directory called \".NIST\" located in the user's home directory.\n",
    "\n",
    "View the current paths with __yabadaba.settings.directory__ and __yabadaba.settings.filename__."
   ]
  },
  {
   "cell_type": "code",
   "execution_count": 9,
   "id": "e9f8ded7-1951-4f04-99ec-55be152472cf",
   "metadata": {},
   "outputs": [
    {
     "name": "stdout",
     "output_type": "stream",
     "text": [
      "/home/lmh1/.NIST\n",
      "/home/lmh1/.NIST/settings.json\n"
     ]
    }
   ],
   "source": [
    "print(yabadaba.settings.directory)\n",
    "print(yabadaba.settings.filename)"
   ]
  },
  {
   "cell_type": "markdown",
   "id": "2e569965-d9af-454a-bf49-1552f9785dec",
   "metadata": {},
   "source": [
    "If needed, the settings directory can be changed to a different location using __yabadaba.settings.set_directory()__.  This likely is not a typical \n",
    "\n",
    "Note that set_directory() only works if the settings in the default directory are \"empty\". Also, the settings.json in the default directory will still exist and serve as a pointer to the new directory that has been set."
   ]
  },
  {
   "cell_type": "code",
   "execution_count": 10,
   "id": "5c035b79-fec5-4343-9164-ce0a0c62fdfe",
   "metadata": {},
   "outputs": [
    {
     "name": "stdout",
     "output_type": "stream",
     "text": [
      "/home/lmh1/.NIST\n"
     ]
    }
   ],
   "source": [
    "#yabadaba.settings.set_directory('/home/lmh1/.yabadaba')\n",
    "print(yabadaba.settings.directory)"
   ]
  },
  {
   "cell_type": "markdown",
   "id": "a0137aa5-b3d8-43ad-a5db-8574c87ea174",
   "metadata": {},
   "source": [
    "The settings directory can be reverted back to the default by using __yabadaba.settings.unset_directory()__."
   ]
  },
  {
   "cell_type": "code",
   "execution_count": 11,
   "id": "dbda6d82-fd60-4ca5-bd1b-f967d94aa9d7",
   "metadata": {},
   "outputs": [
    {
     "name": "stdout",
     "output_type": "stream",
     "text": [
      "Settings directory is already set to \"/home/lmh1/.NIST\"\n",
      "/home/lmh1/.NIST\n"
     ]
    }
   ],
   "source": [
    "yabadaba.settings.unset_directory()\n",
    "print(yabadaba.settings.directory)"
   ]
  },
  {
   "cell_type": "markdown",
   "id": "215d8611-d84e-447b-bfd6-e493b3acc91f",
   "metadata": {},
   "source": [
    "## 3. How to implement more advanced settings modifications.\n",
    "\n",
    "For developers of yabadaba-based packages, you may wish to modify the settings capability.  This can be managed by having your package create its own settings object.\n",
    "\n",
    "### 3.1. Package-specific settings\n",
    "\n",
    "When initializing a Settings object, you can specify the default directory name and settings filename to be something different. This can be used to avoid settings conflicts between different packages, *but* prevents different yabadaba-based packages from accessing the same saved database settings."
   ]
  },
  {
   "cell_type": "code",
   "execution_count": 12,
   "id": "38085cbf-e302-45c1-864e-8c1c77725739",
   "metadata": {},
   "outputs": [
    {
     "data": {
      "text/plain": [
       "PosixPath('/home/lmh1/.mypackage/mysettings.json')"
      ]
     },
     "execution_count": 12,
     "metadata": {},
     "output_type": "execute_result"
    }
   ],
   "source": [
    "newsettings = yabadaba.Settings.Settings(directoryname='.mypackage', filename='mysettings.json')\n",
    "newsettings.filename"
   ]
  },
  {
   "cell_type": "markdown",
   "id": "dbc0e2e1-e84e-48d1-ab34-0044f3f3db61",
   "metadata": {},
   "source": [
    "### 3.2. Update load_database()\n",
    "\n",
    "If you create your own settings object, then you need to update the load_database() function to recognize the changes.\n",
    "\n",
    "- yabadaba.load_database() has a settings parameter where a different settings object can be specified.\n",
    "- In your package, simply define your own load_database() method that changes the default settings value to be your settings object before calling yabadaba.load_database()."
   ]
  },
  {
   "cell_type": "markdown",
   "id": "8e3992f1-2fee-4b29-ab69-6572d1699d82",
   "metadata": {},
   "source": [
    "### 3.3. Subclassing Settings\n",
    "\n",
    "The yabadaba.Settings.Settings class can easily be extended to managing additional settings by creating your own subclass of it. In this way, you can have package-specific settings that can be set during one session and loaded during another. Some hints/notes/suggestions if you wish to do this are\n",
    "\n",
    "- The __content__ attribute is the (embedded) dict representation of the settings file. The __load()__ method will read the settings file and update content, while the __save()__ method will save the current content to the settings file.\n",
    "- If you add new settings options, it is recommended to use a similar naming convention as the directory and database methods above: \"mysetting\" or \"list_mysettings\" as attributes to view current values, \"set_mysetting()\" and \"unset_mysetting()\" to save and clear saved setting values.\n",
    "- The set and unset methods should update the appropriate fields in content, then call save().\n",
    "- While you can save your package-specific settings anywhere in the settings file content, it is probably a good idea to group them together in a sub-dictionary named after your package.  This will help in avoiding settings conflicts if multiple yabadaba-based packages are imported.\n",
    "\n",
    "Basic template for adding a new setting term\n",
    "```python\n",
    "class Settings(yabadaba.Settings.Settings):\n",
    "\n",
    "    @property\n",
    "    def mysetting(self):\n",
    "        \"\"\"The current value of mysetting\"\"\"\n",
    "        defaultvalue = None\n",
    "\n",
    "        if 'mypackage' in self.content and 'mysetting' in self.content['mypackage']:\n",
    "            return self.content['mypackage']['mysetting']\n",
    "        else:\n",
    "            return defaultvalue\n",
    "\n",
    "    def set_mysetting(self, value):\n",
    "        \"\"\"Set the value of mysetting\"\"\"\n",
    "        # Do some code to check value's data type and value...\n",
    "\n",
    "        if 'mypackage' not in content:\n",
    "            content['mypackage'] = {}\n",
    "\n",
    "        # Optional check if value is already set\n",
    "        #if 'mysetting' in self.content['mypackage']\n",
    "        #    print('mysetting already set')\n",
    "        #    prompt if you want to change...\n",
    "        \n",
    "        content['mypackage']['mysetting'] = value\n",
    "            \n",
    "        self.save()\n",
    "\n",
    "    def unset_mysetting(self):\n",
    "        \"\"\"Reset mysetting back to it's default value\"\"\"\n",
    "        if 'mypackage' in self.content and 'mysetting' in self.content['mypackage']:\n",
    "            del self.content['mypackage']['mysetting']  \n",
    "        #else:\n",
    "        #    print('no setting found for mysetting')\n",
    "        \n",
    "        self.save()\n",
    "```"
   ]
  },
  {
   "cell_type": "markdown",
   "id": "4542f591-eb4c-4f1d-acd7-669fbb7a010e",
   "metadata": {},
   "source": [
    " "
   ]
  }
 ],
 "metadata": {
  "kernelspec": {
   "display_name": "ipr",
   "language": "python",
   "name": "ipr"
  },
  "language_info": {
   "codemirror_mode": {
    "name": "ipython",
    "version": 3
   },
   "file_extension": ".py",
   "mimetype": "text/x-python",
   "name": "python",
   "nbconvert_exporter": "python",
   "pygments_lexer": "ipython3",
   "version": "3.11.11"
  }
 },
 "nbformat": 4,
 "nbformat_minor": 5
}
