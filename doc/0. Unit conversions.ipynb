{
 "cells": [
  {
   "cell_type": "markdown",
   "metadata": {},
   "source": [
    "# Introduction to yabadaba: Unit conversions\n",
    "\n",
    "This Notebook provides a quick overview of the unit conversion tools built into yabadaba."
   ]
  },
  {
   "cell_type": "markdown",
   "metadata": {},
   "source": [
    "## 1. Introduction <a id='section1'></a>\n",
    "\n",
    "The yabadaba package provides some basic tools for handling unit conversions. The general concept of how the tools work is based on the [numericalunits](https://pypi.python.org/pypi/numericalunits) package and is as follows\n",
    "\n",
    "1. According to the SI system of units there are seven basic units. All other units can be derived from the basic units through multiplication and division operations.\n",
    "2. The majority of non-SI systems use units that can be represented as scalar factors of the SI units.\n",
    "3. By knowing the multiplicative factors between all units used, input values can be converted into arbitrary working units.\n",
    "4. If all inputs are in the working units, the values will be compatible with each other for any calculations performed.  This simplifies the calculations themselves as units do not need to be explicitly tracked and managed.\n",
    "5. Once calculations are finished, the resulting values can be converted from the working units into whatever units you want, assuming that the output units are consistent with the output value.\n",
    "6. While units are not explicitly tracked in the above steps, you can implicitly check for unit compatibility of the outputs by running the calculation again with different arbitrary working units.\n",
    "\n",
    "The main exception to #2 above are units that are not absolute, e.g. units of temperature like Celsius and Fahrenheit.  While the units themselves are not scalar factors, units that depend on changes in temperatures will be.\n",
    "\n",
    "While there are seven unique SI basic units (meter, kilogram, second, kelvin, ampere, candela, and mole), yabadaba uses five changeable basic units (meter, kilogram, second, kelvin, and coulomb).  Luminous intensity like candela is not yet supported, and the value of a mole is hard-set. "
   ]
  },
  {
   "cell_type": "markdown",
   "metadata": {},
   "source": [
    "**Library Imports**"
   ]
  },
  {
   "cell_type": "code",
   "execution_count": 1,
   "metadata": {},
   "outputs": [
    {
     "name": "stdout",
     "output_type": "stream",
     "text": [
      "yabadaba version = 0.3.0\n",
      "Notebook executed on 2025-02-13\n"
     ]
    }
   ],
   "source": [
    "# Standard Python libraries\n",
    "import datetime\n",
    "\n",
    "# http://www.numpy.org/\n",
    "import numpy as np\n",
    "\n",
    "# https://github.com/usnistgov/atomman\n",
    "import yabadaba\n",
    "\n",
    "from IPython.display import display, Markdown\n",
    "\n",
    "# Show yabadaba version\n",
    "print('yabadaba version =', yabadaba.__version__)\n",
    "\n",
    "# Show date of Notebook execution\n",
    "print('Notebook executed on', datetime.date.today())"
   ]
  },
  {
   "cell_type": "markdown",
   "metadata": {},
   "source": [
    "## 2. Basics <a id='section2'></a>\n",
    "\n",
    "The yabadaba package contains unitconvert, which is an object of the UnitConverter class.  For most purposes, you should use the unitconvert object rather than initializing a new UnitConverter object.  Importing the object allows for called functions that perform unit conversions to use the same converter with the same working units settings."
   ]
  },
  {
   "cell_type": "code",
   "execution_count": 2,
   "metadata": {},
   "outputs": [],
   "source": [
    "# Get unitconvert from yabadaba\n",
    "uc = yabadaba.unitconvert"
   ]
  },
  {
   "cell_type": "markdown",
   "metadata": {},
   "source": [
    "### 2.1. Working units\n",
    "\n",
    "By default, yabadaba defines working units in primary SI units."
   ]
  },
  {
   "cell_type": "code",
   "execution_count": 3,
   "metadata": {},
   "outputs": [
    {
     "name": "stdout",
     "output_type": "stream",
     "text": [
      "m  = 1.0\n",
      "kg = 1.0\n",
      "s  = 1.0\n",
      "C  = 1.0\n",
      "K  = 1.0\n"
     ]
    }
   ],
   "source": [
    "print(uc.display_core_values)"
   ]
  },
  {
   "cell_type": "markdown",
   "metadata": {},
   "source": [
    "### 2.2. reset_units()\n",
    "\n",
    "If you wish, you can specify different units to work in. If you are building a yabadaba-based project, it may be useful to change the default working units for your project to be something more practical for your field. Up to four out of five of length, mass, time, energy, and charge can be directly specified to reset_units(). If less than four values are given, SI units are used for the remainders. Temperature is always 'K' when values are specified."
   ]
  },
  {
   "cell_type": "code",
   "execution_count": 4,
   "metadata": {},
   "outputs": [
    {
     "name": "stdout",
     "output_type": "stream",
     "text": [
      "m  = 1000000000.0\n",
      "kg = 1000.0\n",
      "s  = 1000000000000.0\n",
      "C  = 1.0\n",
      "K  = 1.0\n",
      "\n",
      "nm = 1.0\n",
      "g = 1.0\n",
      "ps = 1.0\n"
     ]
    }
   ],
   "source": [
    "# Reset working units such that length is in 'nm', mass is in 'g' and time is in 'ps'\n",
    "uc.reset_units(length='nm', mass='g', time='ps')\n",
    "\n",
    "print(uc.display_core_values)\n",
    "print()\n",
    "\n",
    "# Show that the specified working units have conversion values of 1\n",
    "print(f'nm = {uc.nm:.15}')\n",
    "print(f'g = {uc.g}')\n",
    "print(f'ps = {uc.ps}')"
   ]
  },
  {
   "cell_type": "markdown",
   "metadata": {},
   "source": [
    "If you call reset_units() with no parameters or an int seed, the working units will be set to random arbitrary values.  This can be useful when testing that your calculations are returning values in the correct unit types."
   ]
  },
  {
   "cell_type": "code",
   "execution_count": 5,
   "metadata": {},
   "outputs": [
    {
     "name": "stdout",
     "output_type": "stream",
     "text": [
      "m  = 0.0548763175722184\n",
      "kg = 0.28759832478441\n",
      "s  = 19.1293882002913\n",
      "C  = 0.204029786326931\n",
      "K  = 92.3298994737891\n"
     ]
    }
   ],
   "source": [
    "# Reset working units to random values\n",
    "uc.reset_units()\n",
    "\n",
    "print(uc.display_core_values)"
   ]
  },
  {
   "cell_type": "markdown",
   "metadata": {},
   "source": [
    "Working units can be reset to SI by setting seed to 'SI'"
   ]
  },
  {
   "cell_type": "code",
   "execution_count": 6,
   "metadata": {},
   "outputs": [
    {
     "name": "stdout",
     "output_type": "stream",
     "text": [
      "m  = 1.0\n",
      "kg = 1.0\n",
      "s  = 1.0\n",
      "C  = 1.0\n",
      "K  = 1.0\n"
     ]
    }
   ],
   "source": [
    "# Return working units to SI\n",
    "uc.reset_units('SI')\n",
    "print(uc.display_core_values)"
   ]
  },
  {
   "cell_type": "markdown",
   "metadata": {},
   "source": [
    "### 2.3. Setting and getting static values\n",
    "\n",
    "In design, you only need to perform unit conversions on input/output values that have units.\n",
    "\n",
    "- For inputs, you multiply the value by the units that the value is in.\n",
    "\n",
    "- For outputs, you divide the value by the units that you want the value in."
   ]
  },
  {
   "cell_type": "markdown",
   "metadata": {},
   "source": [
    "#### 2.3.1. Class attributes\n",
    "\n",
    "All defined units can be accessed as attributes of unitconvert."
   ]
  },
  {
   "cell_type": "code",
   "execution_count": 7,
   "metadata": {},
   "outputs": [
    {
     "name": "stdout",
     "output_type": "stream",
     "text": [
      "10 angstrom^3 = 0.01 nm^3\n"
     ]
    }
   ],
   "source": [
    "# Convert 10 angstrom^3 to working units\n",
    "volume = 10 * uc.angstrom**3\n",
    "\n",
    "# Convert to nm**3\n",
    "volume_in_nm3 = volume / uc.nm**3\n",
    "\n",
    "# Print output\n",
    "print(f'10 angstrom^3 = {volume_in_nm3:.9} nm^3')"
   ]
  },
  {
   "cell_type": "code",
   "execution_count": 8,
   "metadata": {},
   "outputs": [
    {
     "name": "stdout",
     "output_type": "stream",
     "text": [
      "5.5 kg/(m*s^2) = 5.5 Pa\n"
     ]
    }
   ],
   "source": [
    "# Convert 5.5 kg/(m*s^2) to working units\n",
    "pressure = 5.5 * uc.kg / (uc.m * uc.s**2)\n",
    "\n",
    "# Convert to Pa\n",
    "pressure_in_pa = pressure / uc.Pa\n",
    "\n",
    "# Show that Pa = kg/(m*s^2)\n",
    "print(f'5.5 kg/(m*s^2) = {pressure_in_pa:.9} Pa')"
   ]
  },
  {
   "cell_type": "markdown",
   "metadata": {},
   "source": [
    "Conversions equally work on numpy arrays"
   ]
  },
  {
   "cell_type": "code",
   "execution_count": 9,
   "metadata": {},
   "outputs": [
    {
     "name": "stdout",
     "output_type": "stream",
     "text": [
      "[[1100. 1200. 1300.]\n",
      " [1200. 2200. 2300.]\n",
      " [1300. 2300. 3300.]] MPa\n"
     ]
    }
   ],
   "source": [
    "# Convert from GPa to working units\n",
    "stress = np.array([[1.1, 1.2, 1.3],\n",
    "                   [1.2, 2.2, 2.3],\n",
    "                   [1.3, 2.3, 3.3]]) * uc.GPa\n",
    "\n",
    "# Print stress in MPa\n",
    "print(stress / uc.MPa, 'MPa')"
   ]
  },
  {
   "cell_type": "markdown",
   "metadata": {},
   "source": [
    "#### 2.3.2. unit and parse()\n",
    "\n",
    "For scripts where the input values and units may be user-defined, it is more convenient to be able to express the units as string values.  These string values are supported by the addition of the unit attribute and the parse() method.\n",
    "\n",
    "- __unit__ is a dict that contains all of the defined units allowing for them to be retrieved using str names.\n",
    "- __parse()__ takes a str unit term and parses it into an appropriate scalar for converting to/from the working units.  The unit term can be made up of\n",
    "    - numbers\n",
    "    - known unit names\n",
    "    - '\\*' for multiplication\n",
    "    - '/' for division\n",
    "    - '^' for powers\n",
    "    - '(' and ')' for parenthesis\n",
    "    - spaces are ignored"
   ]
  },
  {
   "cell_type": "code",
   "execution_count": 10,
   "metadata": {},
   "outputs": [
    {
     "name": "stdout",
     "output_type": "stream",
     "text": [
      "10 angstrom^3 = 0.01 nm^3\n"
     ]
    }
   ],
   "source": [
    "# Convert 10 angstrom^3 to working units\n",
    "volume = 10 * uc.unit['angstrom']**3\n",
    "\n",
    "# Convert to nm**3\n",
    "volume_in_nm3 = volume / uc.unit['nm']**3\n",
    "\n",
    "# Print output\n",
    "print(f'10 angstrom^3 = {volume_in_nm3:.9} nm^3')"
   ]
  },
  {
   "cell_type": "code",
   "execution_count": 11,
   "metadata": {},
   "outputs": [
    {
     "name": "stdout",
     "output_type": "stream",
     "text": [
      "5.5 kg/(m*s^2) = 5.5 Pa\n"
     ]
    }
   ],
   "source": [
    "# Convert 5.5 kg/(m*s^2) to working units\n",
    "pressure = 5.5 * uc.parse('kg/(m*s^2)')\n",
    "\n",
    "# Convert to Pa\n",
    "pressure_in_pa = pressure / uc.parse('Pa')\n",
    "\n",
    "# Show that Pa = kg/(m*s^2)\n",
    "print(f'5.5 kg/(m*s^2) = {pressure_in_pa:.9} Pa')"
   ]
  },
  {
   "cell_type": "markdown",
   "metadata": {},
   "source": [
    "#### 2.3.3. set_in_units() and get_in_units()\n",
    "\n",
    "For convenience, methods set_in_units() and get_in_units() are also defined that parse the given unit term and apply it to the given value using the correct multiplication or division.  Using these methods is recommended as it makes the code more readable and clearly shows which values are inputs and outputs."
   ]
  },
  {
   "cell_type": "code",
   "execution_count": 12,
   "metadata": {},
   "outputs": [
    {
     "name": "stdout",
     "output_type": "stream",
     "text": [
      "10 angstrom^3 = 0.01 nm^3\n"
     ]
    }
   ],
   "source": [
    "# Convert 10 angstrom^3 to working units\n",
    "volume = uc.set_in_units(10, 'angstrom^3')\n",
    "\n",
    "# Convert to nm**3\n",
    "volume_in_nm3 = uc.get_in_units(volume, 'nm^3')\n",
    "\n",
    "# Print output\n",
    "print(f'10 angstrom^3 = {volume_in_nm3:.9} nm^3')"
   ]
  },
  {
   "cell_type": "code",
   "execution_count": 13,
   "metadata": {},
   "outputs": [
    {
     "name": "stdout",
     "output_type": "stream",
     "text": [
      "5.5 kg/(m*s^2) = 5.5 Pa\n"
     ]
    }
   ],
   "source": [
    "# Convert 5.5 kg/(m*s^2) to working units\n",
    "pressure = uc.set_in_units(5.5, 'kg/(m*s^2)')\n",
    "\n",
    "# Convert to Pa\n",
    "pressure_in_pa = uc.get_in_units(pressure, 'Pa')\n",
    "\n",
    "# Show that Pa = kg/(m*s^2)\n",
    "print(f'5.5 kg/(m*s^2) = {pressure_in_pa:.9} Pa')"
   ]
  },
  {
   "cell_type": "code",
   "execution_count": 14,
   "metadata": {},
   "outputs": [
    {
     "name": "stdout",
     "output_type": "stream",
     "text": [
      "[[1100. 1200. 1300.]\n",
      " [1200. 2200. 2300.]\n",
      " [1300. 2300. 3300.]] MPa\n"
     ]
    }
   ],
   "source": [
    "# Show that conversions work with arrays\n",
    "stress = uc.set_in_units(np.array([[1.1, 1.2, 1.3],\n",
    "                                   [1.2, 2.2, 2.3],\n",
    "                                   [1.3, 2.3, 3.3]]), 'GPa')\n",
    "\n",
    "print(uc.get_in_units(stress, 'MPa'), 'MPa')"
   ]
  },
  {
   "cell_type": "markdown",
   "metadata": {},
   "source": [
    "#### 2.3.4. set_literal()\n",
    "\n",
    "Another option is set_literal(), which parses a string for both values and an optional unit.  This is a convenience method for allowing user inputs in string form that may or may not contain units.  The features of set_literal() are\n",
    "\n",
    "- Values can be parsed into single values or arrays.\n",
    "- Unit is optional and separated from the value(s) by a space. All options of parse() are allowed for the unit term."
   ]
  },
  {
   "cell_type": "code",
   "execution_count": 15,
   "metadata": {},
   "outputs": [
    {
     "name": "stdout",
     "output_type": "stream",
     "text": [
      "102.93\n"
     ]
    }
   ],
   "source": [
    "# Show that values without a unit are simply transformed into floats\n",
    "print(uc.set_literal('102.93'))"
   ]
  },
  {
   "cell_type": "code",
   "execution_count": 16,
   "metadata": {},
   "outputs": [
    {
     "name": "stdout",
     "output_type": "stream",
     "text": [
      "10 angstrom^3 = 0.01 nm^3\n"
     ]
    }
   ],
   "source": [
    "# Convert 10 angstrom^3 to working units\n",
    "volume = uc.set_literal('10 angstrom^3')\n",
    "\n",
    "# Convert to nm**3\n",
    "volume_in_nm3 = uc.get_in_units(volume, 'nm^3')\n",
    "\n",
    "# Print output\n",
    "print(f'10 angstrom^3 = {volume_in_nm3:.9} nm^3')"
   ]
  },
  {
   "cell_type": "code",
   "execution_count": 17,
   "metadata": {},
   "outputs": [
    {
     "name": "stdout",
     "output_type": "stream",
     "text": [
      "[[1100. 1200. 1300.]\n",
      " [1200. 2200. 2300.]\n",
      " [1300. 2300. 3300.]] MPa\n"
     ]
    }
   ],
   "source": [
    "# Show that conversions work with arrays\n",
    "stress = uc.set_literal(\"\"\"[[1.1, 1.2, 1.3], \n",
    "                            [1.2, 2.2, 2.3], \n",
    "                            [1.3, 2.3, 3.3]] GPa\"\"\")\n",
    "\n",
    "print(uc.get_in_units(stress, 'MPa'), 'MPa')"
   ]
  },
  {
   "cell_type": "markdown",
   "metadata": {},
   "source": [
    "## 3. Data model representations <a id='section3'></a>\n",
    "\n",
    "The yabadaba package focuses on being able to easily convert between a \"Python\" representation and a \"data model\" representation in an equivalent JSON/XML format.  To this end, yabadaba recommends that values stored in the data model correspond to the following partial schema\n",
    "\n",
    "- root element is named for the property. It can then have child elements:\n",
    "    - \"value\" being a single float value or a 1D list of values for array elements.\n",
    "    - \"unit\" being the str unit that the values are stored in.\n",
    "    - \"error\" being an optional float or 1D list of floats where the error associated in the value measurement can be stored.  This is treated as having the same units as value, so it is best used for standard deviations or standard error of the mean values.\n",
    "    - \"shape\" is an optional tuple of ints that indicates how to reshape the 1D array of values into a multi-dimensional array."
   ]
  },
  {
   "cell_type": "markdown",
   "metadata": {},
   "source": [
    "### 3.1. model()\n",
    "\n",
    "Values can be converted into a structured data model of the above format using model()."
   ]
  },
  {
   "cell_type": "code",
   "execution_count": 18,
   "metadata": {},
   "outputs": [
    {
     "name": "stdout",
     "output_type": "stream",
     "text": [
      "<value>40.0</value><unit>angstrom</unit>\n"
     ]
    }
   ],
   "source": [
    "# Set length as 4 nm\n",
    "length = uc.set_in_units(4, 'nm')\n",
    "\n",
    "# Transform length into a model with units in angstrom\n",
    "lmodel = uc.model(length, 'angstrom')\n",
    "\n",
    "# Print lmodel as XML\n",
    "print(lmodel.xml(full_document=False))"
   ]
  },
  {
   "cell_type": "code",
   "execution_count": 19,
   "metadata": {},
   "outputs": [
    {
     "name": "stdout",
     "output_type": "stream",
     "text": [
      "{\n",
      "  \"value\": [\n",
      "    10.0,\n",
      "    20.0,\n",
      "    30.0,\n",
      "    40.0,\n",
      "    50.0\n",
      "  ],\n",
      "  \"unit\": \"K\"\n",
      "}\n"
     ]
    }
   ],
   "source": [
    "# Set list of temperatures in K\n",
    "temperatures = uc.set_in_units([10,20,30,40,50], 'K')\n",
    "\n",
    "# Transform temperatures into a model with units in K\n",
    "tmodel = uc.model(temperatures, 'K')\n",
    "\n",
    "# Print tmodel as JSON\n",
    "print(tmodel.json(indent=2))"
   ]
  },
  {
   "cell_type": "markdown",
   "metadata": {},
   "source": [
    "For equivalent JSON/XML representation, values with 2 or more dimensions are flattened and the shape is included in the model."
   ]
  },
  {
   "cell_type": "code",
   "execution_count": 20,
   "metadata": {},
   "outputs": [
    {
     "name": "stdout",
     "output_type": "stream",
     "text": [
      "{\"value\": [1100.0, 0.0, 0.0, 0.0, 2000.0, 500.0, 0.0, 500.0, -1400.0], \"shape\": [3, 3], \"unit\": \"kPa\"}\n",
      "\n",
      "<value>1100.0</value><value>0.0</value><value>0.0</value><value>0.0</value><value>2000.0</value><value>500.0</value><value>0.0</value><value>500.0</value><value>-1400.0</value><shape>3</shape><shape>3</shape><unit>kPa</unit>\n"
     ]
    }
   ],
   "source": [
    "# Set stress tensor in 'MPa'\n",
    "stress = uc.set_in_units(np.array([[1.1, 0.0, 0.0],\n",
    "                                   [0.0, 2.0, 0.5],\n",
    "                                   [0.0, 0.5, -1.4]]), 'MPa')\n",
    "                         \n",
    "# Transform stress into a model with units in kPa\n",
    "smodel = uc.model(stress, 'kPa')\n",
    "\n",
    "# Print smodel as JSON\n",
    "print(smodel.json())\n",
    "print()\n",
    "\n",
    "# Print smodel as XML\n",
    "print(smodel.xml(full_document=False))"
   ]
  },
  {
   "cell_type": "markdown",
   "metadata": {},
   "source": [
    "### 3.2. value_unit()\n",
    "\n",
    "Values can then be read back in from a model, XML or JSON using value_unit()."
   ]
  },
  {
   "cell_type": "code",
   "execution_count": 21,
   "metadata": {},
   "outputs": [
    {
     "name": "stdout",
     "output_type": "stream",
     "text": [
      "4.0 nm\n"
     ]
    }
   ],
   "source": [
    "# Read lmode to set length\n",
    "length = uc.value_unit(lmodel)\n",
    "\n",
    "# Print length in nm\n",
    "print(uc.get_in_units(length, 'nm'), 'nm')"
   ]
  },
  {
   "cell_type": "code",
   "execution_count": 22,
   "metadata": {},
   "outputs": [
    {
     "name": "stdout",
     "output_type": "stream",
     "text": [
      "[10. 20. 30. 40. 50.] K\n"
     ]
    }
   ],
   "source": [
    "# Read tmodel to set temperatures \n",
    "temperatures = uc.value_unit(tmodel)\n",
    "\n",
    "# Print temperatures in K\n",
    "print(uc.get_in_units(temperatures, 'K'), 'K')"
   ]
  },
  {
   "cell_type": "code",
   "execution_count": 23,
   "metadata": {},
   "outputs": [
    {
     "name": "stdout",
     "output_type": "stream",
     "text": [
      "[[ 1.1  0.   0. ]\n",
      " [ 0.   2.   0.5]\n",
      " [ 0.   0.5 -1.4]] MPa\n"
     ]
    }
   ],
   "source": [
    "# Read smodel to set stress \n",
    "stress = uc.value_unit(smodel)\n",
    "\n",
    "# Print stress in 'MPa'\n",
    "print(uc.get_in_units(stress, 'MPa'), 'MPa')"
   ]
  },
  {
   "cell_type": "markdown",
   "metadata": {},
   "source": [
    "### 3.3. error_unit()\n",
    "\n",
    "Standard errors associated with each given value can also be included in the model, which can then be retrieved using error_unit()."
   ]
  },
  {
   "cell_type": "code",
   "execution_count": 24,
   "metadata": {},
   "outputs": [
    {
     "name": "stdout",
     "output_type": "stream",
     "text": [
      "{\n",
      "  \"value\": [\n",
      "    0.009054388514915858,\n",
      "    0.01907442470978317,\n",
      "    0.03088364889121383,\n",
      "    0.04001173839756155,\n",
      "    0.049144173026118454\n",
      "  ],\n",
      "  \"error\": [\n",
      "    0.001973042508968387,\n",
      "    0.0019133955434186552,\n",
      "    0.0019413789152596644,\n",
      "    0.0019132831280297207,\n",
      "    0.001979651674322935\n",
      "  ],\n",
      "  \"unit\": \"m\"\n",
      "}\n"
     ]
    }
   ],
   "source": [
    "# Generate realistic-looking nonsense\n",
    "xcoordinate = np.array([1, 2, 3, 4, 5]) + 0.2 * np.random.rand(5) - 0.1\n",
    "xcoorderror = np.array([0.2, 0.2, 0.2, 0.2, 0.2]) + 0.02 * np.random.rand(5) - 0.01\n",
    "\n",
    "# Assign units to nonsense\n",
    "xcoordinate = uc.set_in_units(xcoordinate, 'cm')\n",
    "xcoorderror = uc.set_in_units(xcoorderror, 'cm')\n",
    "\n",
    "# Generate model of nonsense with error\n",
    "model = uc.model(xcoordinate, 'm', error=xcoorderror)\n",
    "print(model.json(indent=2))"
   ]
  },
  {
   "cell_type": "markdown",
   "metadata": {},
   "source": [
    "Errors can then be similarly extracted from the model using error_unit()"
   ]
  },
  {
   "cell_type": "code",
   "execution_count": 25,
   "metadata": {},
   "outputs": [
    {
     "name": "stdout",
     "output_type": "stream",
     "text": [
      "value = [ 9.05438851 19.07442471 30.88364889 40.0117384  49.14417303] mm\n",
      "error = [1.97304251 1.91339554 1.94137892 1.91328313 1.97965167] mm\n"
     ]
    }
   ],
   "source": [
    "# Read realistic-looking nonsense back in\n",
    "print('value =', uc.get_in_units(uc.value_unit(model), 'mm'), 'mm')\n",
    "print('error =', uc.get_in_units(uc.error_unit(model), 'mm'), 'mm')"
   ]
  },
  {
   "cell_type": "markdown",
   "metadata": {},
   "source": [
    "## 4. Unit debugging <a id='section4'></a>\n",
    "\n",
    "There is no explicit unit control with unitconvert, but correct unit conversions can still be debugged and tested by seeing if changing the working units changes values.  You can do this testing in one of two ways:\n",
    "\n",
    "- Run the calculation, call reset_units(), then run again\n",
    "- Initialize a new UnitConverter with different basic unit settings."
   ]
  },
  {
   "cell_type": "code",
   "execution_count": 26,
   "metadata": {},
   "outputs": [],
   "source": [
    "# Create an alternate unitconverter with random units\n",
    "uc_alt = yabadaba.UnitConverter.UnitConverter()\n",
    "uc_alt.reset_units()"
   ]
  },
  {
   "cell_type": "code",
   "execution_count": 27,
   "metadata": {},
   "outputs": [
    {
     "name": "stdout",
     "output_type": "stream",
     "text": [
      "57 atm = 0.005775525 GPa\n",
      "57 atm = 0.005775525 GPa\n"
     ]
    }
   ],
   "source": [
    "# Perform valid conversion of atmosphere into GPa\n",
    "pressure = uc.set_in_units(57, 'atm')\n",
    "pressure_in_GPa = uc.get_in_units(pressure, 'GPa')\n",
    "print(f'57 atm = {pressure_in_GPa} GPa')\n",
    "\n",
    "# Perform the same valid conversion with uc_alt = same results\n",
    "pressure = uc_alt.set_in_units(57, 'atm')\n",
    "pressure_in_GPa = uc_alt.get_in_units(pressure, 'GPa')\n",
    "print(f'57 atm = {pressure_in_GPa} GPa')"
   ]
  },
  {
   "cell_type": "code",
   "execution_count": 28,
   "metadata": {},
   "outputs": [
    {
     "name": "stdout",
     "output_type": "stream",
     "text": [
      "57 s = 5.7e-08 GPa\n",
      "57 s = 8.952551978732456e-11 GPa\n"
     ]
    }
   ],
   "source": [
    "# Perform invalid conversion of seconds into GPa\n",
    "time = uc.set_in_units(57, 's')\n",
    "time_in_GPa = uc.get_in_units(time, 'GPa')\n",
    "print(f'57 s = {time_in_GPa} GPa')\n",
    "\n",
    "# Perform the same invalid conversion with uc_alt = different results!\n",
    "time = uc_alt.set_in_units(57, 's')\n",
    "time_in_GPa = uc_alt.get_in_units(time, 'GPa')\n",
    "print(f'57 s = {time_in_GPa} GPa')"
   ]
  },
  {
   "cell_type": "markdown",
   "metadata": {},
   "source": [
    "## 5. Recognized units\n",
    "\n",
    "The unitdoc attribute returns a dict of all defined unit terms and their names/descriptions. This can be used to quickly check if a unit is what you think it is, or to generate a list of all recognized units."
   ]
  },
  {
   "cell_type": "code",
   "execution_count": 29,
   "metadata": {},
   "outputs": [
    {
     "data": {
      "text/markdown": [
       "### List of recognized units\n",
       "- __A__: ampere\n",
       "- __ARichardson__: Richardson constant\n",
       "- __Ah__: amp-hour\n",
       "- __C__: coulomb\n",
       "- __Da__: dalton\n",
       "- __F__: farad\n",
       "- __G__: gauss\n",
       "- __GHz__: gigahertz\n",
       "- __GHz·2π__: gigahertz times 2 pi\n",
       "- __GJ__: gigajoule\n",
       "- __GL__: gigaliter\n",
       "- __GN__: giganewton\n",
       "- __GNewton__: Gravitational constant\n",
       "- __GPa__: gigapascal\n",
       "- __GV__: gigavolt\n",
       "- __GW__: gigawatt\n",
       "- __Gal__: galileo\n",
       "- __GeV__: gigaelectron volt\n",
       "- __Gohm__: gigaohm\n",
       "- __Gpc__: gigaparsec\n",
       "- __GΩ__: gigaohm\n",
       "- __H__: henry\n",
       "- __Hartree__: Hartree energy, approximately 27.2 eV\n",
       "- __Hz__: hertz\n",
       "- __Hz·2π__: hertz times 2 pi\n",
       "- __J__: joule\n",
       "- __K__: kelvin\n",
       "- __KJos__: Josephson constant\n",
       "- __L__: liter\n",
       "- __M__: molar\n",
       "- __MEarth__: mass of earth\n",
       "- __MHz__: megahertz\n",
       "- __MHz·2π__: megahertz times 2 pi\n",
       "- __MJ__: megajoule\n",
       "- __ML__: megaliter\n",
       "- __MN__: meganewton\n",
       "- __MPa__: megapascal\n",
       "- __MV__: megavolt\n",
       "- __MW__: megawatt\n",
       "- __Mbar__: megabar\n",
       "- __MeV__: megaelectron volt\n",
       "- __Mohm__: megaohm\n",
       "- __Mpc__: megaparsec\n",
       "- __Msolar__: mass of the sun)\n",
       "- __MΩ__: megaohm\n",
       "- __N__: newton\n",
       "- __NA__: Avogadro's number\n",
       "- __Oe__: oersted\n",
       "- __PHz__: petahertz\n",
       "- __PHz·2π__: petahertz times 2 pi\n",
       "- __Pa__: pascal\n",
       "- __Phi0__: magnetic flux quantum\n",
       "- __REarth__: radius of earth\n",
       "- __RKlitz__: von Klitzing constant\n",
       "- __Rgas__: ideal gas constant (see README)\n",
       "- __Rinf__: Rydberg constant\n",
       "- __Ry__: Rydberg energy, approximately 13.6 eV\n",
       "- __S__: siemens\n",
       "- __T__: tesla\n",
       "- __THz__: terahertz\n",
       "- __THz·2π__: terahertz times 2 pi\n",
       "- __TV__: teravolt\n",
       "- __TW__: terawatt\n",
       "- __TeV__: teraelectron volt\n",
       "- __V__: volt\n",
       "- __W__: watt\n",
       "- __Wb__: weber\n",
       "- __Wh__: watt-hour\n",
       "- __Z0__: vacuum impedance, 377 ohms\n",
       "- __aBohr__: Bohr radius\n",
       "- __aF__: attofarad\n",
       "- __aL__: attoliter\n",
       "- __alphaFS__: fine-structure constant\n",
       "- __amu__: atomic mass unit\n",
       "- __angstrom__: angstrom\n",
       "- __astro_unit__: astronomical unit\n",
       "- __atm__: standard atmosphere pressure\n",
       "- __bar__: bar\n",
       "- __btu__: British thermal unit\n",
       "- __c0__: speed of light in vacuum\n",
       "- __cbar__: centibar\n",
       "- __cm__: centimeter\n",
       "- __day__: solar day\n",
       "- __dbar__: decibar\n",
       "- __debye__: debye dipole moment, approximately 0.0208 e nm\n",
       "- __degCinterval__: temperature difference in degrees Celsius\n",
       "- __degFinterval__: temperature difference in degrees Fahrenheit\n",
       "- __dyn__: dyne\n",
       "- __e__: charge of proton\n",
       "- __eV__: electron volt\n",
       "- __eotvos__: eotvos\n",
       "- __eps0__: electric constant, permittivity of vacuum\n",
       "- __erg__: erg\n",
       "- __fA__: femtoampere\n",
       "- __fF__: femtofarad\n",
       "- __fJ__: femtogram\n",
       "- __fL__: femtoliter\n",
       "- __fM__: femtomolar\n",
       "- __fN__: femtonewton\n",
       "- __fg__: femtogram\n",
       "- __fm__: femtometer\n",
       "- __fmol__: femtomole\n",
       "- __foot__: foot\n",
       "- __fs__: femtosecond\n",
       "- __g__: gram\n",
       "- __g0__: standard earth gravitational acceleration\n",
       "- __hPa__: hectopascal\n",
       "- __hPlanck__: planck constant\n",
       "- __hbar__: reduced planck constant\n",
       "- __horsepower_imperial__: imperial horsepower\n",
       "- __horsepower_metric__: metric horsepower\n",
       "- __hour__: hour\n",
       "- __inch__: inch\n",
       "- __kB__: Boltzmann constant\n",
       "- __kDa__: kilodalton\n",
       "- __kG__: kilogauss\n",
       "- __kHz__: kilohertz\n",
       "- __kHz·2π__: kilohertz times 2 pi\n",
       "- __kJ__: kilojoule\n",
       "- __kL__: kiloliter\n",
       "- __kN__: kilonewton\n",
       "- __kPa__: kilopascal\n",
       "- __kV__: kilovolt\n",
       "- __kW__: kilowatt\n",
       "- __kWh__: kilowatt-hour\n",
       "- __kbar__: kilobar\n",
       "- __kcal__: kilocalorie (a.k.a large Calorie, dietary Calorie)\n",
       "- __keV__: kiloelectron volt\n",
       "- __kg__: kilogram\n",
       "- __km__: kilometer\n",
       "- __kohm__: kiloohm\n",
       "- __kpc__: kiloparsec\n",
       "- __kΩ__: kiloohm\n",
       "- __lbf__: pound-force (international avoirdupois pound)\n",
       "- __lbm__: pound mass (international avoirdupois pound)\n",
       "- __lightyear__: lightyear\n",
       "- __m__: meter\n",
       "- __mA__: milliampere\n",
       "- __mAh__: milliamp-hour\n",
       "- __mC__: millicoulomb\n",
       "- __mG__: milligauss\n",
       "- __mGal__: milligalileo\n",
       "- __mH__: millihenry\n",
       "- __mHz__: megahertz\n",
       "- __mHz·2π__: millihertz times 2 pi\n",
       "- __mJ__: milligram\n",
       "- __mK__: millikelvin\n",
       "- __mL__: milliliter\n",
       "- __mM__: millimolar\n",
       "- __mN__: millinewton\n",
       "- __mS__: millisiemens\n",
       "- __mT__: millitesla\n",
       "- __mV__: millivolt\n",
       "- __mW__: milliwatt\n",
       "- __mbar__: millibar\n",
       "- __me__: electron mass\n",
       "- __meV__: millielectron volt\n",
       "- __mg__: milligram\n",
       "- __mile__: mile\n",
       "- __minute__: minute\n",
       "- __mm__: millimeter\n",
       "- __mmol__: millimole\n",
       "- __mn__: neutron mass\n",
       "- __mohm__: milliohm\n",
       "- __mol__: mole\n",
       "- __mp__: proton mass\n",
       "- __ms__: millisecond\n",
       "- __mtorr__: millitorr\n",
       "- __mu0__: magnetic constant, permeability of vacuum\n",
       "- __mΩ__: milliohm\n",
       "- __nA__: nanoampere\n",
       "- __nC__: nanocoulomb\n",
       "- __nF__: nanofarad\n",
       "- __nH__: nanohenry\n",
       "- __nJ__: nanogram\n",
       "- __nK__: nanokelvin\n",
       "- __nL__: nanoliter\n",
       "- __nM__: nanomolar\n",
       "- __nN__: nanonewton\n",
       "- __nS__: nanosiemens\n",
       "- __nT__: nanotesla\n",
       "- __nV__: nanovolt\n",
       "- __nW__: nanowatt\n",
       "- __ng__: nanogram\n",
       "- __nm__: nanometer\n",
       "- __nmol__: nanomole\n",
       "- __ns__: nanosecond\n",
       "- __ohm__: ohm\n",
       "- __pA__: picoampere\n",
       "- __pF__: picofarad\n",
       "- __pJ__: picogram\n",
       "- __pK__: picokelvin\n",
       "- __pL__: picoliter\n",
       "- __pM__: picomolar\n",
       "- __pN__: piconewton\n",
       "- __pW__: picowatt\n",
       "- __pc__: parsec\n",
       "- __pg__: picogram\n",
       "- __pi__: pi\n",
       "- __pm__: picometer\n",
       "- __pmol__: picomole\n",
       "- __ps__: picosecond\n",
       "- __psi__: pounds force per square inch\n",
       "- __rpm__: revolutions per minute\n",
       "- __rpm·2π__: revolutions per minute times 2 pi\n",
       "- __rtHz__: root Hertz\n",
       "- __s__: second\n",
       "- __sigmaSB__: Stefan-Boltzmann constant\n",
       "- __smallcal__: small calorie (a.k.a. gram calorie)\n",
       "- __thou__: thousandth of an inch, mil\n",
       "- __tonne__: tonne\n",
       "- __torr__: torr\n",
       "- __uA__: microampere\n",
       "- __uBohr__: Bohr magneton\n",
       "- __uC__: microcoulomb\n",
       "- __uF__: microfarad\n",
       "- __uG__: microgauss\n",
       "- __uGal__: microgalileo\n",
       "- __uH__: microhenry\n",
       "- __uJ__: microgram\n",
       "- __uK__: microkelvin\n",
       "- __uL__: microliter\n",
       "- __uM__: micromolar\n",
       "- __uN__: micronewton\n",
       "- __uNuc__: nuclear magneton\n",
       "- __uS__: microsiemens\n",
       "- __uT__: microtesla\n",
       "- __uV__: microvolt\n",
       "- __uW__: microwatt\n",
       "- __ug__: microgram\n",
       "- __um__: micrometer\n",
       "- __umol__: micromole\n",
       "- __us__: microsecond\n",
       "- __week__: week\n",
       "- __year__: sidereal year\n",
       "- __Å__: angstrom\n",
       "- __ħ__: reduced planck constant\n",
       "- __Ω__: ohm\n",
       "- __αFS__: fine-structure constant\n",
       "- __ε0__: electric constant, permittivity of vacuum\n",
       "- __μ0__: magnetic constant, permeability of vacuum\n",
       "- __π__: pi\n",
       "- __σSB__: Stefan-Boltzmann constant\n"
      ],
      "text/plain": [
       "<IPython.core.display.Markdown object>"
      ]
     },
     "metadata": {},
     "output_type": "display_data"
    }
   ],
   "source": [
    "markdown_str = '### List of recognized units\\n'\n",
    "\n",
    "for unit in uc.unitdoc:\n",
    "    markdown_str += f'- __{unit}__: {uc.unitdoc[unit]}\\n'\n",
    "\n",
    "display(Markdown(markdown_str))    "
   ]
  },
  {
   "cell_type": "markdown",
   "metadata": {},
   "source": [
    " "
   ]
  }
 ],
 "metadata": {
  "kernelspec": {
   "display_name": "ipr",
   "language": "python",
   "name": "ipr"
  },
  "language_info": {
   "codemirror_mode": {
    "name": "ipython",
    "version": 3
   },
   "file_extension": ".py",
   "mimetype": "text/x-python",
   "name": "python",
   "nbconvert_exporter": "python",
   "pygments_lexer": "ipython3",
   "version": "3.11.11"
  }
 },
 "nbformat": 4,
 "nbformat_minor": 4
}
