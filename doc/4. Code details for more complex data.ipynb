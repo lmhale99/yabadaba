{
 "cells": [
  {
   "cell_type": "markdown",
   "id": "9729773b-5eba-4ca4-86f1-32fbd560078a",
   "metadata": {},
   "source": [
    "# Introduction to yabadaba: Code details for more complex data\n",
    "\n",
    "This Notebook is currently under construction and for now has only a very quick mental dump of the code design."
   ]
  },
  {
   "cell_type": "markdown",
   "id": "44fe3fc1-696e-45f9-80cc-9c2fc62be44f",
   "metadata": {},
   "source": [
    "## Modular components of yabadaba\n",
    "\n",
    "The four main modular components of yabadaba are\n",
    "\n",
    "- Database: The base Database class creates a standard API for database interactions, which the subclasses then implement how to perform the operations with a specific database infrastructure. \n",
    "- Record: The base Record class outlines how to transform the data of a single database entry/record into a variety of formats.  This can be done by manually defining all necessary component methods or more simply by defining Value objects.\n",
    "- Value: A Value class defines how to transform an element in the XML/JSON representation of a record into a basic data type or a Python object.\n",
    "- Query: Each query class contains methods that dictate how to perform an efficient query for a specific type of data in the different Databases. Most of the simple Value objects have a default Query object associated with it."
   ]
  },
  {
   "cell_type": "markdown",
   "id": "91820848-4b6c-411f-b02c-1c8050c982b8",
   "metadata": {},
   "source": [
    "## Database details\n",
    "\n",
    "Most users can probably get away with using the default Database objects already defined in yabadaba.\n",
    "\n",
    "If you wish for your package to modify or add methods of the base Database class, this can easily be done by\n",
    "\n",
    "1. Create a new base database in your code that inherits from yabadaba.database.Database.  Define only your modifications.\n",
    "2. Generate new updated versions of the subclass that inherits from #1 as well as the original subclass.\n",
    "3. In the parent \\_\\_init\\_\\_.py file, either update the databasemanager to point to the modified subclasses instead of the original, or create a new databasemanager that does so."
   ]
  },
  {
   "cell_type": "code",
   "execution_count": 1,
   "id": "884eb0b8-138b-4be0-820a-af7b52ff2389",
   "metadata": {},
   "outputs": [],
   "source": [
    "# example code???"
   ]
  },
  {
   "cell_type": "markdown",
   "id": "5606a2e0-8b0b-4e5c-900f-c553f40ae7d0",
   "metadata": {},
   "source": [
    "If you wish to add a new Database style, then you need to define the methods that interact with records and tars in the new database infrastructure.  Additionally, you may need to expand the Query objects to add methods that build efficient queries in the new database infrastructure."
   ]
  },
  {
   "cell_type": "markdown",
   "id": "80167a9a-1b60-4341-b78b-d0874afe8edb",
   "metadata": {},
   "source": [
    "## Records\n",
    "\n",
    "Here's a list of all of the primary Record methods that users are likely to set when defining a new Record:\n",
    "\n",
    "\n",
    "- asdfasf\n",
    "\n",
    "\n",
    "\n",
    "\n",
    "\n",
    "\n",
    "\n",
    "\n",
    "\n",
    "\n",
    "It is hoped that most people can get away with minor record changes and defining new Value objects for more complex data interactions.  This section gives a quick outline of \n",
    "\n",
    "- \\_\\_init__() sets default empty values for model, name, tar and database. It then builds the value objects defined in \\_init_values or \\_init_value_objects.  Finally, it calls either load_model or set_values depending on if a model parameter is given.\n",
    "- \\_init_value_objects() is used to build and return a list of Value objects.  This is an alternate method from \\_init_values and will likely be removed.\n",
    "- \\_init_values() is the preferred method for defining Value objects using \\_add_value.\n",
    "- \\_add_value() serves as a wrapper around yabadaba.load_value to create a Value object, associate it with the record, and add it to the underlying dict of Value objects.\n",
    "- load_model() reads in data in the tree-like model format and extracts out all values.  It checks if name is set, saves the model using _set_model(), and then loops over all defined Value objects and calls their load_model methods.\n",
    "- set_values() allows for the setting of class attributes all at once by passing them in as keyword arguments of this method. It checks for \"name\", then loops over all Value objects to check the kwargs keys against the Value names.\n",
    "- _set_model() sets model contents to the model attribute.\n",
    "- build_model() builds model contents by looping over the Value objects and calling their build_model() methods.\n",
    "- metadata() builds the flat metadata dict starting with \"name\" then looping over the Value objects and calling their metadata() methods.\n",
    "- metadatakeys() builds the list of keys for the metadata() dict by looping over the Value objects.\n",
    "- pandasfilter() constructs a boolean map to apply to use for parsing a pandas DataFrame based on calling the pandas() methods of queries with names matching any kwargs keys containing values.\n",
    "- mongoquery() Builds a Mongo-style query by calling the mongo() methods of queries with names matching any kwargs keys containing values.\n",
    "- cdcsquery() Is the same as mongoquery() but specifically for CDCS curators.play_image(self,\n"
   ]
  },
  {
   "cell_type": "markdown",
   "id": "1dec3074-81cc-4714-bf04-df2fb1be59c9",
   "metadata": {},
   "source": [
    "## Values\n",
    "\n"
   ]
  },
  {
   "cell_type": "markdown",
   "id": "ca553ed3-9c7c-4781-8048-e36417a47cfa",
   "metadata": {},
   "source": [
    "## Queries"
   ]
  }
 ],
 "metadata": {
  "kernelspec": {
   "display_name": "Python 311",
   "language": "python",
   "name": "py11"
  },
  "language_info": {
   "codemirror_mode": {
    "name": "ipython",
    "version": 3
   },
   "file_extension": ".py",
   "mimetype": "text/x-python",
   "name": "python",
   "nbconvert_exporter": "python",
   "pygments_lexer": "ipython3",
   "version": "3.11.5"
  }
 },
 "nbformat": 4,
 "nbformat_minor": 5
}
