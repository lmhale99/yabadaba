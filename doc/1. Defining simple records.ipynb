{
 "cells": [
  {
   "cell_type": "markdown",
   "id": "4133476c",
   "metadata": {},
   "source": [
    "# Introduction to yabadaba: Defining simple records\n",
    "\n",
    "This Notebook provides a demonstration of using yabadaba to interact with a very simple data schema for frequently asked questions (FAQ) data that consists solely of a question and an answer.  "
   ]
  },
  {
   "cell_type": "code",
   "execution_count": 1,
   "id": "6a5d084f",
   "metadata": {},
   "outputs": [
    {
     "name": "stdout",
     "output_type": "stream",
     "text": [
      "yabadaba version = 0.3.0\n",
      "Notebook executed on 2025-02-13\n"
     ]
    }
   ],
   "source": [
    "# Standard Python libraries\n",
    "import datetime\n",
    "\n",
    "import yabadaba\n",
    "from yabadaba.record import Record\n",
    "from yabadaba import recordmanager\n",
    "\n",
    "# Show yabadaba version\n",
    "print('yabadaba version =', yabadaba.__version__)\n",
    "\n",
    "# Show date of Notebook execution\n",
    "print('Notebook executed on', datetime.date.today())"
   ]
  },
  {
   "cell_type": "markdown",
   "id": "7870f86e",
   "metadata": {},
   "source": [
    "## 1. FAQ records\n",
    "\n",
    "The FAQ records are incredibly simple data models that have a single root of 'faq' and two fields: the 'question' and the associated 'answer'."
   ]
  },
  {
   "cell_type": "code",
   "execution_count": 2,
   "id": "b634f0e2",
   "metadata": {},
   "outputs": [],
   "source": [
    "faq_faq_json = \"\"\"{\n",
    "    \"faq\": {\n",
    "        \"question\": \"What does a FAQ Record represent?\",\n",
    "        \"answer\": \"A frequently asked question and the corresponding answer.\"\n",
    "    }\n",
    "}\"\"\"\n",
    "\n",
    "woodchuck_faq_json = \"\"\"{\n",
    "    \"faq\": {\n",
    "        \"question\": \"How much wood would a woodchuck chuck if a woodchuck could chuck wood?\",\n",
    "        \"answer\": \"A woodchuck would chuck as much wood as a woodchuck could chuck if a woodchuck could chuck wood.\"\n",
    "    }\n",
    "}\"\"\"\n",
    "\n",
    "fuzzy_faq_json = \"\"\"{\n",
    "    \"faq\": {\n",
    "        \"question\": \"Fuzzywuzzy was a bear. Fuzzywuzzy had no hair. So Fuzzywuzzy wasn't fuzzy, was he?\",\n",
    "        \"answer\": \"Nope.\"\n",
    "    }\n",
    "}\"\"\""
   ]
  },
  {
   "cell_type": "markdown",
   "id": "f1241d6f",
   "metadata": {},
   "source": [
    "## 2. Record class definition\n",
    "\n",
    "This section shows an example code for defining a Record class for the FAQ data and describes the components.\n",
    "\n",
    "### 2.1. Define the FAQ class\n",
    "\n",
    "We define a Record class for the FAQ data shown above that provides some basic metadata information and specifies what the values are. "
   ]
  },
  {
   "cell_type": "code",
   "execution_count": 3,
   "id": "ce4f4cf7",
   "metadata": {},
   "outputs": [],
   "source": [
    "class FAQ(Record):\n",
    "    \"\"\"\n",
    "    Class for representing FAQ (frequently asked question) records.\n",
    "    \"\"\"\n",
    "    ########################## Basic metadata fields ##########################\n",
    "\n",
    "    @property\n",
    "    def style(self) -> str:\n",
    "        \"\"\"str: The record style\"\"\"\n",
    "        return 'FAQ'\n",
    "\n",
    "    @property\n",
    "    def modelroot(self):\n",
    "        \"\"\"str: The root element of the content\"\"\"\n",
    "        return 'faq'\n",
    "\n",
    "    ############################# Define Values  ##############################\n",
    "\n",
    "    def _init_values(self):\n",
    "        \"\"\"\n",
    "        Method that defines the value objects for the Record.  This should\n",
    "        call the super of this method, then use self._add_value to create new Value objects.\n",
    "        Note that the order values are defined matters\n",
    "        when build_model is called!!!\n",
    "        \"\"\"\n",
    "        self._add_value('longstr', 'question')\n",
    "        self._add_value('longstr', 'answer')"
   ]
  },
  {
   "cell_type": "markdown",
   "id": "07ee7d5c-8428-4edd-8278-503dc0795a65",
   "metadata": {},
   "source": [
    "### 2.2. Basic metadata attributes\n",
    "\n",
    "Each Record class has a few basic metadata attributes that either help with data transformations or with interacting with the databases.  The two such values that are required are\n",
    "\n",
    "- __style__ is the style name associated with the class, i.e. how the recordmanager (see below) will identify it.\n",
    "- __modelroot__ is the name of the root element of the data model schema.\n",
    "\n",
    "### 2.3. Define Values\n",
    "\n",
    "The purpose of the Record class is to manage data transformations between multiple different formats.  The easiest way to do this is to define a _init_values() method for the Record class and within it use self._add_value() to define all values in your schema. The _add_value() method creates a new Value object and automatically associates it with the Record class. \n",
    "\n",
    "Parameters of the _add_value() method:\n",
    "\n",
    "- __style__ (*str*) The value style.\n",
    "- __name__ (*str*) The name for the parameter value.  This corresponds to the name of the associated class attribute.\n",
    "- __defaultvalue__ (*any or None, optional*) The default value to use for the property.  The default value of None indicates that there is no default value.\n",
    "- __valuerequired__ (*bool, optional*) Indicates if a value must be given for the property.  If True, then checks will be performed that a value is assigned to the property.\n",
    "- __allowedvalues__ (*tuple or None, optional*) A list/tuple of values that the parameter is restricted to have. Setting this to None (default) indicates any value is allowed.\n",
    "- __metadatakey__ (*str, bool or None, optional*) The key name to use for the property when constructing the record metadata dict.  If set to None (default) then name will be used or\n",
    " metadatakey.  If set to False then the parameter will not be included in the metadata dict.\n",
    "- __metadataparent__ (*str or None, optional*) If given, then this indicates that the metadatakey is actually an element of a dict in metadata with this name.  This allows for limited support for metadata having embedded dicts.\n",
    "- __modelpath__ (*str, optional*) The period-delimited path after the record root element for where the parameter will be found in the built data model.  If set to None (default) then name will be used for modelpath.\n",
    "- __description__ (*str or None, optional*) A short description for the value.  If not given, then the record name will be used.\n",
    "- __\\*\\*kwargs__ (*any, optional*) Any additional value style-specific keyword parameters.\n",
    "\n",
    "### 2.4. Define data-specific methods and attributes\n",
    "\n",
    "Once the above connections with yabadaba have been defined, the rest of the Record class can consist of data-specific methods and properties allowing users to better interact with the data."
   ]
  },
  {
   "cell_type": "markdown",
   "id": "df5b7d0c-4d7f-404a-b09f-b63e70417b9a",
   "metadata": {},
   "source": [
    "## 3. Interacting with records\n",
    "\n",
    "Defining record classes that inherit from the base yabadaba Record class provides a variety of useful tools for interacting with and transforming the data associated with a single database entry even before database interactions are considered.\n",
    "\n",
    "### 3.1. Initializing records\n",
    "\n",
    "The default parameters for initializing a Record object are\n",
    "\n",
    "- __model__ (*str, file-like object, or DataModelDict, optional*)  The contents of a record to load. This can either be a str containing JSON or XML content, a path name to a file containing such content, or a DataModelDict object that interprets such content.\n",
    "- __name__ (*str, optional*) The unique name to assign to the record.  If model is a file path, then the default record name is the file name without extension.\n",
    "- __database__ (*yabadaba.Database, optional*) A default Database to associate with the Record, typically the Database that the Record was obtained from.  Can allow for Record methods to perform Database operations without needing to specify which Database to use.\n",
    "- __kwargs__ (*any*) Any record-specific attributes to assign.\n",
    "\n",
    "These parameters provide two main routes for creating a new record object\n",
    "\n",
    "1. Load in existing record contents from a data model representation (i.e. JSON or XML).\n",
    "2. Create a new record entry and start assigning values to it.\n",
    "\n",
    "Using the FAQ class defined in section 2, we can directly load the JSON contents for the three records defined in section 1."
   ]
  },
  {
   "cell_type": "code",
   "execution_count": 4,
   "id": "32eb22d2-055f-4cc8-bac4-2c2f8692d4a1",
   "metadata": {},
   "outputs": [],
   "source": [
    "faq_faq = FAQ(name='faq', model=faq_faq_json)\n",
    "woodchuck_faq = FAQ(name='woodchuck', model=woodchuck_faq_json)\n",
    "fuzzy_faq = FAQ(name='fuzzy', model=fuzzy_faq_json)"
   ]
  },
  {
   "cell_type": "markdown",
   "id": "0dd5e07b-89b7-4910-b212-93f6b5d01839",
   "metadata": {},
   "source": [
    "Alternatively, we can initialize new FAQ objects which can be used to build new database entries.  The Value objects defined for the record are automatically recognized as kwargs that can be assigned during the initialization."
   ]
  },
  {
   "cell_type": "code",
   "execution_count": 5,
   "id": "3d5c236f-5c9a-4f53-9f08-9d331067435c",
   "metadata": {},
   "outputs": [],
   "source": [
    "init_faq = FAQ(name='init', question='Can I assign values during init?', answer='Yes, you can!')"
   ]
  },
  {
   "cell_type": "markdown",
   "id": "e8d6a72d-9899-48e2-9023-0415a8a909d7",
   "metadata": {},
   "source": [
    "For any values not assigned during init, they will be given default values of either None or what was specified as their \"defaultvalue\"."
   ]
  },
  {
   "cell_type": "code",
   "execution_count": 6,
   "id": "2c4168db-904a-409d-a035-2e1b692018e4",
   "metadata": {},
   "outputs": [],
   "source": [
    "build_faq = FAQ()"
   ]
  },
  {
   "cell_type": "markdown",
   "id": "dea4b356-4736-4b75-a65a-b8f90307e11f",
   "metadata": {},
   "source": [
    "### 3.2. Basic attribute interactions\n",
    "\n",
    "Once created, a record object will have default parameters that characterize the class as well as attributes associated with any defined Values."
   ]
  },
  {
   "cell_type": "code",
   "execution_count": 7,
   "id": "8ed324b2-af4c-4be5-8ea4-73a4e96b2080",
   "metadata": {},
   "outputs": [
    {
     "name": "stdout",
     "output_type": "stream",
     "text": [
      "FAQ record named woodchuck\n"
     ]
    }
   ],
   "source": [
    "print(woodchuck_faq)"
   ]
  },
  {
   "cell_type": "code",
   "execution_count": 8,
   "id": "b673bbab-5426-4fe0-9127-09372bd043ec",
   "metadata": {},
   "outputs": [
    {
     "name": "stdout",
     "output_type": "stream",
     "text": [
      "woodchuck\n"
     ]
    }
   ],
   "source": [
    "print(woodchuck_faq.name)"
   ]
  },
  {
   "cell_type": "code",
   "execution_count": 9,
   "id": "489c3887",
   "metadata": {},
   "outputs": [
    {
     "name": "stdout",
     "output_type": "stream",
     "text": [
      "FAQ\n"
     ]
    }
   ],
   "source": [
    "print(woodchuck_faq.style)"
   ]
  },
  {
   "cell_type": "code",
   "execution_count": 10,
   "id": "a8adef6f",
   "metadata": {},
   "outputs": [
    {
     "name": "stdout",
     "output_type": "stream",
     "text": [
      "faq\n"
     ]
    }
   ],
   "source": [
    "print(woodchuck_faq.modelroot)"
   ]
  },
  {
   "cell_type": "code",
   "execution_count": 11,
   "id": "3706f28d-64af-4b0c-99c4-683d98f7b979",
   "metadata": {},
   "outputs": [
    {
     "name": "stdout",
     "output_type": "stream",
     "text": [
      "How much wood would a woodchuck chuck if a woodchuck could chuck wood?\n"
     ]
    }
   ],
   "source": [
    "print(woodchuck_faq.question)"
   ]
  },
  {
   "cell_type": "code",
   "execution_count": 12,
   "id": "abf18864-153f-4d94-8d9d-9bdf4282eb92",
   "metadata": {},
   "outputs": [
    {
     "name": "stdout",
     "output_type": "stream",
     "text": [
      "A woodchuck would chuck as much wood as a woodchuck could chuck if a woodchuck could chuck wood.\n"
     ]
    }
   ],
   "source": [
    "print(woodchuck_faq.answer)"
   ]
  },
  {
   "cell_type": "markdown",
   "id": "c4a7cb07-5bfc-4f31-b4e0-ac947f69bc6e",
   "metadata": {},
   "source": [
    "Any values that were not assigned during initialization can be directly assigned to these attributes."
   ]
  },
  {
   "cell_type": "code",
   "execution_count": 13,
   "id": "0f2721e9-1667-4078-b3ef-72db5971bc52",
   "metadata": {},
   "outputs": [
    {
     "name": "stdout",
     "output_type": "stream",
     "text": [
      "None\n",
      "None\n",
      "None\n"
     ]
    }
   ],
   "source": [
    "print(build_faq.name)\n",
    "print(build_faq.question)\n",
    "print(build_faq.answer)"
   ]
  },
  {
   "cell_type": "code",
   "execution_count": 14,
   "id": "f2b6450c-e5fc-4e33-a439-2d3215d61e1e",
   "metadata": {},
   "outputs": [
    {
     "name": "stdout",
     "output_type": "stream",
     "text": [
      "build\n",
      "Is it easy to build record contents by assigning to object attributes?\n",
      "It seems that way to me.\n"
     ]
    }
   ],
   "source": [
    "build_faq.name = 'build'\n",
    "build_faq.question = 'Is it easy to build record contents by assigning to object attributes?'\n",
    "build_faq.answer = 'It seems that way to me.'\n",
    "\n",
    "print(build_faq.name)\n",
    "print(build_faq.question)\n",
    "print(build_faq.answer)"
   ]
  },
  {
   "cell_type": "markdown",
   "id": "c25cea2f-f6d2-46e0-8586-a56d6a61c7e0",
   "metadata": {},
   "source": [
    "### 3.3. Data transformation methods\n",
    "\n",
    "There are also a number of data transformation methods built into the Record class.  These primarily allow for interfacing with different database infrastructures, but can also serve as means of interacting with the data in different ways that can possibly be more useful for different situations.\n",
    "\n",
    "#### 3.3.1. Metadata (flat dict) representation\n",
    "\n",
    "The metadata() method of a record is intended to generate a simple flat dictionary where the values are simple data types like int, float and str.  This is not intended to provide a full representation of the record data in all cases, but rather a quick survey of simple data and metadata values of the record. "
   ]
  },
  {
   "cell_type": "code",
   "execution_count": 15,
   "id": "0cc28b57-22fd-490a-a2ed-0e554219a6e0",
   "metadata": {},
   "outputs": [
    {
     "data": {
      "text/plain": [
       "{'name': 'woodchuck',\n",
       " 'question': 'How much wood would a woodchuck chuck if a woodchuck could chuck wood?',\n",
       " 'answer': 'A woodchuck would chuck as much wood as a woodchuck could chuck if a woodchuck could chuck wood.'}"
      ]
     },
     "execution_count": 15,
     "metadata": {},
     "output_type": "execute_result"
    }
   ],
   "source": [
    "woodchuck_faq.metadata()"
   ]
  },
  {
   "cell_type": "markdown",
   "id": "7a80f8c7-0890-4e1a-bdee-88eab18110a2",
   "metadata": {},
   "source": [
    "The metadata() method regenerates the dict contents from the currently assigned values of the Value objects each time it is called.  "
   ]
  },
  {
   "cell_type": "code",
   "execution_count": 16,
   "id": "c3d9bb9c-4302-44ef-8e98-ef032748e238",
   "metadata": {},
   "outputs": [
    {
     "data": {
      "text/plain": [
       "{'name': 'build',\n",
       " 'question': 'Is it easy to build record contents by assigning to object attributes?',\n",
       " 'answer': 'It seems that way to me.'}"
      ]
     },
     "execution_count": 16,
     "metadata": {},
     "output_type": "execute_result"
    }
   ],
   "source": [
    "build_faq.metadata()"
   ]
  },
  {
   "cell_type": "markdown",
   "id": "b745181a-3f56-49bc-b7b8-1368e23fa2a2",
   "metadata": {},
   "source": [
    "__NOTE__: Changing values in the metadata dict or python object will not automatically adjust the values in the other."
   ]
  },
  {
   "cell_type": "code",
   "execution_count": 17,
   "id": "ae9454be-2acf-46df-888b-33233984794f",
   "metadata": {},
   "outputs": [
    {
     "name": "stdout",
     "output_type": "stream",
     "text": [
      "It seems that way to me.\n"
     ]
    }
   ],
   "source": [
    "meta = build_faq.metadata()\n",
    "meta['answer'] = 'trying to assign a new answer to the meta dict'\n",
    "\n",
    "# Printing the answer value attribute shows the original unchanged value\n",
    "print(build_faq.answer)"
   ]
  },
  {
   "cell_type": "markdown",
   "id": "3923ecb7-f112-4331-afb9-428fbc6a1b8e",
   "metadata": {},
   "source": [
    "### 3.3.2. Data model representation\n",
    "\n",
    "The record can also be transformed to/from the tree-like \"data model\" representation that can exist in one of three formats:\n",
    "1. JSON string,\n",
    "2. XML string, or\n",
    "3. Embedded Python dicts and lists analogous to the JSON.\n",
    "\n",
    "The model contents can be accessed using the model attribute.  This returns embedded DataModelDict objects of the content, where DataModelDict is an extension of the basic Python dict to include built-in conversion methods to/from JSON and XML and some other tools supporting building and interacting with data models."
   ]
  },
  {
   "cell_type": "code",
   "execution_count": 18,
   "id": "876990ed-d170-4bb1-9e3c-5d8fbfa6fbe2",
   "metadata": {},
   "outputs": [
    {
     "data": {
      "text/plain": [
       "DataModelDict([('faq',\n",
       "                DataModelDict([('question',\n",
       "                                'How much wood would a woodchuck chuck if a woodchuck could chuck wood?'),\n",
       "                               ('answer',\n",
       "                                'A woodchuck would chuck as much wood as a woodchuck could chuck if a woodchuck could chuck wood.')]))])"
      ]
     },
     "execution_count": 18,
     "metadata": {},
     "output_type": "execute_result"
    }
   ],
   "source": [
    "# Show the DataModelDict representation\n",
    "woodchuck_faq.model"
   ]
  },
  {
   "cell_type": "code",
   "execution_count": 19,
   "id": "e8fb7aa9-8886-4351-8889-3140bab9b89a",
   "metadata": {},
   "outputs": [
    {
     "name": "stdout",
     "output_type": "stream",
     "text": [
      "{\n",
      "    \"faq\": {\n",
      "        \"question\": \"How much wood would a woodchuck chuck if a woodchuck could chuck wood?\",\n",
      "        \"answer\": \"A woodchuck would chuck as much wood as a woodchuck could chuck if a woodchuck could chuck wood.\"\n",
      "    }\n",
      "}\n"
     ]
    }
   ],
   "source": [
    "# Instantly convert to JSON\n",
    "print(woodchuck_faq.model.json(indent=4))"
   ]
  },
  {
   "cell_type": "code",
   "execution_count": 20,
   "id": "0f35a5f3-5a2a-458f-9155-25713fe579fe",
   "metadata": {},
   "outputs": [
    {
     "name": "stdout",
     "output_type": "stream",
     "text": [
      "<?xml version=\"1.0\" encoding=\"utf-8\"?>\n",
      "<faq>\n",
      "    <question>How much wood would a woodchuck chuck if a woodchuck could chuck wood?</question>\n",
      "    <answer>A woodchuck would chuck as much wood as a woodchuck could chuck if a woodchuck could chuck wood.</answer>\n",
      "</faq>\n"
     ]
    }
   ],
   "source": [
    "# Instantly convert to XML\n",
    "print(woodchuck_faq.model.xml(indent=4))"
   ]
  },
  {
   "cell_type": "markdown",
   "id": "8c9e1c25-2eac-4994-95e9-7a7279585925",
   "metadata": {},
   "source": [
    "__NOTE__: Similar to the metadata() contents, any changes made to the record object attribute values or to the values in the model contents are not automatically reflected in the values of the alternate representation.  But, since the model is a full representation of the data there are built-in conversion methods between the two.\n",
    "\n",
    "- build_model() will (re)build the model representation based on the current values assigned to the Python representation.\n",
    "- load_model() will read in JSON/XML/DataModelDict contents and assign the values to the correct Python attributes.  Calling this is equivalent to initializing a new record using the \"model\" parameter.\n",
    "- reload_model() will perform load_model() using the current model contents.  This allows for manual changes to the model that are then reflected in the object."
   ]
  },
  {
   "cell_type": "code",
   "execution_count": 21,
   "id": "b06678a8-fad5-4845-8c9b-4695a03b74ac",
   "metadata": {},
   "outputs": [
    {
     "name": "stdout",
     "output_type": "stream",
     "text": [
      "None\n"
     ]
    }
   ],
   "source": [
    "# The build_faq object does not currently have model contents as none were loaded in\n",
    "print(build_faq.model)"
   ]
  },
  {
   "cell_type": "code",
   "execution_count": 22,
   "id": "0d580b52-3cc2-47d0-95a2-18e3e745fad0",
   "metadata": {},
   "outputs": [
    {
     "name": "stdout",
     "output_type": "stream",
     "text": [
      "{\n",
      "    \"faq\": {\n",
      "        \"question\": \"Is it easy to build record contents by assigning to object attributes?\",\n",
      "        \"answer\": \"It seems that way to me.\"\n",
      "    }\n",
      "}\n"
     ]
    }
   ],
   "source": [
    "# Calling build_model() generates the model and returns it\n",
    "print(build_faq.build_model().json(indent=4))"
   ]
  },
  {
   "cell_type": "code",
   "execution_count": 23,
   "id": "9338e719-68f3-4f7a-979a-cca35b4e629f",
   "metadata": {},
   "outputs": [
    {
     "name": "stdout",
     "output_type": "stream",
     "text": [
      "<?xml version=\"1.0\" encoding=\"utf-8\"?>\n",
      "<faq>\n",
      "    <question>Is it easy to build record contents by assigning to object attributes?</question>\n",
      "    <answer>It seems that way to me.</answer>\n",
      "</faq>\n"
     ]
    }
   ],
   "source": [
    "# Now, the model contents exist\n",
    "print(build_faq.model.xml(indent=4))"
   ]
  },
  {
   "cell_type": "code",
   "execution_count": 24,
   "id": "5e84764a-e6e7-47e0-ad55-3717d2a86b74",
   "metadata": {},
   "outputs": [
    {
     "name": "stdout",
     "output_type": "stream",
     "text": [
      "It seems that way to me.\n",
      "Yes, and you can assign to model contents as well.\n"
     ]
    }
   ],
   "source": [
    "# If I change the model answer, the object answer is not immediately changed\n",
    "build_faq.model['faq']['answer'] = 'Yes, and you can assign to model contents as well.'\n",
    "print(build_faq.answer)\n",
    "\n",
    "# But, calling reload_model() will update the values\n",
    "build_faq.reload_model()\n",
    "print(build_faq.answer)"
   ]
  },
  {
   "cell_type": "markdown",
   "id": "ca60fab4",
   "metadata": {},
   "source": [
    "## 4. Integrate the record into yabadaba for database interactions\n",
    "\n",
    "Once a Record subclass has been defined, yabadaba needs to know about it so that the database interactions know how to interpret data of the associated schema.\n",
    "\n",
    "### 4.1. Directly add to recordmanager\n",
    "\n",
    "The simplest way to integrate a record into yabadaba is by importing yabadaba.recordmanager and assigning the record to the recordmanager's loaded_styles dict.  The key should match the record's style attribute, and the value is the record class.  This can be useful for prototyping and testing, but can be unwieldy as the record gets more complicated and other people may wish to use it."
   ]
  },
  {
   "cell_type": "code",
   "execution_count": 25,
   "id": "bb9ee9ab",
   "metadata": {},
   "outputs": [],
   "source": [
    "recordmanager.loaded_styles['FAQ'] = FAQ"
   ]
  },
  {
   "cell_type": "code",
   "execution_count": 26,
   "id": "0a7e0e11",
   "metadata": {},
   "outputs": [
    {
     "name": "stdout",
     "output_type": "stream",
     "text": [
      "Record styles that passed import:\n",
      "- FAQ: <class '__main__.FAQ'>\n",
      "Record styles that failed import:\n",
      "\n"
     ]
    }
   ],
   "source": [
    "# Show that FAQ is now a recognized record style\n",
    "recordmanager.check_styles()"
   ]
  },
  {
   "cell_type": "markdown",
   "id": "391ef91d-cd8c-47a9-9b49-6c257a89b742",
   "metadata": {},
   "source": [
    "Once in the recordmanager, other yabadaba methods will know about the style and the record class.  For instance:\n",
    "\n",
    "- yabadaba.load_record() can be used to create a new record of the given class simply by providing the style attribute.\n",
    "- A Database object will recognize the record style as corresponding to a given record schema and will allow for queries and automatic interpretation of the data (more in the next Notebook)."
   ]
  },
  {
   "cell_type": "code",
   "execution_count": 27,
   "id": "937e831a-76f6-490c-a4ca-2265e5bf8b9a",
   "metadata": {},
   "outputs": [
    {
     "name": "stdout",
     "output_type": "stream",
     "text": [
      "<?xml version=\"1.0\" encoding=\"utf-8\"?>\n",
      "<faq>\n",
      "  <question>Does load_record know of the FAQ style?</question>\n",
      "  <answer>Yes, once it is added to the recordmanager</answer>\n",
      "</faq>\n"
     ]
    }
   ],
   "source": [
    "record = yabadaba.load_record('FAQ', name='load_record test', question='Does load_record know of the FAQ style?', answer='Yes, once it is added to the recordmanager')\n",
    "print(record.build_model().xml(indent=2))"
   ]
  },
  {
   "cell_type": "code",
   "execution_count": 28,
   "id": "ff18102e-67e8-4072-9ae8-f3e5b768890b",
   "metadata": {},
   "outputs": [],
   "source": [
    "# Create a new database object to interact with the local demo database\n",
    "database = yabadaba.load_database(style='local', host='yabadaba_demo_database')"
   ]
  },
  {
   "cell_type": "code",
   "execution_count": 29,
   "id": "7b058477-9984-412e-a4c7-4b28b7283d08",
   "metadata": {},
   "outputs": [
    {
     "data": {
      "text/html": [
       "<div>\n",
       "<style scoped>\n",
       "    .dataframe tbody tr th:only-of-type {\n",
       "        vertical-align: middle;\n",
       "    }\n",
       "\n",
       "    .dataframe tbody tr th {\n",
       "        vertical-align: top;\n",
       "    }\n",
       "\n",
       "    .dataframe thead th {\n",
       "        text-align: right;\n",
       "    }\n",
       "</style>\n",
       "<table border=\"1\" class=\"dataframe\">\n",
       "  <thead>\n",
       "    <tr style=\"text-align: right;\">\n",
       "      <th></th>\n",
       "      <th>name</th>\n",
       "      <th>question</th>\n",
       "      <th>answer</th>\n",
       "    </tr>\n",
       "  </thead>\n",
       "  <tbody>\n",
       "    <tr>\n",
       "      <th>0</th>\n",
       "      <td>faq</td>\n",
       "      <td>What does a FAQ Record represent?</td>\n",
       "      <td>A frequently asked question and the correspond...</td>\n",
       "    </tr>\n",
       "    <tr>\n",
       "      <th>1</th>\n",
       "      <td>fuzzy</td>\n",
       "      <td>Fuzzywuzzy was a bear. Fuzzywuzzy had no hair....</td>\n",
       "      <td>Nope.</td>\n",
       "    </tr>\n",
       "    <tr>\n",
       "      <th>2</th>\n",
       "      <td>woodchuck</td>\n",
       "      <td>How much wood would a woodchuck chuck if a woo...</td>\n",
       "      <td>A woodchuck would chuck as much wood as a wood...</td>\n",
       "    </tr>\n",
       "  </tbody>\n",
       "</table>\n",
       "</div>"
      ],
      "text/plain": [
       "        name                                           question  \\\n",
       "0        faq                  What does a FAQ Record represent?   \n",
       "1      fuzzy  Fuzzywuzzy was a bear. Fuzzywuzzy had no hair....   \n",
       "2  woodchuck  How much wood would a woodchuck chuck if a woo...   \n",
       "\n",
       "                                              answer  \n",
       "0  A frequently asked question and the correspond...  \n",
       "1                                              Nope.  \n",
       "2  A woodchuck would chuck as much wood as a wood...  "
      ]
     },
     "execution_count": 29,
     "metadata": {},
     "output_type": "execute_result"
    }
   ],
   "source": [
    "# Get the FAQ records in the database\n",
    "records, records_df = database.get_records(style='FAQ', return_df=True)\n",
    "records_df"
   ]
  },
  {
   "cell_type": "markdown",
   "id": "5ba64e9b-a9d2-4033-a654-7387f22f9843",
   "metadata": {},
   "source": [
    "### 4.2. Create a new package containing the record\n",
    "\n",
    "The more practical method is to place the Record class definition in a new package and import it.  The yabadaba_demo folder in this doc directory does just that.\n",
    "\n",
    "The yabadaba_demo package is very minimal in design to showcase only what is needed.\n",
    "\n",
    "- The main \\_\\_init\\_\\_.py imports a record submodule.\n",
    "- The record submodule contains record definitions either within python files in the record directory or in further subdirectories.  \n",
    "- The \\_\\_init\\_\\_.py of the record submodule imports the recordmanager from yabadaba and calls its import_style() method to dynamically import each defined record class.\n",
    "- Supporting XSL and XSD files are included in the xsl and xsd subdirectories.  These are optional and can be used to transform and validate the XML representation of the records. \n",
    "\n",
    "#### 4.2.1. recordmanager.import_style()\n",
    "\n",
    "The recordmanager.import_style() imports a defined Record class and, if successful, adds it to the recordmanager.loaded_styles dict. If the import fails, then the error message is caught and added to the recordmanager.failed_styles dict.  This allows for a modular treatment of the records where the core package being imported can still be ran even if some of the record styles fail.  This can be useful when a record style requires additional package requirements beyond what the core package needs.\n",
    "\n",
    "The parameters for import_style() are\n",
    "\n",
    "- __style__ (*str*)  The style name to associate with the modular class  This should match the style property assigned in the class.\r",
    "- __modulename__ (*str*) The name of the module to try to import.\n",
    "- __package__ (*str, optional*) The name of the package which is to act as the anchor for resolving relative package names.\n",
    "- __classname__ (*str, optional*) The name of the class in the imported module to associate with the style. If not given, will use the final name of the modulename path.\n",
    "\n",
    "\n",
    "The code and comments from yabadaba_demo/record/\\_\\_init\\_\\_.py are shown below demonstrating how to use import_style.\n",
    "\n",
    "```Python\n",
    "# from .FAQ import FAQ as the 'FAQ' record style\r\n",
    "recordmanager.import_style('FAQ', '.FAQ', __name__, 'FAQ')\r\n",
    "\r\n",
    "# from .demo import Demo as the 'demo' record style\r\n",
    "recordmanager.import_style('demo', '.demo', __name__, 'Demo')\n",
    "```\n"
   ]
  },
  {
   "cell_type": "markdown",
   "id": "3cbda3cd-2093-4e29-8549-33621b63bb95",
   "metadata": {},
   "source": [
    "#### 4.2.2. Using the package.\n",
    "\n",
    "With the setup mentioned above, the package can be used by first importing yabadaba and then the yabadaba_demo package. Since yabadaba was imported at the top of this Notebook, all we need to do is import the demo code."
   ]
  },
  {
   "cell_type": "code",
   "execution_count": 30,
   "id": "2308eeff-38c0-40a4-8bbe-fc3a0d331870",
   "metadata": {},
   "outputs": [],
   "source": [
    "import yabadaba_demo"
   ]
  },
  {
   "cell_type": "markdown",
   "id": "ce09b8f2-9ce8-4c32-9cd3-439cf66e77b8",
   "metadata": {},
   "source": [
    "Once the demo package is imported, yabadaba will know about the defined Record classes within it."
   ]
  },
  {
   "cell_type": "code",
   "execution_count": 31,
   "id": "7cf1b743-174b-4999-8716-1a3ea2d4654f",
   "metadata": {},
   "outputs": [
    {
     "name": "stdout",
     "output_type": "stream",
     "text": [
      "Record styles that passed import:\n",
      "- FAQ: <class 'yabadaba_demo.record.FAQ.FAQ'>\n",
      "- album: <class 'yabadaba_demo.record.album.Album.Album'>\n",
      "Record styles that failed import:\n",
      "- bad_record: <class 'ModuleNotFoundError'>: No module named 'package_that_does_not_exist'\n",
      "\n"
     ]
    }
   ],
   "source": [
    "yabadaba.recordmanager.check_styles()"
   ]
  }
 ],
 "metadata": {
  "kernelspec": {
   "display_name": "ipr",
   "language": "python",
   "name": "ipr"
  },
  "language_info": {
   "codemirror_mode": {
    "name": "ipython",
    "version": 3
   },
   "file_extension": ".py",
   "mimetype": "text/x-python",
   "name": "python",
   "nbconvert_exporter": "python",
   "pygments_lexer": "ipython3",
   "version": "3.11.11"
  }
 },
 "nbformat": 4,
 "nbformat_minor": 5
}
