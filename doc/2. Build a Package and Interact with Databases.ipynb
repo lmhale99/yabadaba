{
 "cells": [
  {
   "cell_type": "markdown",
   "id": "7f71c0d9",
   "metadata": {},
   "source": [
    "# Introduction to yabadaba: Build a Package and Interact with Databases\n",
    "\n",
    "Once Record classes have been defined, they can easily be integrated in allowing for yabadaba's Database operations to be used."
   ]
  },
  {
   "cell_type": "code",
   "execution_count": 1,
   "id": "723da2c5",
   "metadata": {},
   "outputs": [
    {
     "name": "stdout",
     "output_type": "stream",
     "text": [
      "yabadaba version = 0.2.0\n",
      "Notebook executed on 2023-04-03\n"
     ]
    }
   ],
   "source": [
    "# Standard Python libraries\n",
    "import datetime\n",
    "from pathlib import Path\n",
    "\n",
    "import yabadaba\n",
    "from yabadaba.record import Record\n",
    "\n",
    "from yabadaba import load_record, recordmanager\n",
    "\n",
    "# https://github.com/usnistgov/DataModelDict\n",
    "from DataModelDict import DataModelDict as DM\n",
    "\n",
    "import pandas as pd\n",
    "\n",
    "# Show yabadaba version\n",
    "print('yabadaba version =', yabadaba.__version__)\n",
    "\n",
    "# Show date of Notebook execution\n",
    "print('Notebook executed on', datetime.date.today())"
   ]
  },
  {
   "cell_type": "markdown",
   "id": "cc423365",
   "metadata": {},
   "source": [
    "## 1. ModuleManager objects\n",
    "\n",
    "The yabadaba package treats subclasses of the base Record, Database and Query classes in a modular fashion.  This modular handling is supported by ModuleManager objects, which provide a common framework for interacting with the subclasses.  Three ModuleManager objects are included in yabadaba, recordmanager, databasemanager, and querymanager, that all interact with one family of subclasses.  The benefits of the ModuleManagers are that\n",
    "- The ModuleManagers handle the importing of the subclasses in a way that allows for new subclasses to be easily added and any subclasses that fail import to not break the code.  This is useful if certain subclasses require additional optional packages to be installed, or if a particular subclass is not fully implemented yet due to it being in development or in need of an update.\n",
    "- Any subclasses that get successfully imported can be accessed using their assigned style.  Conversely, the error messages are caught and retained for any subclasses that failed import. \n",
    "- Subsequent code can then interact with the ModuleManagers without needing to know what styles are available."
   ]
  },
  {
   "cell_type": "markdown",
   "id": "622eea5a",
   "metadata": {},
   "source": [
    "## 2. Adding records to the recordmanager\n",
    "\n",
    "Records can be added to the recordmanager either by adding them to the recordmanager's loaded_styles dict or by importing the class from code in a Python package.  It is recommended to do the latter, as detailed in this section.\n",
    "\n",
    "### 2.1. Record class definitions\n",
    "\n",
    "The yabadaba.demo subpackage contains definitions for two Record classes\n",
    "\n",
    "- The file yabadaba/demo/FAQ.py defines the FAQ Record class as seen in the previous Notebook.\n",
    "- The file yabadaba/demo/BadRecord.py defines the BadRecord Record class, which is meant to fail importing. \n",
    "\n",
    "### 2.2. Import the Records\n",
    "\n",
    "Knowing the locations of the classes, they can be dynamically imported and added to the recordmanager using the import_style method.  The import_style method has the following paramters\n",
    "- __style__ (*str*) The style name to associate with the modular class.\n",
    "- __modulename__ (*str*) The name of the module to try to import.\n",
    "- __package__ (*str, optional*) The name of the package which is to act as the anchor for resolving a relative module.\n",
    "- __classname__ (*str, optional*) The name of the class in the module being imported to associate with the style.  If not given, will assume that the classname corresponds to the module that it is in.\n"
   ]
  },
  {
   "cell_type": "code",
   "execution_count": 2,
   "id": "a9923ebf",
   "metadata": {},
   "outputs": [],
   "source": [
    "# Class FAQ is in module yabadaba.demo.FAQ.  This is being assigned to style FAQ.\n",
    "recordmanager.import_style(style='FAQ', modulename='yabadaba.demo.FAQ')\n",
    "\n",
    "# Class BadRecord is in module yabadaba.demo.BadRecord. This is being assigned to style bad.\n",
    "recordmanager.import_style(style='bad', modulename='yabadaba.demo.BadRecord')"
   ]
  },
  {
   "cell_type": "markdown",
   "id": "44a9d36c",
   "metadata": {},
   "source": [
    "### 2.3. Check the status of imported Records\n",
    "\n",
    "Most of the other methods and attributes of the ModuleManager objects, such as recordmanager, are oriented towards checking the status or accessing the imported records.\n",
    "\n",
    "- __loaded_styles__ (*dict*) collects the successfully loaded subclasses according to their style names.\n",
    "- __failed_styles__ (*dict*) collects the error messages raised by the subclasses that failed import according to their style names.\n",
    "- __loaded_style_names__ (*list*) lists the style names of the successfully loaded subclasses.\n",
    "- __failed_style_names__ (*list*) lists the style names of the subclasses that failed import.\n",
    "- __check_styles()__ prints informative details about both the successfully and unsuccessfully loaded subclasses.\n",
    "- __assert_style(style)__ raises an error if the given style is not in loaded_style_names.\n"
   ]
  },
  {
   "cell_type": "code",
   "execution_count": 3,
   "id": "34cc47b2",
   "metadata": {},
   "outputs": [
    {
     "name": "stdout",
     "output_type": "stream",
     "text": [
      "Record styles that passed import:\n",
      "- FAQ: <class 'yabadaba.demo.FAQ.FAQ'>\n",
      "Record styles that failed import:\n",
      "- bad: <class 'NotImplementedError'>: BadRecord is meant to fail import!\n",
      "\n"
     ]
    }
   ],
   "source": [
    "recordmanager.check_styles()"
   ]
  },
  {
   "cell_type": "markdown",
   "id": "baf3cf65",
   "metadata": {},
   "source": [
    "## 3. Creating records\n",
    "\n",
    "Once a Record style has been added to the recordmanager, new record objects can be initialized using the load_record function.  Similar load_database and load_query methods exist for accessing the styles contained in the databasemanager and querymanager objects, respectively.\n",
    "\n",
    "Here, we'll create the same FAQ objects as the previous Notebook, but use load_record instead."
   ]
  },
  {
   "cell_type": "code",
   "execution_count": 4,
   "id": "4b12d5ad",
   "metadata": {},
   "outputs": [
    {
     "name": "stdout",
     "output_type": "stream",
     "text": [
      "FAQ record named faq\n",
      "FAQ record named woodchuck\n",
      "FAQ record named fuzzy\n",
      "FAQ record named define\n"
     ]
    }
   ],
   "source": [
    "records = []\n",
    "\n",
    "# Load the first three records from their JSON\n",
    "model = \"\"\"{\n",
    "    \"faq\": {\n",
    "        \"question\": \"What does a FAQ Record represent?\",\n",
    "        \"answer\": \"A frequently asked question and the corresponding answer.\"\n",
    "    }\n",
    "}\"\"\"\n",
    "records.append(load_record(style='FAQ', name='faq', model=model))\n",
    "\n",
    "model = \"\"\"{\n",
    "    \"faq\": {\n",
    "        \"question\": \"How much wood would a woodchuck chuck if a woodchuck could chuck wood?\",\n",
    "        \"answer\": \"A woodchuck would chuck as much wood as a woodchuck could chuck if a woodchuck could chuck wood.\"\n",
    "    }\n",
    "}\"\"\"\n",
    "records.append(load_record(style='FAQ', name='woodchuck', model=model))\n",
    "\n",
    "model = \"\"\"{\n",
    "    \"faq\": {\n",
    "        \"question\": \"Fuzzywuzzy was a bear. Fuzzywuzzy had no hair. So Fuzzywuzzy wasn't fuzzy, was he?\",\n",
    "        \"answer\": \"Nope.\"\n",
    "    }\n",
    "}\"\"\"\n",
    "records.append(load_record(style='FAQ', name='fuzzy', model=model))\n",
    "\n",
    "# Create the last record from parameters and build_model\n",
    "records.append(load_record(style='FAQ', name='define', \n",
    "                           question=\"Can I define a FAQ using parameters?\",\n",
    "                           answer=\"Yes, you can.\"))\n",
    "records[-1].build_model()\n",
    "\n",
    "for record in records:\n",
    "    print(record)"
   ]
  },
  {
   "cell_type": "markdown",
   "id": "1c8c2369",
   "metadata": {},
   "source": [
    "## 4. Interacting with databases\n",
    "\n",
    "Everything is now in place to interact with databases.  The Database classes are managed using the databasemanager in a fashion similar to how the recordmanager handles Records.  The main difference being that some Database styles are already defined meaning that you (hopefully) won't need to define your own Database classes.  \n",
    "\n",
    "### 4.1. Initializing databases\n",
    "\n",
    "Database objects are initialized by providing all of the necessary access parameters for the specific database.  As these vary between the different styles of databases, the allowed parameters also vary.  \n",
    "\n",
    "#### 4.1.1. Local database \n",
    "\n",
    "A local style Database exists as a local directory containing individual JSON and XML files, as well as csv cache files containing the compiled metadata associated with the hosted records.  The cache files greatly increase the speed of queries as it allows for parsing the records without reading and loading all of the individual files.  A local-style database is initialized with the following parameters\n",
    "\n",
    "- __host__ (*str*) The host name (local directory path) for the database.\n",
    "- __format__ (*str, optional*) The format that the model records are saved as.  Can be either JSON or XML.  Default value is JSON.\n",
    "- __indent__ (*int or None, optional*) The indentation used when saving the records.  If None (default) then the saved records are compact.  Otherwise, the lines in the file will be indented by multiples of this value based on the model's element recursion.  Compact records are smaller, while indented records are easier to read."
   ]
  },
  {
   "cell_type": "code",
   "execution_count": 5,
   "id": "2e9d61d7",
   "metadata": {},
   "outputs": [
    {
     "name": "stdout",
     "output_type": "stream",
     "text": [
      "database style local at C:\\Users\\lmh1\\Documents\\Python-packages\\yabadaba\\doc\\testdb\n"
     ]
    }
   ],
   "source": [
    "db = yabadaba.load_database(style='local', host='testdb')\n",
    "print(db)"
   ]
  },
  {
   "cell_type": "markdown",
   "id": "2a7745fb",
   "metadata": {},
   "source": [
    "#### 4.1.2. Mongo database \n",
    "\n",
    "A mongo style Database interacts with a MongoDB instance. The initialization parameters relate to the corresponding parameters of the pymongo.Mongoclient class as it is utilized by the Database class.\n",
    "\n",
    "- __host__ (*str*) The mongo host to connect to.  Default value is 'localhost'.\n",
    "- __port__ (*int*) Then port to use in connecting to the mongo host.  Default value is 27017.\n",
    "- __database__ (*str*) The name of the database in the mongo host to interact with. Default value is 'iprPy'\n",
    "- __\\*\\*kwargs__ (*dict, optional*) Any extra keyword arguments needed to initialize a pymongo.MongoClient object.\n",
    "\n",
    "#### 4.1.3. CDCS database\n",
    "\n",
    "A cdcs Database style interacts with a CDCS (Configurable Data Curation System) instance.  CDCS databases provide REST APIs meaning that the initialization parameters correspond to web requests permissions.\n",
    "\n",
    "- __host__ (*str*) The host name (url) for the database.\n",
    "- __username__ (*str or tuple of two str*) The username to use for accessing the database.  Alternatively, a tuple of (username, password).\n",
    "- __password__ (*str, optional*) The password associated with username to use for accessing the database. This can either be the password as a str, or a str path to a file containing only the password. If not given, a prompt will ask for the password.\n",
    "- __cert__ (*str, optional*) The path to a certification file if needed for accessing the database.\n",
    "- __verify__ (*bool, optional*) Indicates if verifications for the site are used"
   ]
  },
  {
   "cell_type": "markdown",
   "id": "fd7ec6aa",
   "metadata": {},
   "source": [
    "### 4.2. Interacting with records\n",
    "\n",
    "#### 4.2.1. Adding/updating records\n",
    "\n",
    "Records can be added/updated to a database using the add_record() and update_record() Database methods.  Many of the database operations in yabadaba work on the principle that all records of a given style should have unique names.  The two methods adhere to that according to the following operations\n",
    "- __add_record()__ will add a new record to the database as long as no similarly named record exists.  If a record with the same style and name is already in the database, then the method will throw an error.\n",
    "- __update_record()__ will update the contents of an existing record in the database.  If no record in the database has the matching name and style, then the method will throw an error.\n",
    "\n",
    "A combined add/update can easily be done with code that does try: add, except: update.\n",
    "\n",
    "Both methods take similar parameters\n",
    "\n",
    "- __record__ (*Record, optional*) The new record to add to the database.  If not given, then name, style and content are required.\n",
    "- __style__ (*str, optional*) The record style for the new record.  Required if record is not given.\n",
    "- __name__ (*str, optional*) The name to assign to the new record.  Required if record is not given.\n",
    "- __model__ (*str or DataModelDict, optional*) The model contents of the new record.  Required if record is not given.\n",
    "- __build__ (*bool, optional*) If True, then the uploaded content will be (re)built based on the record's attributes.  If False (default), then record's existing content will be loaded if it exists, or built if it doesn't exist.\n",
    "- __verbose__ (*bool, optional*) If True, info messages will be printed during operations.  Default value is False."
   ]
  },
  {
   "cell_type": "code",
   "execution_count": 6,
   "id": "fbbff299",
   "metadata": {},
   "outputs": [
    {
     "name": "stdout",
     "output_type": "stream",
     "text": [
      "FAQ record named faq added to C:\\Users\\lmh1\\Documents\\Python-packages\\yabadaba\\doc\\testdb\n",
      "FAQ record named woodchuck added to C:\\Users\\lmh1\\Documents\\Python-packages\\yabadaba\\doc\\testdb\n",
      "FAQ record named fuzzy added to C:\\Users\\lmh1\\Documents\\Python-packages\\yabadaba\\doc\\testdb\n",
      "FAQ record named define added to C:\\Users\\lmh1\\Documents\\Python-packages\\yabadaba\\doc\\testdb\n"
     ]
    }
   ],
   "source": [
    "for record in records:\n",
    "    db.add_record(record, verbose=True)"
   ]
  },
  {
   "cell_type": "markdown",
   "id": "c09a63f1",
   "metadata": {},
   "source": [
    "#### 4.2.2. Exploring records\n",
    "\n",
    "There are three related get methods that query the database for matching Records.\n",
    "\n",
    "- __get_records()__ returns a numpy.NDArray containing Record objects that match the query.\n",
    "- __get_record()__ returns a single Record object if exactly one matching record is found.  Otherwise it will issue an error.\n",
    "- __get_records_df()__ returns a pandas.DataFrame of Record metadata for all records that match the query.\n",
    "\n",
    "Parameters for the three methods are comparable\n",
    "        \n",
    "- __style__ (*str, optional*) The record style to search. If not given, a prompt will ask for it.\n",
    "- __return_df__ (*bool, optional*) Only accepted by get_records. If True, then the corresponding pandas.Dataframe of metadata will also be returned.\n",
    "- __\\*\\*kwargs__ (*any, optional*) Any extra options specific to the database style or metadata search parameters specific to the record style."
   ]
  },
  {
   "cell_type": "code",
   "execution_count": 7,
   "id": "8ee6a3fe",
   "metadata": {},
   "outputs": [
    {
     "data": {
      "text/html": [
       "<div>\n",
       "<style scoped>\n",
       "    .dataframe tbody tr th:only-of-type {\n",
       "        vertical-align: middle;\n",
       "    }\n",
       "\n",
       "    .dataframe tbody tr th {\n",
       "        vertical-align: top;\n",
       "    }\n",
       "\n",
       "    .dataframe thead th {\n",
       "        text-align: right;\n",
       "    }\n",
       "</style>\n",
       "<table border=\"1\" class=\"dataframe\">\n",
       "  <thead>\n",
       "    <tr style=\"text-align: right;\">\n",
       "      <th></th>\n",
       "      <th>name</th>\n",
       "      <th>question</th>\n",
       "      <th>answer</th>\n",
       "    </tr>\n",
       "  </thead>\n",
       "  <tbody>\n",
       "    <tr>\n",
       "      <th>0</th>\n",
       "      <td>define</td>\n",
       "      <td>Can I define a FAQ using parameters?</td>\n",
       "      <td>Yes, you can.</td>\n",
       "    </tr>\n",
       "    <tr>\n",
       "      <th>1</th>\n",
       "      <td>faq</td>\n",
       "      <td>What does a FAQ Record represent?</td>\n",
       "      <td>A frequently asked question and the correspond...</td>\n",
       "    </tr>\n",
       "    <tr>\n",
       "      <th>2</th>\n",
       "      <td>fuzzy</td>\n",
       "      <td>Fuzzywuzzy was a bear. Fuzzywuzzy had no hair....</td>\n",
       "      <td>Nope.</td>\n",
       "    </tr>\n",
       "    <tr>\n",
       "      <th>3</th>\n",
       "      <td>woodchuck</td>\n",
       "      <td>How much wood would a woodchuck chuck if a woo...</td>\n",
       "      <td>A woodchuck would chuck as much wood as a wood...</td>\n",
       "    </tr>\n",
       "  </tbody>\n",
       "</table>\n",
       "</div>"
      ],
      "text/plain": [
       "        name                                           question  \\\n",
       "0     define               Can I define a FAQ using parameters?   \n",
       "1        faq                  What does a FAQ Record represent?   \n",
       "2      fuzzy  Fuzzywuzzy was a bear. Fuzzywuzzy had no hair....   \n",
       "3  woodchuck  How much wood would a woodchuck chuck if a woo...   \n",
       "\n",
       "                                              answer  \n",
       "0                                      Yes, you can.  \n",
       "1  A frequently asked question and the correspond...  \n",
       "2                                              Nope.  \n",
       "3  A woodchuck would chuck as much wood as a wood...  "
      ]
     },
     "execution_count": 7,
     "metadata": {},
     "output_type": "execute_result"
    }
   ],
   "source": [
    "# Fetch all records\n",
    "db.get_records_df('FAQ')"
   ]
  },
  {
   "cell_type": "markdown",
   "id": "02eb9198",
   "metadata": {},
   "source": [
    "__NOTE for local-style Databases__: These methods use the csv cache files to speed up query operations.  The cache automatically checks for records that have been added or deleted, but not records that have been updated. If records have been updated, add refresh_cache=True when calling the methods to rebuild the cache for all records."
   ]
  },
  {
   "cell_type": "code",
   "execution_count": 8,
   "id": "e730335c",
   "metadata": {},
   "outputs": [
    {
     "data": {
      "text/html": [
       "<div>\n",
       "<style scoped>\n",
       "    .dataframe tbody tr th:only-of-type {\n",
       "        vertical-align: middle;\n",
       "    }\n",
       "\n",
       "    .dataframe tbody tr th {\n",
       "        vertical-align: top;\n",
       "    }\n",
       "\n",
       "    .dataframe thead th {\n",
       "        text-align: right;\n",
       "    }\n",
       "</style>\n",
       "<table border=\"1\" class=\"dataframe\">\n",
       "  <thead>\n",
       "    <tr style=\"text-align: right;\">\n",
       "      <th></th>\n",
       "      <th>name</th>\n",
       "      <th>question</th>\n",
       "      <th>answer</th>\n",
       "    </tr>\n",
       "  </thead>\n",
       "  <tbody>\n",
       "    <tr>\n",
       "      <th>0</th>\n",
       "      <td>define</td>\n",
       "      <td>Can I define a FAQ using parameters?</td>\n",
       "      <td>Yes, you can.</td>\n",
       "    </tr>\n",
       "    <tr>\n",
       "      <th>1</th>\n",
       "      <td>faq</td>\n",
       "      <td>What does a FAQ Record represent?</td>\n",
       "      <td>A frequently asked question and the correspond...</td>\n",
       "    </tr>\n",
       "    <tr>\n",
       "      <th>2</th>\n",
       "      <td>fuzzy</td>\n",
       "      <td>Fuzzywuzzy was a bear. Fuzzywuzzy had no hair....</td>\n",
       "      <td>Nope.</td>\n",
       "    </tr>\n",
       "    <tr>\n",
       "      <th>3</th>\n",
       "      <td>woodchuck</td>\n",
       "      <td>How much wood would a woodchuck chuck if a woo...</td>\n",
       "      <td>A woodchuck would chuck as much wood as a wood...</td>\n",
       "    </tr>\n",
       "  </tbody>\n",
       "</table>\n",
       "</div>"
      ],
      "text/plain": [
       "        name                                           question  \\\n",
       "0     define               Can I define a FAQ using parameters?   \n",
       "1        faq                  What does a FAQ Record represent?   \n",
       "2      fuzzy  Fuzzywuzzy was a bear. Fuzzywuzzy had no hair....   \n",
       "3  woodchuck  How much wood would a woodchuck chuck if a woo...   \n",
       "\n",
       "                                              answer  \n",
       "0                                      Yes, you can.  \n",
       "1  A frequently asked question and the correspond...  \n",
       "2                                              Nope.  \n",
       "3  A woodchuck would chuck as much wood as a wood...  "
      ]
     },
     "execution_count": 8,
     "metadata": {},
     "output_type": "execute_result"
    }
   ],
   "source": [
    "# Fetch all records\n",
    "db.get_records_df('FAQ', refresh_cache=True)"
   ]
  },
  {
   "cell_type": "markdown",
   "id": "e1d889bf",
   "metadata": {},
   "source": [
    "Additionally, there is one convenience method, __retrieve_record()__, which gets a matching record from the database and saves it to a local file all at once.  This can be used to easily fetch and save a record so that external software can interact with it.\n",
    "    \n",
    "- __style__ (*str, optional*) The record style to search. If not given, a prompt will ask for it.\n",
    "- __dest__ (*path, optional*) The parent directory where the record will be saved to.  If not given, will use the current working directory.\n",
    "- __format__ (*str, optional*) The file format to save the record in: 'json' or 'xml'.  Default is 'json'.\n",
    "- __indent__ (*int, optional*) The number of space indentation spacings to use in the saved record for the different tiered levels.  Default is 4.  Giving None will create a compact record.\n",
    "- __verbose__ (*bool, optional*) If True, info messages will be printed during operations.  Default value is False.\n",
    "- __\\*\\*kwargs__ (*any, optional*) Any extra options specific to the database style or metadata search parameters specific to the record style."
   ]
  },
  {
   "cell_type": "markdown",
   "id": "ca83bc6f",
   "metadata": {},
   "source": [
    "#### 4.2.3. Deleting records\n",
    "\n",
    "The __delete_record()__ method will delete a single record.  The method's parameters make it possible to specify which record to delete.\n",
    "\n",
    "- __record__ (*Record, optional*) The record to delete from the database.  If not given, name and/or style are needed to uniquely define the record to delete.\n",
    "- __style__ (*str, optional*) The style of the record to delete.\n",
    "- __name__ (*str, optional*) The name of the record to delete.\n",
    "\n",
    "Also, check out the destroy_records() method listed in section 4.4 below.\n"
   ]
  },
  {
   "cell_type": "code",
   "execution_count": 9,
   "id": "f46693ee",
   "metadata": {},
   "outputs": [
    {
     "data": {
      "text/html": [
       "<div>\n",
       "<style scoped>\n",
       "    .dataframe tbody tr th:only-of-type {\n",
       "        vertical-align: middle;\n",
       "    }\n",
       "\n",
       "    .dataframe tbody tr th {\n",
       "        vertical-align: top;\n",
       "    }\n",
       "\n",
       "    .dataframe thead th {\n",
       "        text-align: right;\n",
       "    }\n",
       "</style>\n",
       "<table border=\"1\" class=\"dataframe\">\n",
       "  <thead>\n",
       "    <tr style=\"text-align: right;\">\n",
       "      <th></th>\n",
       "      <th>name</th>\n",
       "      <th>question</th>\n",
       "      <th>answer</th>\n",
       "    </tr>\n",
       "  </thead>\n",
       "  <tbody>\n",
       "    <tr>\n",
       "      <th>0</th>\n",
       "      <td>define</td>\n",
       "      <td>Can I define a FAQ using parameters?</td>\n",
       "      <td>Yes, you can.</td>\n",
       "    </tr>\n",
       "    <tr>\n",
       "      <th>1</th>\n",
       "      <td>faq</td>\n",
       "      <td>What does a FAQ Record represent?</td>\n",
       "      <td>A frequently asked question and the correspond...</td>\n",
       "    </tr>\n",
       "    <tr>\n",
       "      <th>2</th>\n",
       "      <td>woodchuck</td>\n",
       "      <td>How much wood would a woodchuck chuck if a woo...</td>\n",
       "      <td>A woodchuck would chuck as much wood as a wood...</td>\n",
       "    </tr>\n",
       "  </tbody>\n",
       "</table>\n",
       "</div>"
      ],
      "text/plain": [
       "        name                                           question  \\\n",
       "0     define               Can I define a FAQ using parameters?   \n",
       "1        faq                  What does a FAQ Record represent?   \n",
       "2  woodchuck  How much wood would a woodchuck chuck if a woo...   \n",
       "\n",
       "                                              answer  \n",
       "0                                      Yes, you can.  \n",
       "1  A frequently asked question and the correspond...  \n",
       "2  A woodchuck would chuck as much wood as a wood...  "
      ]
     },
     "execution_count": 9,
     "metadata": {},
     "output_type": "execute_result"
    }
   ],
   "source": [
    "db.delete_record(style='FAQ', name='fuzzy')\n",
    "db.get_records_df('FAQ')"
   ]
  },
  {
   "cell_type": "markdown",
   "id": "196e8823",
   "metadata": {},
   "source": [
    "### 4.3. Interacting with non-record files\n",
    "\n",
    "The Database classes also have methods that allow for other files to be uploaded to the various databases.  \n",
    "\n",
    "#### 4.3.1. Tarballs of supporting files\n",
    "\n",
    "The primary use of file uploads in yabadaba is to provide supporting files that are associated with individual record entries.  Every record entry in the database can have a corresponding folder of files associated with it.  These are primarily stored in the databases as tar.gz tarballs.\n",
    "\n",
    "- __get_tar()__ Retrives the tar archive associated with a record in the database.\n",
    "    - __record__ (*Record, optional*) The record to retrive the associated tar archive for.\n",
    "    - __style__ (*str, optional*) The style to use in uniquely identifying the record.\n",
    "    - __name__ (*str, optional*) The name to use in uniquely identifying the record.\n",
    "    - __raw__ (*bool, optional*) If True, return the archive as raw binary content. If False, return as an open tarfile. (Default is False).\n",
    "- __add_tar()__ Archives and stores a folder associated with a record.\n",
    "    - __record__ (*Record, optional*) The record to associate the tar archive with.  If not given, then name and/or style necessary to uniquely identify the record are needed.\n",
    "    - __style__ (*str, optional*) The style to use in uniquely identifying the record.\n",
    "    - __name__ (*str, optional*) The name to use in uniquely identifying the record.\n",
    "    - __tar__ (*bytes, optional*) The bytes content of a tar file to save.  tar cannot be given with root_dir.\n",
    "    - __root_dir__ (*str, optional*) Specifies the root directory for finding the directory to archive. The directory to archive is at \\<root_dir\\>/\\<name\\>. (Default is to set root_dir to the current working directory.) tar cannot be given with root_dir.\n",
    "- __update_tar()__ Replaces an existing tar archive for a record with a new one.\n",
    "    - __record__ (*Record, optional*) The record to associate the tar archive with.  If not given, then name and/or style necessary to uniquely identify the record are needed.\n",
    "    - __style__ (*str, optional*) The style to use in uniquely identifying the record.\n",
    "    - __name__ (*str, optional*) The name to use in uniquely identifying the record.\n",
    "    - __tar__ (*bytes, optional*) The bytes content of a tar file to save.  tar cannot be given with root_dir.\n",
    "    - __root_dir__ (*str, optional*) Specifies the root directory for finding the directory to archive. The directory to archive is at \\<root_dir\\>/\\<name\\>.  (Default is to set root_dir to the current working directory.)  tar cannot be given with root_dir.\n",
    "- __delete_tar()__ Deletes a tar file from the database.\n",
    "    - __record__ (*Record, optional*) The record associated with the tar archive to delete.  If not given, then name and/or style necessary to uniquely identify the record are needed.\n",
    "    - __style__ (*str, optional*) The style to use in uniquely identifying the record.\n",
    "    - __name__ (*str, optional*) The name to use in uniquely identifying the record.\n",
    "\n",
    "#### 4.3.2. Folders of supporting files\n",
    "\n",
    "The local-style Databases alternatively allow for the record-specific supporting files to be stored in normal directories. Doing so allows for the contained files to be directly explored without extracting them.  Note that the use of the folders is alternative to the tars and both should not be used simultaneously for any record.\n",
    "\n",
    "- __get_folder()__ Retrives the location of the folder associated with a record in the database. \n",
    "    - __record__ (*Record, optional*) The record to retrive the associated folder location for.\n",
    "    - __name__ (*str, optional*) The name to use in uniquely identifying the record.\n",
    "    - __style__ (*str, optional*) The style to use in uniquely identifying the record.\n",
    "- __add_folder()__ Stores a folder associated with a record.\n",
    "    - __record__ (*Record, optional*) The record to associate the folder with.  If not given, then name and/or style necessary to uniquely identify the record are needed.\n",
    "    - __name__ (*str, optional*) The name to use in uniquely identifying the record.\n",
    "    - __style__ (*str, optional*) The style to use in uniquely identifying the record.\n",
    "    - __filenames__ (*str or list, optional*) The paths to files that are to be added to the record's folder. Cannot be given with root_dir.\n",
    "    - __root_dir__ (*str, optional*) Specifies the root directory for finding the folder to add. The directory to add is at \\<root_dir\\>/\\<name\\>.  (Default is to set root_dir to the current working directory.)  Cannot be given with filenames.\n",
    "- __update_folder()__ Updates an existing folder for a record.\n",
    "    - __record__ (*Record, optional*) The record to associate the folder with.  If not given, then name and/or style necessary to uniquely identify the record are needed.\n",
    "    - __name__ (*str, optional*) The name to use in uniquely identifying the record.\n",
    "    - __style__ (*str, optional*) The style to use in uniquely identifying the record.\n",
    "    - __filenames__ (*str or list, optional*) The paths to files that are to be added to the record's folder. Cannot be given with root_dir.\n",
    "    - __root_dir__ (*str, optional*) Specifies the root directory for finding the folder to add. The directory to add is at \\<root_dir\\>/\\<name\\>.  (Default is to set root_dir to the current working directory.)  Cannot be given with filenames.\n",
    "    - __clear__ (*bool, optional*) If True (default), then the current folder contents will be deleted before the new contents are added.  If False, existing files may remain if the new content does not overwrite it.\n",
    "- __delete_folder()__ Deletes a folder from the database.\n",
    "    - __record__ (*Record, optional*) The record associated with the folder to delete.  If not given, then name and/or style necessary to uniquely identify the record are needed.\n",
    "    - __name__ (*str, optional*) The name to use in uniquely identifying the record.\n",
    "    - __style__ (*str, optional*) The style to use in uniquely identifying the record.\n",
    "\n",
    "#### 4.3.3. Loose files\n",
    "\n",
    "Currently, there are no methods built into yabadaba that allow for files unassociated with records to be uploaded to the various databases.  The underlying database infrastructures that yabadaba supports allows for this, so options to interact with individual files may be added later.  If this is important for you, email potentials@nist.gov and implementing these methods will be made a higher priority."
   ]
  },
  {
   "cell_type": "markdown",
   "id": "953801a8",
   "metadata": {},
   "source": [
    "### 4.4. Other utility methods\n",
    "\n",
    "The Database class also defines additional methods that perform more complex convenience operations.\n",
    "\n",
    "#### 4.4.1. copy_records()\n",
    "\n",
    "Copies records from the current database to another database.\n",
    "\n",
    "- __dest__ (*Database*) The destination database to copy records to.\n",
    "- __record_style__ (*str, optional*) The record style to copy.  If record_style and records not given, then the available record styles will be listed and the user prompted to pick one.  Cannot be given with records.\n",
    "- __records__ (*list, optional*) A list of Record obejcts from the current database to copy to dbase2.  Allows the user full control on which records to copy/update.  Cannot be given with record_style.\n",
    "- __includetar__ (*bool, optional*) If True, the tar archives will be copied along with the records. If False, only the records will be copied. (Default is True).\n",
    "- __overwrite__ (*bool, optional*) If False (default) only new records and tars will be copied. If True, all existing content will be updated.\n",
    "\n",
    "#### 4.4.2. destroy_records()\n",
    "\n",
    "Permanently deletes multiple records and their associated tars all at once.\n",
    "        \n",
    "- __record_style__ (*str, optional*) The record style to delete.  If given, all records of that style will be deleted. If neither record_style nor records given, then the available record styles will be listed and the user prompted to pick one.\n",
    "- __records__ (*list, optional*) A list of pre-selected records to delete. "
   ]
  },
  {
   "cell_type": "code",
   "execution_count": 10,
   "id": "6e9b66e5",
   "metadata": {},
   "outputs": [
    {
     "name": "stdout",
     "output_type": "stream",
     "text": [
      "3 records found to be destroyed\n",
      "Delete records? (must type yes): yes\n"
     ]
    },
    {
     "name": "stderr",
     "output_type": "stream",
     "text": [
      "destroying records: 100%|##############################################################| 3/3 [00:00<00:00, 1499.57it/s]"
     ]
    },
    {
     "name": "stdout",
     "output_type": "stream",
     "text": [
      "3 records successfully deleted\n"
     ]
    },
    {
     "name": "stderr",
     "output_type": "stream",
     "text": [
      "\n"
     ]
    }
   ],
   "source": [
    "db.destroy_records('FAQ')"
   ]
  },
  {
   "cell_type": "markdown",
   "id": "31baa45c",
   "metadata": {},
   "source": [
    " "
   ]
  }
 ],
 "metadata": {
  "kernelspec": {
   "display_name": "Python 3 (ipykernel)",
   "language": "python",
   "name": "python3"
  },
  "language_info": {
   "codemirror_mode": {
    "name": "ipython",
    "version": 3
   },
   "file_extension": ".py",
   "mimetype": "text/x-python",
   "name": "python",
   "nbconvert_exporter": "python",
   "pygments_lexer": "ipython3",
   "version": "3.7.13"
  }
 },
 "nbformat": 4,
 "nbformat_minor": 5
}
