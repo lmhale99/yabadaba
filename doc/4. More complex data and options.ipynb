{
 "cells": [
  {
   "cell_type": "markdown",
   "id": "3b3ddb86-2989-4c91-aa26-48f4eed5e680",
   "metadata": {},
   "source": [
    "# Introduction to yabadaba: More complex Record details\n",
    "\n",
    "This Notebook provides explanations and an example of a Record class for more complex data."
   ]
  },
  {
   "cell_type": "code",
   "execution_count": 1,
   "id": "524484f1-852f-4a45-b671-4bdbb1b06560",
   "metadata": {},
   "outputs": [
    {
     "name": "stdout",
     "output_type": "stream",
     "text": [
      "yabadaba version = 0.3.0\n",
      "Notebook executed on 2025-02-13\n"
     ]
    }
   ],
   "source": [
    "# Standard Python libraries\n",
    "import datetime\n",
    "\n",
    "# Import the main yabadaba package\n",
    "import yabadaba\n",
    "\n",
    "# Import the yabadaba_demo package that defines the Records to use\n",
    "import yabadaba_demo\n",
    "\n",
    "# Show yabadaba version\n",
    "print('yabadaba version =', yabadaba.__version__)\n",
    "\n",
    "# Show date of Notebook execution\n",
    "print('Notebook executed on', datetime.date.today())"
   ]
  },
  {
   "cell_type": "markdown",
   "id": "25372746-4ea2-4040-9892-9599e6aa6a63",
   "metadata": {},
   "source": [
    "## 1. Value types\n",
    "\n",
    "The Value objects define what data elements are present in the full data schema and how those data elements are to be interacted with and transformed. Each value object can be associated with a singular data value or multiple values either as a list or in a more complex representation.\n",
    "\n",
    "### 1.1. Built-in Value classes\n",
    "\n",
    "The yabadaba package includes definitions for Value classes that encompass the basic data types.  These are immediately accessible to the Record._add_value() method by specifying the corresponding Value style.\n",
    "\n",
    "List of the built-in Value styles included in yabadaba\n",
    "\n",
    "- __'str'__ is for string values, typically ones that are short or have a limited number of allowed values.  When setting, the given value is automatically converted into a str. The default query is 'str_match', which returns True if the value exactly matches one of the given target values.   \n",
    "- __'longstr'__ is for string values, typically ones that are longer or not restricted.  When setting, the given value is automatically converted into a str. The default query is 'str_contains', which returns True if the value contains one of the given target values.\n",
    "- __'strlist'__ is for a list of string values. When setting, the given value will be converted into a list if needed, and all values within the list will be converted into strs.   The default query is 'list_contains', which returns True if the value contains one of the given target values.\n",
    "- __'bool'__ is for boolean values. When setting, the value can be given as a bool or as a str that when converted to lowercase matches with 't', 'f', 'true', or 'false'.  The default query is 'bool_match', which returns True if the value matches a given target value.\n",
    "- __'int'__ is for int values.  When setting, the given value is automatically converted into an int if possible. The default query is 'int_match', which returns True if the value exactly matches one of the given target values.   \n",
    "- __'float'__  is for float values.  This has an additional 'unit' parameter associated with it that allows for automatic unit conversions when loading and saving. When setting, the given value is automatically converted into a float if possible and any unit conversions are performed. The default query is 'float_match', which returns True if the value exactly matches one of the given target values.\n",
    "- __'date'__ is for date values. When setting, the given value is converted into a datetime.date() object if needed and possible. When the data model representation of the record is generated, the date is converted into a str of format 'YYYY-MM-DD'. The default query is 'date_match' which returns True if the value exactly matches one of the given target values expressed in the 'YYYY-MM-DD' format.\n",
    "- __'month'__ is for month values.  When setting, the provided value can be given as an int from 1-12, the full month name, or the first three letters of the month name.  The default query is 'month_match', which returns True if the value matches one of the given target values expressed as month number ints.\n",
    "- __'floatarray'__ is for numpy arrays of floats.  This has an additional 'unit' parameter associated with it that allows for automatic conversions of all values when loading and saving. When setting, the given value can be anything interpretable by numpy.asarray or a str representation of the array with optional units. The array value can be of any shape and dimensions supported by numpy.  There is no default query.\n",
    "- __'record'__ is a special style that allows for Record classes to be used as values within other Record classes.  The value itself is a list of record objects, making this most suitable for the case where the higher level record contains multiple entries of the subrecord.  By default, all queries of the subrecord are automatically inherited by the higher level record.\n",
    "- __'base'__ uses the base Value class which should work with any simple data type but provides no interpretation or default queries. This is left accessible as it could potentially be useful for testing and development, but is not recommended for normal use.\n",
    "\n",
    "### 1.2. Defining custom Value classes\n",
    "\n",
    "New Value classes can be easily defined if the built-in values don't adequately support your data.  The general steps for doing this closely parallels how new records are defined in your yabadaba-based package:\n",
    "\n",
    "1. Add new Value class definitions to your package.  The general recommendation is to collect and Value class definitions in a 'value' subfolder, but this is not required.\n",
    "2. import valuemanager from yabadaba in the parent/root module, i.e. the \\_\\_init\\_\\_.py file.\n",
    "3. Use valuemanager.import_style() to dynamically import each new value and integrate it into yabadaba.\n",
    "\n",
    "When defining new Value classes, you should inherit from yabadaba.value.Value. The parent Value class manages most of the interactions between value objects. For most new Value subclasses, the only functions and attributes that should be overriden are those listed below centered around data transformations and querying: \n",
    "\n",
    "- __set_value_mod()__ specifies any data type checks or transformations to perform when a value is being set.  This function takes the \"raw\" value and returns the processed one. \n",
    "- __build_model_value()__ specifies how to transform the value for inclusion in the record's model representation.  \n",
    "- __load_model_value()__ specifies how to interpret the value from the record's model representation.  Note that during loading, the value is set meaning that set_value_mod() will be called after this.\n",
    "- __metadata_value()__ specifies how to transform the value for inclusion in the record's metadata representation.\n",
    "- __\\_default_queries__ is a @property that defines a dict containing Query objects for the Value.  Note that you will probably need to define a new Query class for properly interacting with the model and metadata representations.\n",
    "\n",
    "It is possible to override more fundamental methods for more complex Value handling. If you need to modify the following methods, be sure to copy from or call the corresponding parent method to avoid breaking any important functional components.  \n",
    "\n",
    "- __\\_\\_init\\_\\_()__ creates a new Value object.  Overriding this is typically only done to add any new Value-class-specific keyword parameters.\n",
    "- __build_model()__ specifies how to insert the value's build_model_value() into the record's model representation.\n",
    "- __load_model()__ specifies how to locate the content in the record's model representation that should be interpreted by load_model_value().\n",
    "- __metadata()__ specifies what fields are added to the record's metadata representation for the value.  By default, this creates a single entry named for the metadata key with the metadata_value().  Modifying this allows for multiple fields or no fields to be generated instead.\n"
   ]
  },
  {
   "cell_type": "markdown",
   "id": "308c36ae-5dd2-404f-b4fb-790b8b797f91",
   "metadata": {},
   "source": [
    "## 2. Example: Album record\n",
    "\n",
    "The yabadaba_demo example package defines an 'album' record style that demonstrates a variety of the value options listed above."
   ]
  },
  {
   "cell_type": "markdown",
   "id": "fab5dc42-22bd-41cb-b0af-b0685b4ee5b8",
   "metadata": {},
   "source": [
    "### 2.1 Record definitions\n",
    "\n",
    "The code in yabadaba_demo/record/album/Album.py contains definitions for two Record subclasses: Album and Track.  The Album class represents an album, which may contain multiple tracks represented by Track objects. \n",
    "\n",
    "(I'm aware that the real metadata is organized differently and almost exclusively assigns everything at the Track level.  The purpose of this is to provide a conceptual demonstration, not a fully fledged schema.)   \n",
    "\n",
    "The code found in this file is shown below.\n",
    "\n",
    "```Python\n",
    "from yabadaba.record import Record\n",
    "\n",
    "import pandas as pd\n",
    "class Track(Record):\n",
    "\n",
    "    ########################## Basic metadata fields ##########################\n",
    "\n",
    "    @property\n",
    "    def style(self):\n",
    "        \"\"\"str: The record style\"\"\"\n",
    "        return 'track'\n",
    "\n",
    "    @property\n",
    "    def modelroot(self):\n",
    "        \"\"\"str: The root element of the content\"\"\"\n",
    "        return 'track'\n",
    "    \n",
    "    ############################# Define Values  ##############################\n",
    "\n",
    "    def _init_values(self):\n",
    "        \"\"\"\n",
    "        Method that defines the value objects for the Record.  This should\n",
    "        call the super of this method, then use self._add_value to create new Value objects.\n",
    "        Note that the order values are defined matters\n",
    "        when build_model is called!!!\n",
    "        \"\"\"\n",
    "        self._add_value('str', 'title', description='track title')\n",
    "        self._add_value('int', 'number', description='track number')\n",
    "        self._add_value('time_delta', 'duration')\n",
    "        self._add_value('longstr', 'lyrics')\n",
    "\n",
    "class Album(Record):\n",
    "    \"\"\"\n",
    "    Class for representing a music album.\n",
    "    \"\"\"\n",
    "\n",
    "    ########################## Basic metadata fields ##########################\n",
    "\n",
    "    @property\n",
    "    def style(self):\n",
    "        \"\"\"str: The record style\"\"\"\n",
    "        return 'album'\n",
    "\n",
    "    @property\n",
    "    def modelroot(self):\n",
    "        \"\"\"str: The root element of the content\"\"\"\n",
    "        return 'album'\n",
    "    \n",
    "\n",
    "    ############################# Define Values  ##############################\n",
    "\n",
    "    def _init_values(self):\n",
    "        \"\"\"\n",
    "        Method that defines the value objects for the Record.  This should\n",
    "        call the super of this method, then use self._add_value to create new Value objects.\n",
    "        Note that the order values are defined matters\n",
    "        when build_model is called!!!\n",
    "        \"\"\"\n",
    "        self._add_value('longstr', 'artist', description='artist name')\n",
    "        self._add_value('str', 'producer', description='producer name')\n",
    "        self._add_value('str', 'album', description='album title')\n",
    "        self._add_value('date', 'releasedate', description='release date')\n",
    "        self._add_value('strlist', 'genre')\n",
    "\n",
    "        self._add_value('record', 'tracks', recordclass=Track, description='List of album tracks')\n",
    "\n",
    "        # Modify tracks queries\n",
    "        self.get_value('tracks').queries.pop('number')\n",
    "        \n",
    "    def add_track(self, **kwargs):\n",
    "        \"\"\"Adds a new track to the tracks list\"\"\"\n",
    "        self.get_value('tracks').append(**kwargs)\n",
    "\n",
    "    def tracks_metadata(self) -> pd.DataFrame:\n",
    "        \"\"\"Compiles the tracks metadata for this album into a pandas.DataFrame\"\"\"\n",
    "        df = []\n",
    "        for track in self.tracks:\n",
    "            df.append(track.metadata())\n",
    "        df = pd.DataFrame(df)\n",
    "        return df\n",
    "```\n",
    "\n",
    "A few things to note in the above code:\n",
    "\n",
    "- As they are right now, the two Record class definitions largely consist of the style and modelroot attributes and the _init_values() method.\n",
    "- The \"tracks\" value in the Record class is of style 'record' and specifies the recordclass.\n",
    "- The get_value() method retrieves the value object by name allowing for interactions with the object's methods and attributes beyond simply the stored value.\n",
    "- In Album's _init_values, the queries dict of tracks is modified by deleting the query for track number. Otherwise, all queries for values defined in the Track record will be automatically included in the queries for Album.\n",
    "- A couple of additional methods have been added in support of the tracks value: add_track() builds a new Track object and appends it to the tracks list and tracks_metadata() generates a pandas.DataFrame of the tracks content. While methods like this are not required, they do tend to be convenient for working with 'record' style values.\n",
    "- The Track value 'duration' is of style 'time_delta' which is not in the built-in Value classes.   "
   ]
  },
  {
   "cell_type": "markdown",
   "id": "14e7c931-d060-4544-988a-07d3f3c1b627",
   "metadata": {},
   "source": [
    "### 2.2. Value definition\n",
    "\n",
    "As to the last bullet point above, the 'time_delta' value style is defined by a TimeDeltaValue class found in yabadaba_demo/value/TimeDeltaValue.py.  This is included for interpreting non-absolute time segments and properly converting them between datetime.timedelta objects and their str representations.\n",
    "\n",
    "The code is shown below, which overrides only the set_value_mod() and build_model_value() methods:\n",
    "\n",
    "```python\n",
    "from datetime import timedelta\n",
    "\n",
    "from yabadaba.value import Value\n",
    "import pandas as pd\n",
    "\n",
    "class TimeDeltaValue(Value):\n",
    "    \"\"\"Value object for time segments\"\"\"\n",
    "\n",
    "    def set_value_mod(self, val):\n",
    "        \n",
    "        # Check if value is in #text\n",
    "        val = self.set_value_mod_textfield(val)\n",
    "        \n",
    "        if val is None:\n",
    "            return None\n",
    "        elif not isinstance(val, timedelta):\n",
    "            val = pd.to_timedelta(val)\n",
    "        return val\n",
    "\n",
    "    def build_model_value(self):\n",
    "        return str(self.value)\n",
    "```"
   ]
  },
  {
   "cell_type": "markdown",
   "id": "0d219cca-38de-4fa9-a056-e967c4d4b564",
   "metadata": {},
   "source": [
    "### 2.3. Integrating the new Value and Record classes into yabadaba\n",
    "\n",
    "The final step (besides debugging) is to integrate the new Value and Record classes into yabadaba using yabadaba's valuemanager and recordmanager, respectively.  This can be seen in yabadaba_demo/value/\\_\\_init\\_\\_.py and yabadaba_demo/record/\\_\\_init\\_\\_.py.\n",
    "\n",
    "In yabadaba_demo/value/\\_\\_init\\_\\_.py:\n",
    "\n",
    "```python\n",
    "# Import valuemanager\n",
    "from yabadaba import valuemanager\n",
    "\n",
    "# from .TimeDeltaValue import TimeDeltaValue as the 'time_delta' value style\n",
    "valuemanager.import_style('time_delta', '.TimeDeltaValue', __name__)\n",
    "```\n",
    "\n",
    "In yabadaba_demo/record/\\_\\_init\\_\\_.py:\n",
    "\n",
    "```python\n",
    "# Import recordmanager\n",
    "from yabadaba import recordmanager\n",
    "\n",
    "# Manually install records to recordmanager\n",
    "\n",
    "# from .FAQ import FAQ as the 'FAQ' record style\n",
    "recordmanager.import_style('FAQ', '.FAQ', __name__, 'FAQ')\n",
    "\n",
    "# from .album import Album as the 'album' record style\n",
    "recordmanager.import_style('album', '.album', __name__, 'Album')\n",
    "\n",
    "# from .bad_record import BadRecord as the 'bad_record' style - which will be caught as an error\n",
    "recordmanager.import_style('bad_record', '.bad_record', __name__, 'BadRecord')\n",
    "```\n",
    "\n",
    "And finally, in yabadaba_demo/\\_\\_init\\_\\_.py:\n",
    "\n",
    "```python\n",
    "from . import value\n",
    "from . import record\n",
    "```"
   ]
  },
  {
   "cell_type": "markdown",
   "id": "3a95ae2f-7751-4e40-952a-f18881a0bdf9",
   "metadata": {},
   "source": [
    "### 2.4. Demonstrate Album in action"
   ]
  },
  {
   "cell_type": "markdown",
   "id": "04336385-bd19-4378-94cf-937ce504aee3",
   "metadata": {},
   "source": [
    "Check yabadaba modules for 'album' record style and 'time_delta' value style"
   ]
  },
  {
   "cell_type": "code",
   "execution_count": 2,
   "id": "ec4f37a0-843d-4fea-bac2-a1242cc1eeb4",
   "metadata": {},
   "outputs": [
    {
     "name": "stdout",
     "output_type": "stream",
     "text": [
      "Database styles that passed import:\n",
      "- local: <class 'yabadaba.database.LocalDatabase.LocalDatabase'>\n",
      "- mongo: <class 'yabadaba.database.MongoDatabase.MongoDatabase'>\n",
      "- cdcs: <class 'yabadaba.database.CDCSDatabase.CDCSDatabase'>\n",
      "Database styles that failed import:\n",
      "\n",
      "\n",
      "Record styles that passed import:\n",
      "- FAQ: <class 'yabadaba_demo.record.FAQ.FAQ'>\n",
      "- album: <class 'yabadaba_demo.record.album.Album.Album'>\n",
      "Record styles that failed import:\n",
      "- bad_record: <class 'ModuleNotFoundError'>: No module named 'package_that_does_not_exist'\n",
      "\n",
      "\n",
      "Query styles that passed import:\n",
      "- bool_match: <class 'yabadaba.query.BoolMatchQuery.BoolMatchQuery'>\n",
      "- str_contains: <class 'yabadaba.query.StrContainsQuery.StrContainsQuery'>\n",
      "- str_match: <class 'yabadaba.query.StrMatchQuery.StrMatchQuery'>\n",
      "- list_contains: <class 'yabadaba.query.ListContainsQuery.ListContainsQuery'>\n",
      "- int_match: <class 'yabadaba.query.IntMatchQuery.IntMatchQuery'>\n",
      "- float_match: <class 'yabadaba.query.FloatMatchQuery.FloatMatchQuery'>\n",
      "- date_match: <class 'yabadaba.query.DateMatchQuery.DateMatchQuery'>\n",
      "- month_match: <class 'yabadaba.query.MonthMatchQuery.MonthMatchQuery'>\n",
      "- dummy: <class 'yabadaba.query.DummyQuery.DummyQuery'>\n",
      "Query styles that failed import:\n",
      "\n",
      "\n",
      "Value styles that passed import:\n",
      "- base: <class 'yabadaba.value.Value.Value'>\n",
      "- str: <class 'yabadaba.value.StrValue.StrValue'>\n",
      "- strlist: <class 'yabadaba.value.StrListValue.StrListValue'>\n",
      "- longstr: <class 'yabadaba.value.LongStrValue.LongStrValue'>\n",
      "- float: <class 'yabadaba.value.FloatValue.FloatValue'>\n",
      "- int: <class 'yabadaba.value.IntValue.IntValue'>\n",
      "- bool: <class 'yabadaba.value.BoolValue.BoolValue'>\n",
      "- date: <class 'yabadaba.value.DateValue.DateValue'>\n",
      "- month: <class 'yabadaba.value.MonthValue.MonthValue'>\n",
      "- floatarray: <class 'yabadaba.value.FloatArrayValue.FloatArrayValue'>\n",
      "- record: <class 'yabadaba.record.RecordValue.RecordValue'>\n",
      "- time_delta: <class 'yabadaba_demo.value.TimeDeltaValue.TimeDeltaValue'>\n",
      "Value styles that failed import:\n",
      "\n",
      "\n"
     ]
    }
   ],
   "source": [
    "yabadaba.check_modules()"
   ]
  },
  {
   "cell_type": "markdown",
   "id": "be44550a-8388-4cb3-871b-fa8bfc163e5d",
   "metadata": {},
   "source": [
    "Define an album with the common metadata, and add tracks with the add_track() method"
   ]
  },
  {
   "cell_type": "code",
   "execution_count": 3,
   "id": "b5d060f8-2c6f-417b-9887-ca208c4c930d",
   "metadata": {},
   "outputs": [],
   "source": [
    "album = yabadaba.load_record('album',\n",
    "                             artist='Mad Season', \n",
    "                             album='Above',\n",
    "                             releasedate='1995-03-14')\n",
    "\n",
    "album.add_track(number=1, title='Wake Up', duration='00:07:37')\n",
    "album.add_track(number=2, title='X-Ray Mind', duration='00:05:12')\n",
    "album.add_track(number=3, title='River of Deceit', duration='00:05:03')\n",
    "album.add_track(number=4, title=\"I'm Above\", duration='00:05:45')\n",
    "album.add_track(number=5, title='ARtificial Red', duration='00:06:16')\n",
    "album.add_track(number=6, title='Lifeless Dead', duration='00:04:27')\n",
    "album.add_track(number=7, title=\"I Don't Know Anything\", duration='00:05:00')\n",
    "album.add_track(number=8, title='Long Gone Day', duration='00:04:50')\n",
    "album.add_track(number=9, title='November Hotel', duration='00:07:06')\n",
    "album.add_track(number=10, title='All Alone', duration='00:04:13')"
   ]
  },
  {
   "cell_type": "markdown",
   "id": "cdb91c2a-7797-460f-b772-8af33ff4a01f",
   "metadata": {},
   "source": [
    "Note that releasedate is automatically transformed from a str into a datetime.date object, and similarly all track durations are transformed into datetime.timedelta objects"
   ]
  },
  {
   "cell_type": "code",
   "execution_count": 4,
   "id": "2dbdd917-4c4a-460c-9d33-9bf18d0c633b",
   "metadata": {},
   "outputs": [
    {
     "data": {
      "text/plain": [
       "datetime.date(1995, 3, 14)"
      ]
     },
     "execution_count": 4,
     "metadata": {},
     "output_type": "execute_result"
    }
   ],
   "source": [
    "album.releasedate"
   ]
  },
  {
   "cell_type": "code",
   "execution_count": 5,
   "id": "98554568-811d-4fb4-8cce-d679c524b6b3",
   "metadata": {},
   "outputs": [
    {
     "data": {
      "text/plain": [
       "Timedelta('0 days 00:07:37')"
      ]
     },
     "execution_count": 5,
     "metadata": {},
     "output_type": "execute_result"
    }
   ],
   "source": [
    "album.tracks[0].duration"
   ]
  },
  {
   "cell_type": "markdown",
   "id": "d3ac0a90-32df-4b59-8d84-eaf51d7ca515",
   "metadata": {},
   "source": [
    "Calling tracks_metadata() collects all Track metadata into a dataframe "
   ]
  },
  {
   "cell_type": "code",
   "execution_count": 6,
   "id": "927416a8-02b2-4d4b-9843-d2f4d7f9728b",
   "metadata": {},
   "outputs": [
    {
     "data": {
      "text/html": [
       "<div>\n",
       "<style scoped>\n",
       "    .dataframe tbody tr th:only-of-type {\n",
       "        vertical-align: middle;\n",
       "    }\n",
       "\n",
       "    .dataframe tbody tr th {\n",
       "        vertical-align: top;\n",
       "    }\n",
       "\n",
       "    .dataframe thead th {\n",
       "        text-align: right;\n",
       "    }\n",
       "</style>\n",
       "<table border=\"1\" class=\"dataframe\">\n",
       "  <thead>\n",
       "    <tr style=\"text-align: right;\">\n",
       "      <th></th>\n",
       "      <th>title</th>\n",
       "      <th>number</th>\n",
       "      <th>duration</th>\n",
       "      <th>lyrics</th>\n",
       "    </tr>\n",
       "  </thead>\n",
       "  <tbody>\n",
       "    <tr>\n",
       "      <th>0</th>\n",
       "      <td>Wake Up</td>\n",
       "      <td>1</td>\n",
       "      <td>0 days 00:07:37</td>\n",
       "      <td>None</td>\n",
       "    </tr>\n",
       "    <tr>\n",
       "      <th>1</th>\n",
       "      <td>X-Ray Mind</td>\n",
       "      <td>2</td>\n",
       "      <td>0 days 00:05:12</td>\n",
       "      <td>None</td>\n",
       "    </tr>\n",
       "    <tr>\n",
       "      <th>2</th>\n",
       "      <td>River of Deceit</td>\n",
       "      <td>3</td>\n",
       "      <td>0 days 00:05:03</td>\n",
       "      <td>None</td>\n",
       "    </tr>\n",
       "    <tr>\n",
       "      <th>3</th>\n",
       "      <td>I'm Above</td>\n",
       "      <td>4</td>\n",
       "      <td>0 days 00:05:45</td>\n",
       "      <td>None</td>\n",
       "    </tr>\n",
       "    <tr>\n",
       "      <th>4</th>\n",
       "      <td>ARtificial Red</td>\n",
       "      <td>5</td>\n",
       "      <td>0 days 00:06:16</td>\n",
       "      <td>None</td>\n",
       "    </tr>\n",
       "    <tr>\n",
       "      <th>5</th>\n",
       "      <td>Lifeless Dead</td>\n",
       "      <td>6</td>\n",
       "      <td>0 days 00:04:27</td>\n",
       "      <td>None</td>\n",
       "    </tr>\n",
       "    <tr>\n",
       "      <th>6</th>\n",
       "      <td>I Don't Know Anything</td>\n",
       "      <td>7</td>\n",
       "      <td>0 days 00:05:00</td>\n",
       "      <td>None</td>\n",
       "    </tr>\n",
       "    <tr>\n",
       "      <th>7</th>\n",
       "      <td>Long Gone Day</td>\n",
       "      <td>8</td>\n",
       "      <td>0 days 00:04:50</td>\n",
       "      <td>None</td>\n",
       "    </tr>\n",
       "    <tr>\n",
       "      <th>8</th>\n",
       "      <td>November Hotel</td>\n",
       "      <td>9</td>\n",
       "      <td>0 days 00:07:06</td>\n",
       "      <td>None</td>\n",
       "    </tr>\n",
       "    <tr>\n",
       "      <th>9</th>\n",
       "      <td>All Alone</td>\n",
       "      <td>10</td>\n",
       "      <td>0 days 00:04:13</td>\n",
       "      <td>None</td>\n",
       "    </tr>\n",
       "  </tbody>\n",
       "</table>\n",
       "</div>"
      ],
      "text/plain": [
       "                   title  number        duration lyrics\n",
       "0                Wake Up       1 0 days 00:07:37   None\n",
       "1             X-Ray Mind       2 0 days 00:05:12   None\n",
       "2        River of Deceit       3 0 days 00:05:03   None\n",
       "3              I'm Above       4 0 days 00:05:45   None\n",
       "4         ARtificial Red       5 0 days 00:06:16   None\n",
       "5          Lifeless Dead       6 0 days 00:04:27   None\n",
       "6  I Don't Know Anything       7 0 days 00:05:00   None\n",
       "7          Long Gone Day       8 0 days 00:04:50   None\n",
       "8         November Hotel       9 0 days 00:07:06   None\n",
       "9              All Alone      10 0 days 00:04:13   None"
      ]
     },
     "execution_count": 6,
     "metadata": {},
     "output_type": "execute_result"
    }
   ],
   "source": [
    "album.tracks_metadata()"
   ]
  },
  {
   "cell_type": "markdown",
   "id": "9af4985b-9110-479a-a05c-cb0c0da3f5fa",
   "metadata": {},
   "source": [
    "Calling metadata creates a mostly flat dict (with list of tracks metadata).  Note that in this representation, the releasedate and duration values are still objects from datetime."
   ]
  },
  {
   "cell_type": "code",
   "execution_count": 7,
   "id": "911f54bd-70cb-4215-a3aa-2ae70b0d7423",
   "metadata": {},
   "outputs": [
    {
     "data": {
      "text/plain": [
       "{'name': None,\n",
       " 'artist': 'Mad Season',\n",
       " 'producer': None,\n",
       " 'album': 'Above',\n",
       " 'releasedate': datetime.date(1995, 3, 14),\n",
       " 'genre': None,\n",
       " 'tracks': [{'title': 'Wake Up',\n",
       "   'number': 1,\n",
       "   'duration': Timedelta('0 days 00:07:37'),\n",
       "   'lyrics': None},\n",
       "  {'title': 'X-Ray Mind',\n",
       "   'number': 2,\n",
       "   'duration': Timedelta('0 days 00:05:12'),\n",
       "   'lyrics': None},\n",
       "  {'title': 'River of Deceit',\n",
       "   'number': 3,\n",
       "   'duration': Timedelta('0 days 00:05:03'),\n",
       "   'lyrics': None},\n",
       "  {'title': \"I'm Above\",\n",
       "   'number': 4,\n",
       "   'duration': Timedelta('0 days 00:05:45'),\n",
       "   'lyrics': None},\n",
       "  {'title': 'ARtificial Red',\n",
       "   'number': 5,\n",
       "   'duration': Timedelta('0 days 00:06:16'),\n",
       "   'lyrics': None},\n",
       "  {'title': 'Lifeless Dead',\n",
       "   'number': 6,\n",
       "   'duration': Timedelta('0 days 00:04:27'),\n",
       "   'lyrics': None},\n",
       "  {'title': \"I Don't Know Anything\",\n",
       "   'number': 7,\n",
       "   'duration': Timedelta('0 days 00:05:00'),\n",
       "   'lyrics': None},\n",
       "  {'title': 'Long Gone Day',\n",
       "   'number': 8,\n",
       "   'duration': Timedelta('0 days 00:04:50'),\n",
       "   'lyrics': None},\n",
       "  {'title': 'November Hotel',\n",
       "   'number': 9,\n",
       "   'duration': Timedelta('0 days 00:07:06'),\n",
       "   'lyrics': None},\n",
       "  {'title': 'All Alone',\n",
       "   'number': 10,\n",
       "   'duration': Timedelta('0 days 00:04:13'),\n",
       "   'lyrics': None}]}"
      ]
     },
     "execution_count": 7,
     "metadata": {},
     "output_type": "execute_result"
    }
   ],
   "source": [
    "album.metadata()"
   ]
  },
  {
   "cell_type": "markdown",
   "id": "4d046fa3-fa64-4819-a2b0-66de029683b6",
   "metadata": {},
   "source": [
    "Calling build_model builds the model representation. Note that in this representation, the releasedate and duration values are str."
   ]
  },
  {
   "cell_type": "code",
   "execution_count": 8,
   "id": "bfa08f88-c8f1-48c4-b406-d219ff2d29fc",
   "metadata": {},
   "outputs": [
    {
     "name": "stdout",
     "output_type": "stream",
     "text": [
      "{\n",
      "    \"album\": {\n",
      "        \"artist\": \"Mad Season\",\n",
      "        \"album\": \"Above\",\n",
      "        \"releasedate\": \"1995-03-14\",\n",
      "        \"tracks\": [\n",
      "            {\n",
      "                \"title\": \"Wake Up\",\n",
      "                \"number\": 1,\n",
      "                \"duration\": \"0 days 00:07:37\"\n",
      "            },\n",
      "            {\n",
      "                \"title\": \"X-Ray Mind\",\n",
      "                \"number\": 2,\n",
      "                \"duration\": \"0 days 00:05:12\"\n",
      "            },\n",
      "            {\n",
      "                \"title\": \"River of Deceit\",\n",
      "                \"number\": 3,\n",
      "                \"duration\": \"0 days 00:05:03\"\n",
      "            },\n",
      "            {\n",
      "                \"title\": \"I'm Above\",\n",
      "                \"number\": 4,\n",
      "                \"duration\": \"0 days 00:05:45\"\n",
      "            },\n",
      "            {\n",
      "                \"title\": \"ARtificial Red\",\n",
      "                \"number\": 5,\n",
      "                \"duration\": \"0 days 00:06:16\"\n",
      "            },\n",
      "            {\n",
      "                \"title\": \"Lifeless Dead\",\n",
      "                \"number\": 6,\n",
      "                \"duration\": \"0 days 00:04:27\"\n",
      "            },\n",
      "            {\n",
      "                \"title\": \"I Don't Know Anything\",\n",
      "                \"number\": 7,\n",
      "                \"duration\": \"0 days 00:05:00\"\n",
      "            },\n",
      "            {\n",
      "                \"title\": \"Long Gone Day\",\n",
      "                \"number\": 8,\n",
      "                \"duration\": \"0 days 00:04:50\"\n",
      "            },\n",
      "            {\n",
      "                \"title\": \"November Hotel\",\n",
      "                \"number\": 9,\n",
      "                \"duration\": \"0 days 00:07:06\"\n",
      "            },\n",
      "            {\n",
      "                \"title\": \"All Alone\",\n",
      "                \"number\": 10,\n",
      "                \"duration\": \"0 days 00:04:13\"\n",
      "            }\n",
      "        ]\n",
      "    }\n",
      "}\n"
     ]
    }
   ],
   "source": [
    "model = album.build_model()\n",
    "print(model.json(indent=4))"
   ]
  },
  {
   "cell_type": "markdown",
   "id": "ecd6cd6e-e632-4e84-95e8-574076dd5600",
   "metadata": {},
   "source": [
    "The default queries for the Album class include the default queries for the values defined both in Album as well as in Track, except for the track number which was deleted in the Album's _set_values() method."
   ]
  },
  {
   "cell_type": "code",
   "execution_count": 9,
   "id": "c2f0079a-f91b-40ac-8a86-6de0ec24fdfa",
   "metadata": {},
   "outputs": [
    {
     "name": "stdout",
     "output_type": "stream",
     "text": [
      "# album Query Parameters\n",
      "\n",
      "- __artist__ (*str or list, optional*): Return only the records where artist name contains the given values\n",
      "- __producer__ (*str or list, optional*): Return only the records where producer name matches a given value\n",
      "- __album__ (*str or list, optional*): Return only the records where album title matches a given value\n",
      "- __releasedate__ (*str or list, optional*): Return only the records where release date matches a given value\n",
      "- __genre__ (*str or list, optional*): Return only the records where genre contains a given value\n",
      "- __title__ (*str or list, optional*): Return only the records where track title matches a given value\n",
      "- __lyrics__ (*str or list, optional*): Return only the records where lyrics contains the given values\n",
      "\n"
     ]
    }
   ],
   "source": [
    "print(album.querydoc)"
   ]
  },
  {
   "cell_type": "markdown",
   "id": "57712fc8-cc87-4f63-96f5-2b0f674055f5",
   "metadata": {},
   "source": [
    " "
   ]
  }
 ],
 "metadata": {
  "kernelspec": {
   "display_name": "ipr",
   "language": "python",
   "name": "ipr"
  },
  "language_info": {
   "codemirror_mode": {
    "name": "ipython",
    "version": 3
   },
   "file_extension": ".py",
   "mimetype": "text/x-python",
   "name": "python",
   "nbconvert_exporter": "python",
   "pygments_lexer": "ipython3",
   "version": "3.11.11"
  }
 },
 "nbformat": 4,
 "nbformat_minor": 5
}
